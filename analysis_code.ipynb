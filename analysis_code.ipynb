{
 "cells": [
  {
   "cell_type": "markdown",
   "metadata": {
    "id": "ZKZNqoDKzzxs"
   },
   "source": [
    "# COGS 109 Final Project - Group5\n",
    "\n",
    "# Regression Analysis on Sale Price and Construction Cost of Iran Residential Buildings"
   ]
  },
  {
   "cell_type": "markdown",
   "metadata": {
    "id": "_C3URkUJWIYb"
   },
   "source": [
    "**Member:**\n",
    "\n",
    "\n",
    "1. Yiyi Xu  -    A15403923\n",
    "2. Shuyang Zhang - A15564300\n",
    "3. Xing Hong   - A15867895\n",
    "4. Yuru Zhou   - A16014225\n"
   ]
  },
  {
   "cell_type": "markdown",
   "metadata": {},
   "source": [
    "# Abstract (Including Background)"
   ]
  },
  {
   "cell_type": "markdown",
   "metadata": {},
   "source": [
    "\n",
    "\n",
    "Housing prices are a viral topic in the modern world. Everybody wants to know how the price of the house is determined, and to where it will change in the future. The United States real estate market is mainly influenced by economy, interest rates, average income, population size, etc. However, this might not be the same for other countries in this world.\n",
    "\n",
    "For this project, we collected data from the UCI Machine Learning Repository *http://archive.ics.uci.edu/ml/datasets/Residential+Building+Data+Set* that include essential indicators of housing price and other physical and economic factors corresponding to residential building in Tehran, Iran. The data set consists of 372 samples and 105 variables, which are 8 physical and financial variables, 19 economic variables from 5 time-lags (5*19 = 95), and two output variables: actual construction cost and sale price). This study aims to investigate that whether the sale price and actual construction cost can be accurately predicted based on the chosen physical and economic factors (Total floor area of the building [v2], Price of the unit at the beginning of the project per m^2 [v8], CPI of housing, water, fuel & power in the base year(economic) [v26], and Population of the city(economic) [v28]) as well as their combination. We have implemented a brief correlation check for the datasets we choose in the first place. The result shows that the datasets v2, v8, v26 and v28 are acceptably correlated to the sale price and the actual construction cost.\n",
    "\n",
    "**We hypothesize that for a single predictor, the predicted values of price and cost have a small deviation from the actual observed values without the issue of overfitting; and the model using a single predictor ought to be better than the ones using multiple variables.** To test this hypothesis, we first utilized k-Fold cross-validation techniques to split the data into training data (80%) and testing data(20%), then performed univariate linear regression, multivariate linear regression, and polynomial regression on both training and testing data, and finally calculated the MSE and other supplemental statistics. MSE can be used to test the model's ability to predict new data. Generally, smaller MSE indicates better estimation and greater accuracy. Moreover, a signifies variance between the training MSE with testing MSE flag the overfitting issue. The result showed that univariate linear regression can accurately predict the actual construction costs and actual sale price with the given variables without the issue of overfitting. However, the model using a single predictor ought to be better than the ones using multiple variables When comparing the MSE between univariate and multivariate linear regression models, we can conclude that multivariate linear regression models generally have higher accuracy than univariate linear regression models since multivariate MSE is smaller than univariate MSE. Furthermore, the 4 variables linear regression has the smallest MSE for actual sale price and actual construction costs, which means it can most accurately predict both.\n"
   ]
  },
  {
   "cell_type": "markdown",
   "metadata": {},
   "source": [
    "# Method"
   ]
  },
  {
   "cell_type": "markdown",
   "metadata": {
    "id": "eNojlVbkZU8x"
   },
   "source": [
    "\n",
    "\n",
    "  First, we cleaned the data set to include only the necessary variables — Total floor area of the building [v2], Price of the unit at the beginning of the project per m^2 [v8], CPI of housing, water, fuel & power in the base hear(economic) [v26], and Population of the city(economic) [v28]— and reformatted the column name to create a standardized data set for analysis. With the cleaned data set, we performed descriptive data analysis to identify the general pattern of data points across dimensions. Then we calculated and visualized the Pearson Correlation Matrix to examine the correlation between the variables as well as how the variables correlate with our target outcome. After this step, we can rank the importance of the factors based on the correlation and pick the most influential ones to train the models. Next, we utilized Cross-validation method to split the data into training data (80%) and testing data(20%) for the preparation of univariate and multivariate linear regression.\n",
    "\n",
    "  The reason why we decided to choose linear regression is that our dataset contains continuous variables and categorical variables. We first trained the univariate linear regression model for each variable that we have chosen with training data. We then use the trained linear model on testing data to see whether they can well predict the actual sale price and actual construction cost respectively. This greatly reduces the bias because we use most of the data for fitting, and also greatly reduces the variance because we also leave sufficient data in the validation set. Mean squared error (MSE) , an average squared difference between the estimated values and the actual value, is calculated for each of the univariate linear regression models. It is the criteria we use to evaluate whether the model has a good prediction without the issue of overfitting. The smaller MSE indicates better estimates. In addition, we reported the training MSE and testing MSE with a bar-plot on Price and Cost for the purpose of comparing the error of prediction across all models. Overfitting is suspected when there is a remarkable difference between training MSE and testing MSE, in particular the model accuracy was high with the training data and dropped significantly with respect to the testing data. \n",
    "\n",
    "  Subsequently, we performed a multivariate linear regression model to measure how multiple variables interact together to influence the prediction. We imported the sklearn  linear model package to help us conduct multivariate linear regression more easily. We constructed models for 2 variables, 3 variables, and 4 variables and computed Mean Squared Error (MSE), R-squared, Adjusted R-squared, k-Fold Cross Validation score. The R-squared increases when the number of features increases. Because of this, sometimes a more robust evaluator is preferred to compare the performance between different models. The evaluator is called adjusted R-squared and it only increases, if the addition of the variable reduces the MSE. In general, having a R-squared value closer to 1 and smaller MSE means a better estimation. Instead of using training MSE and testing MSE to check overfitting issues, we can use k-Fold Cross Validation score to flag the issue of overfitting for multivariate linear regression models. The smaller k-Fold Cross Validation score means higher chance of overfitting. \n",
    "\n",
    "  The main idea of linear models is to fit a straight line to our data, considering that the data might have a quadratic distribution, we should choose a quadratic function and applying a polynomial transformation may give us better results as a supplement to our experiment. Therefore, we conducted Polynomial regression as an additional analysis to see whether it has higher accuracy than univariate and multivariate linear regression models.\n"
   ]
  },
  {
   "cell_type": "markdown",
   "metadata": {
    "id": "pxt4HYbUWD9p"
   },
   "source": [
    "**Research Question**\n",
    "\n",
    "Can the sale price and actual construction cost be accurately predicted based on the chosen physical and economic factors :\n",
    "1. Total floor area of the building [v2], \n",
    "2. Price of the unit at the beginning of the project per m^2 [v8], \n",
    "3. CPI of housing, water, fuel & power in the base year(economic) [v26], \n",
    "4. and Population of the city(economic) [v28]) \n",
    "\n",
    "as well as their combinations？\n",
    "\n",
    "We hypothesize that for single predictor, the predicted values of price and cost have a small deviation from the actual observed values without the issue of overfitting; and the model using single predictor ought to be better than the ones using multiple variables."
   ]
  },
  {
   "cell_type": "markdown",
   "metadata": {
    "id": "ZRahpPX12Eiz"
   },
   "source": [
    "# Data Description and Variables"
   ]
  },
  {
   "cell_type": "markdown",
   "metadata": {
    "id": "av1Rq2wx2NPI"
   },
   "source": [
    "Data set includes construction cost, sale prices, project variables, and economic variables corresponding to real estate single-family residential apartments in Tehran, Iran.\n",
    "We will collect our data on the repository of uci(download from a previously published dataset), a collection of real estate single-family residential apartments in Tehran, Iran. Link: http://archive.ics.uci.edu/ml/datasets/Residential+Building+Data+Set\n",
    "\n",
    "**Types of analysis:** Regression"
   ]
  },
  {
   "cell_type": "markdown",
   "metadata": {
    "id": "m1uEm95wdSEF"
   },
   "source": [
    "## I. Importing Modules and Defining an Evaluation Table"
   ]
  },
  {
   "cell_type": "code",
   "execution_count": 2,
   "metadata": {
    "id": "_EspHBLCdKRf"
   },
   "outputs": [],
   "source": [
    "import numpy as np\n",
    "import pandas as pd \n",
    "import matplotlib.pyplot as plt\n",
    "from mpl_toolkits.mplot3d import Axes3D\n",
    "import seaborn as sns\n",
    "import random\n",
    "from sklearn import linear_model\n",
    "from sklearn.preprocessing import PolynomialFeatures\n",
    "from sklearn.model_selection import train_test_split\n",
    "from sklearn.model_selection import cross_val_score\n",
    "from sklearn import metrics\n",
    "import folium\n",
    "from folium.plugins import HeatMap\n",
    "import matplotlib.ticker as ticker\n",
    "%matplotlib inline"
   ]
  },
  {
   "cell_type": "code",
   "execution_count": 3,
   "metadata": {
    "id": "HN8_fE8kc6cq"
   },
   "outputs": [],
   "source": [
    "evaluation = pd.DataFrame({'Model': [],\n",
    "                           'Details':[],\n",
    "                           'Mean Squared Error (MSE)':[],\n",
    "                           'R-squared (training)':[],\n",
    "                           'Adjusted R-squared (training)':[],\n",
    "                           'R-squared (test)':[],\n",
    "                           'Adjusted R-squared (test)':[],\n",
    "                           '5-Fold Cross Validation':[]})\n",
    "evaluation_C = evaluation.copy()"
   ]
  },
  {
   "cell_type": "code",
   "execution_count": 4,
   "metadata": {
    "id": "Al2MbqjPeBMb"
   },
   "outputs": [],
   "source": [
    "def adjustedR2(r2,n,k):\n",
    "    return r2-(k-1)/(n-k)*(1-r2)"
   ]
  },
  {
   "cell_type": "markdown",
   "metadata": {
    "id": "OchKKXI_1H9Z"
   },
   "source": [
    "## II. Data Import and Cleaning\n"
   ]
  },
  {
   "cell_type": "code",
   "execution_count": null,
   "metadata": {},
   "outputs": [],
   "source": [
    " "
   ]
  },
  {
   "cell_type": "code",
   "execution_count": 5,
   "metadata": {
    "colab": {
     "base_uri": "https://localhost:8080/"
    },
    "id": "RHTfCwlF1v1C",
    "outputId": "fc6c0171-b079-43c3-9521-6d36cd406bc9"
   },
   "outputs": [
    {
     "data": {
      "text/plain": [
       "(373, 109)"
      ]
     },
     "execution_count": 5,
     "metadata": {},
     "output_type": "execute_result"
    }
   ],
   "source": [
    "#extract the data from the first sheet of the original excel \n",
    "#turn it into csv file\n",
    "#make a dataframe df_RB_total from the csv file\n",
    "df_RB_total = pd.read_csv('Residential-Building-Data-1.csv')\n",
    "df_RB_total.shape"
   ]
  },
  {
   "cell_type": "code",
   "execution_count": null,
   "metadata": {
    "id": "3CSabPozsqyl"
   },
   "outputs": [],
   "source": []
  },
  {
   "cell_type": "code",
   "execution_count": 6,
   "metadata": {
    "colab": {
     "base_uri": "https://localhost:8080/",
     "height": 469
    },
    "id": "6AjplIBPKJsF",
    "outputId": "5f7b3574-3601-4db0-acda-1c4419430e6f"
   },
   "outputs": [],
   "source": [
    "#create another dataframe df_RB_research that contains the columns that are useful for the research\n",
    "df_RB_research = df_RB_total.loc[:,['PROJECT DATES (PERSIAN CALENDAR)','Unnamed: 1','Unnamed: 2',\n",
    "                                    'Unnamed: 3','Unnamed: 5','Unnamed: 11',\n",
    "                                    'Unnamed: 27','Unnamed: 29','OUTPUTS','Unnamed: 108']]\n",
    "df_RB_research = df_RB_research.rename(columns = {'PROJECT DATES (PERSIAN CALENDAR)':\"START YEAR\",'Unnamed: 1':'START QUARTER',\n",
    "                                                  'Unnamed: 2':\"COMPLETION YEAR\",'Unnamed: 3':'COMPLETION QUARTER',\n",
    "                                                  'Unnamed: 5':'TOTAL FLOOR AERA OF THE BUILDING','Unnamed: 11':\n",
    "                                                  'PRICE of the UNIT at the BEGINNING of the PROJECT per m^2',\n",
    "                                                  'Unnamed: 27':'CPI of HOUSING, WATER, FUEL & POWER in the BASE YEAR',\n",
    "                                                  'Unnamed: 29':'POPULATION of the CITY','OUTPUTS':'Actual sales prices (output)',\n",
    "                                                  'Unnamed: 108':'Actual construction costs (output)'},)\n"
   ]
  },
  {
   "cell_type": "code",
   "execution_count": 7,
   "metadata": {
    "id": "R-4LVD6FDqi1"
   },
   "outputs": [],
   "source": [
    "#create another dataframe df_RB_research that contains the columns that are useful for the research\n",
    "#df_RB_research['PROJECT DATES (PERSIAN CALENDAR)'] = df_RB_total.loc[:,['PROJECT DATES (PERSIAN CALENDAR)']]\n",
    "##df_RB_research"
   ]
  },
  {
   "cell_type": "code",
   "execution_count": 8,
   "metadata": {
    "colab": {
     "base_uri": "https://localhost:8080/",
     "height": 203
    },
    "id": "fH6WUJQ2EmCE",
    "outputId": "3a62d8bb-4f5d-4647-e788-16c77f0c21dd"
   },
   "outputs": [
    {
     "data": {
      "text/html": [
       "<div>\n",
       "<style scoped>\n",
       "    .dataframe tbody tr th:only-of-type {\n",
       "        vertical-align: middle;\n",
       "    }\n",
       "\n",
       "    .dataframe tbody tr th {\n",
       "        vertical-align: top;\n",
       "    }\n",
       "\n",
       "    .dataframe thead th {\n",
       "        text-align: right;\n",
       "    }\n",
       "</style>\n",
       "<table border=\"1\" class=\"dataframe\">\n",
       "  <thead>\n",
       "    <tr style=\"text-align: right;\">\n",
       "      <th></th>\n",
       "      <th>START YEAR</th>\n",
       "      <th>START QUARTER</th>\n",
       "      <th>COMPLETION YEAR</th>\n",
       "      <th>COMPLETION QUARTER</th>\n",
       "      <th>TOTAL FLOOR AERA OF THE BUILDING</th>\n",
       "      <th>PRICE of the UNIT at the BEGINNING of the PROJECT per m^2</th>\n",
       "      <th>CPI of HOUSING, WATER, FUEL &amp; POWER in the BASE YEAR</th>\n",
       "      <th>POPULATION of the CITY</th>\n",
       "      <th>Actual sales prices (output)</th>\n",
       "      <th>Actual construction costs (output)</th>\n",
       "    </tr>\n",
       "  </thead>\n",
       "  <tbody>\n",
       "    <tr>\n",
       "      <th>0</th>\n",
       "      <td>START YEAR</td>\n",
       "      <td>START QUARTER</td>\n",
       "      <td>COMPLETION YEAR</td>\n",
       "      <td>COMPLETION QUARTER</td>\n",
       "      <td>V-2</td>\n",
       "      <td>V-8</td>\n",
       "      <td>V-26</td>\n",
       "      <td>V-28</td>\n",
       "      <td>V-9</td>\n",
       "      <td>V-10</td>\n",
       "    </tr>\n",
       "    <tr>\n",
       "      <th>1</th>\n",
       "      <td>81.00</td>\n",
       "      <td>1.00</td>\n",
       "      <td>85.00</td>\n",
       "      <td>1.00</td>\n",
       "      <td>3150.00</td>\n",
       "      <td>1200.00</td>\n",
       "      <td>63.25</td>\n",
       "      <td>42587</td>\n",
       "      <td>2200.00</td>\n",
       "      <td>410.00</td>\n",
       "    </tr>\n",
       "    <tr>\n",
       "      <th>2</th>\n",
       "      <td>84.00</td>\n",
       "      <td>1.00</td>\n",
       "      <td>89.00</td>\n",
       "      <td>4.00</td>\n",
       "      <td>7600.00</td>\n",
       "      <td>2900.00</td>\n",
       "      <td>105.32</td>\n",
       "      <td>45966</td>\n",
       "      <td>5000.00</td>\n",
       "      <td>1000.00</td>\n",
       "    </tr>\n",
       "  </tbody>\n",
       "</table>\n",
       "</div>"
      ],
      "text/plain": [
       "   START YEAR  START QUARTER  COMPLETION YEAR  COMPLETION QUARTER  \\\n",
       "0  START YEAR  START QUARTER  COMPLETION YEAR  COMPLETION QUARTER   \n",
       "1       81.00           1.00            85.00                1.00   \n",
       "2       84.00           1.00            89.00                4.00   \n",
       "\n",
       "  TOTAL FLOOR AERA OF THE BUILDING  \\\n",
       "0                              V-2   \n",
       "1                          3150.00   \n",
       "2                          7600.00   \n",
       "\n",
       "  PRICE of the UNIT at the BEGINNING of the PROJECT per m^2  \\\n",
       "0                                                V-8          \n",
       "1                                            1200.00          \n",
       "2                                            2900.00          \n",
       "\n",
       "  CPI of HOUSING, WATER, FUEL & POWER in the BASE YEAR POPULATION of the CITY  \\\n",
       "0                                               V-26                     V-28   \n",
       "1                                              63.25                    42587   \n",
       "2                                             105.32                    45966   \n",
       "\n",
       "  Actual sales prices (output) Actual construction costs (output)  \n",
       "0                          V-9                               V-10  \n",
       "1                      2200.00                             410.00  \n",
       "2                      5000.00                            1000.00  "
      ]
     },
     "execution_count": 8,
     "metadata": {},
     "output_type": "execute_result"
    }
   ],
   "source": [
    "df_RB_research.head(3)"
   ]
  },
  {
   "cell_type": "code",
   "execution_count": 11,
   "metadata": {
    "colab": {
     "base_uri": "https://localhost:8080/",
     "height": 452
    },
    "id": "mSmVhOGSEsnk",
    "outputId": "c667355f-2b9b-4014-a829-9cdaa2eb3930"
   },
   "outputs": [
    {
     "data": {
      "text/html": [
       "<div>\n",
       "<style scoped>\n",
       "    .dataframe tbody tr th:only-of-type {\n",
       "        vertical-align: middle;\n",
       "    }\n",
       "\n",
       "    .dataframe tbody tr th {\n",
       "        vertical-align: top;\n",
       "    }\n",
       "\n",
       "    .dataframe thead th {\n",
       "        text-align: right;\n",
       "    }\n",
       "</style>\n",
       "<table border=\"1\" class=\"dataframe\">\n",
       "  <thead>\n",
       "    <tr style=\"text-align: right;\">\n",
       "      <th></th>\n",
       "      <th>index</th>\n",
       "      <th>START YEAR</th>\n",
       "      <th>START QUARTER</th>\n",
       "      <th>COMPLETION YEAR</th>\n",
       "      <th>COMPLETION QUARTER</th>\n",
       "      <th>TOTAL FLOOR AERA OF THE BUILDING</th>\n",
       "      <th>PRICE of the UNIT at the BEGINNING of the PROJECT per m^2</th>\n",
       "      <th>CPI of HOUSING, WATER, FUEL &amp; POWER in the BASE YEAR</th>\n",
       "      <th>POPULATION of the CITY</th>\n",
       "      <th>Actual sales prices (output)</th>\n",
       "      <th>Actual construction costs (output)</th>\n",
       "    </tr>\n",
       "  </thead>\n",
       "  <tbody>\n",
       "    <tr>\n",
       "      <th>0</th>\n",
       "      <td>1</td>\n",
       "      <td>81.00</td>\n",
       "      <td>1.00</td>\n",
       "      <td>85.00</td>\n",
       "      <td>1.00</td>\n",
       "      <td>3150.00</td>\n",
       "      <td>1200.00</td>\n",
       "      <td>63.25</td>\n",
       "      <td>42587</td>\n",
       "      <td>2200.00</td>\n",
       "      <td>410.00</td>\n",
       "    </tr>\n",
       "    <tr>\n",
       "      <th>1</th>\n",
       "      <td>2</td>\n",
       "      <td>84.00</td>\n",
       "      <td>1.00</td>\n",
       "      <td>89.00</td>\n",
       "      <td>4.00</td>\n",
       "      <td>7600.00</td>\n",
       "      <td>2900.00</td>\n",
       "      <td>105.32</td>\n",
       "      <td>45966</td>\n",
       "      <td>5000.00</td>\n",
       "      <td>1000.00</td>\n",
       "    </tr>\n",
       "    <tr>\n",
       "      <th>2</th>\n",
       "      <td>3</td>\n",
       "      <td>78.00</td>\n",
       "      <td>1.00</td>\n",
       "      <td>81.00</td>\n",
       "      <td>4.00</td>\n",
       "      <td>4800.00</td>\n",
       "      <td>630.00</td>\n",
       "      <td>38.34</td>\n",
       "      <td>39066</td>\n",
       "      <td>1200.00</td>\n",
       "      <td>170.00</td>\n",
       "    </tr>\n",
       "  </tbody>\n",
       "</table>\n",
       "</div>"
      ],
      "text/plain": [
       "   index START YEAR START QUARTER COMPLETION YEAR COMPLETION QUARTER  \\\n",
       "0      1      81.00          1.00           85.00               1.00   \n",
       "1      2      84.00          1.00           89.00               4.00   \n",
       "2      3      78.00          1.00           81.00               4.00   \n",
       "\n",
       "  TOTAL FLOOR AERA OF THE BUILDING  \\\n",
       "0                          3150.00   \n",
       "1                          7600.00   \n",
       "2                          4800.00   \n",
       "\n",
       "  PRICE of the UNIT at the BEGINNING of the PROJECT per m^2  \\\n",
       "0                                            1200.00          \n",
       "1                                            2900.00          \n",
       "2                                             630.00          \n",
       "\n",
       "  CPI of HOUSING, WATER, FUEL & POWER in the BASE YEAR POPULATION of the CITY  \\\n",
       "0                                              63.25                    42587   \n",
       "1                                             105.32                    45966   \n",
       "2                                              38.34                    39066   \n",
       "\n",
       "  Actual sales prices (output) Actual construction costs (output)  \n",
       "0                      2200.00                             410.00  \n",
       "1                      5000.00                            1000.00  \n",
       "2                      1200.00                             170.00  "
      ]
     },
     "execution_count": 11,
     "metadata": {},
     "output_type": "execute_result"
    }
   ],
   "source": [
    "#Do data cleaning\n",
    "df_no_first_row = df_RB_research.drop(0).reset_index()\n",
    "df_research = df_no_first_row.dropna()\n",
    "\n",
    "df_research.head(3)"
   ]
  },
  {
   "cell_type": "code",
   "execution_count": 10,
   "metadata": {
    "id": "Bl3XlmyUEkpb"
   },
   "outputs": [
    {
     "data": {
      "text/plain": [
       "array([[1.00000e+00, 8.10000e+01, 1.00000e+00, ..., 4.25870e+04,\n",
       "        2.20000e+03, 4.10000e+02],\n",
       "       [2.00000e+00, 8.40000e+01, 1.00000e+00, ..., 4.59660e+04,\n",
       "        5.00000e+03, 1.00000e+03],\n",
       "       [3.00000e+00, 7.80000e+01, 1.00000e+00, ..., 3.90660e+04,\n",
       "        1.20000e+03, 1.70000e+02],\n",
       "       ...,\n",
       "       [3.70000e+02, 8.40000e+01, 4.00000e+00, ..., 3.53220e+04,\n",
       "        8.60000e+02, 2.20000e+02],\n",
       "       [3.71000e+02, 8.20000e+01, 3.00000e+00, ..., 2.24175e+04,\n",
       "        1.10000e+03, 1.10000e+02],\n",
       "       [3.72000e+02, 8.00000e+01, 1.00000e+00, ..., 4.14070e+04,\n",
       "        4.60000e+02, 5.00000e+01]])"
      ]
     },
     "execution_count": 10,
     "metadata": {},
     "output_type": "execute_result"
    }
   ],
   "source": [
    "# Convert string into values for use\n",
    "df_search = df_research.values\n",
    "# treat the data as array instead of an object\n",
    "df_search = df_search.astype(np.float64)\n"
   ]
  },
  {
   "cell_type": "markdown",
   "metadata": {
    "id": "e2p7D8ly1fjS"
   },
   "source": [
    "## III. Data Visualization (Exploratory Descriptive Analysis)\n",
    "\n"
   ]
  },
  {
   "cell_type": "markdown",
   "metadata": {},
   "source": [
    "**1.Visualization of Total Floor Aera of the Building(V2)**"
   ]
  },
  {
   "cell_type": "code",
   "execution_count": 10,
   "metadata": {
    "colab": {
     "base_uri": "https://localhost:8080/",
     "height": 624
    },
    "id": "Z-gP-ZOYzPLD",
    "outputId": "7869ace1-8bf1-4463-ffa6-1e4fe7909b42"
   },
   "outputs": [
    {
     "data": {
      "text/plain": [
       "<function matplotlib.pyplot.tight_layout(pad=1.08, h_pad=None, w_pad=None, rect=None)>"
      ]
     },
     "execution_count": 10,
     "metadata": {},
     "output_type": "execute_result"
    },
    {
     "data": {
      "image/png": "[encoded data removed]",
      "text/plain": [
       "<Figure size 1080x720 with 4 Axes>"
      ]
     },
     "metadata": {
      "needs_background": "light"
     },
     "output_type": "display_data"
    }
   ],
   "source": [
    "#Visualization of TOTAL FLOOR AERA OF THE BUILDING(v2)\n",
    "plt.rcParams['figure.figsize'] = [15,10]\n",
    "fig,axs1 = plt.subplots(2,2)\n",
    "\n",
    "#plot a scatterplot of TOTAL FLOOR AERA OF THE BUILDING(v2) vs Actual sales prices (output) on the upperleft corner\n",
    "x_totalfloor = df_research[\"TOTAL FLOOR AERA OF THE BUILDING\"].values\n",
    "y_ASP = df_research['Actual sales prices (output)'].values\n",
    "xtick_spacing = 40        \n",
    "ytick_spacing = 10        \n",
    "\n",
    "axs1[0,0].scatter(x_totalfloor,y_ASP,s=8)\n",
    "axs1[0,0].set_title('Total Floor Aera of the Building VS. Actual Sales Prices', fontsize = 13)\n",
    "axs1[0,0].xaxis.set_major_locator(ticker.MultipleLocator(xtick_spacing ))\n",
    "axs1[0,0].yaxis.set_major_locator(ticker.MultipleLocator(ytick_spacing ))\n",
    "\n",
    "#plot a scatterplot of TOTAL FLOOR AERA OF THE BUILDING(v2) vs Actual construction costs (output) on the upperright corner\n",
    "y_ACC = df_research[\"Actual construction costs (output)\"].values\n",
    "\n",
    "axs1[0,1].scatter(x_totalfloor,y_ACC,s=8)\n",
    "axs1[0,1].set_title('Total Floor Aera of the Building VS. Actual construction costs (output)', fontsize = 13)\n",
    "axs1[0,1].xaxis.set_major_locator(ticker.MultipleLocator(xtick_spacing ))\n",
    "axs1[0,1].yaxis.set_major_locator(ticker.MultipleLocator(ytick_spacing ))\n",
    "\n",
    "#plot a boxplot of TOTAL FLOOR AERA OF THE BUILDING(v2) vs Actual sales prices (output) on the lowerleft corner\n",
    "\n",
    "axs1[1,0].hist(x_totalfloor)\n",
    "axs1[1,0].set_title('Total Floor Aera of the Building', fontsize = 13)\n",
    "axs1[1,0].xaxis.set_major_locator(ticker.MultipleLocator(xtick_spacing))\n",
    "axs1[1,0].yaxis.set_major_locator(ticker.MultipleLocator(ytick_spacing ))\n",
    "\n",
    "axs1[1,1].axis('off')\n",
    "plt.tight_layout"
   ]
  },
  {
   "cell_type": "markdown",
   "metadata": {},
   "source": [
    "**2.Visualization of Price of the Unit at the Beginning of the Project per m^2**"
   ]
  },
  {
   "cell_type": "code",
   "execution_count": 297,
   "metadata": {
    "colab": {
     "base_uri": "https://localhost:8080/",
     "height": 640
    },
    "id": "rI4PCKrLzb8O",
    "outputId": "d6d45f25-eb87-4108-95f4-973f4785b6fe"
   },
   "outputs": [
    {
     "data": {
      "text/plain": [
       "(0.0, 1.0, 0.0, 1.0)"
      ]
     },
     "execution_count": 297,
     "metadata": {},
     "output_type": "execute_result"
    },
    {
     "data": {
      "image/png": "[encoded data removed]",
      "text/plain": [
       "<Figure size 1080x720 with 4 Axes>"
      ]
     },
     "metadata": {
      "needs_background": "light"
     },
     "output_type": "display_data"
    }
   ],
   "source": [
    "# Visualization of PRICE of the UNIT at the BEGINNING of the PROJECT per m^2\n",
    "plt.rcParams['figure.figsize'] = [15,10]\n",
    "fig,axs1 = plt.subplots(2,2)\n",
    "\n",
    "#plot a scatterplot of PRICE of the UNIT at the BEGINNING vs Actual sales prices (output) on the upperleft corner\n",
    "x_priceUnit = df_research[\"PRICE of the UNIT at the BEGINNING of the PROJECT per m^2\"].values\n",
    "y_ASP = df_research['Actual sales prices (output)'].values\n",
    "\n",
    "xtick_spacing = 30        \n",
    "ytick_spacing = 10 \n",
    "\n",
    "axs1[0,0].scatter(x_priceUnit,y_ASP,s=8)\n",
    "axs1[0,0].set_title('PRICE of the UNIT at the BEGINNING of\\n the PROJECT per m^2 VS. Actual Sales Prices')\n",
    "axs1[0,0].xaxis.set_major_locator(ticker.MultipleLocator(xtick_spacing))\n",
    "axs1[0,0].yaxis.set_major_locator(ticker.MultipleLocator(ytick_spacing ))\n",
    "\n",
    "#plot a scatterplot of PRICE of the UNIT at the BEGINNING of the PROJECT per m^2 vs Actual construction costs (output) on the upperright corner\n",
    "y_ACC = df_research[\"Actual construction costs (output)\"].values\n",
    "\n",
    "axs1[0,1].scatter(x_priceUnit,y_ACC,s=8)\n",
    "axs1[0,1].set_title('PRICE of the UNIT at the BEGINNING of\\n the PROJECT per m^2 VS. Actual construction costs (output)')\n",
    "axs1[0,1].xaxis.set_major_locator(ticker.MultipleLocator(xtick_spacing ))\n",
    "axs1[0,1].yaxis.set_major_locator(ticker.MultipleLocator(ytick_spacing ))\n",
    "\n",
    "#plot a boxplot of PRICE of the UNIT at the BEGINNING vs Actual sales prices (output) on the lowerleft corner\n",
    "\n",
    "axs1[1,0].hist(x_priceUnit)\n",
    "axs1[1,0].set_title('PRICE of the UNIT at the BEGINNING of the PROJECT per m^2')\n",
    "axs1[1,0].xaxis.set_major_locator(ticker.MultipleLocator(xtick_spacing ))\n",
    "axs1[1,0].yaxis.set_major_locator(ticker.MultipleLocator(ytick_spacing ))\n",
    "\n",
    "axs1[1,1].axis('off')"
   ]
  },
  {
   "cell_type": "markdown",
   "metadata": {},
   "source": [
    "\n",
    "\n",
    "**3.Visualization of CPI of Housing, Water,Fuel & Power in the Base Year**"
   ]
  },
  {
   "cell_type": "code",
   "execution_count": 298,
   "metadata": {
    "colab": {
     "base_uri": "https://localhost:8080/",
     "height": 624
    },
    "id": "zkhNgTB20rom",
    "outputId": "c46b7c66-fbea-49c4-a496-f2e5cd862212"
   },
   "outputs": [
    {
     "data": {
      "text/plain": [
       "(0.0, 1.0, 0.0, 1.0)"
      ]
     },
     "execution_count": 298,
     "metadata": {},
     "output_type": "execute_result"
    },
    {
     "data": {
      "image/png": "[encoded data removed]",
      "text/plain": [
       "<Figure size 1080x720 with 4 Axes>"
      ]
     },
     "metadata": {
      "needs_background": "light"
     },
     "output_type": "display_data"
    }
   ],
   "source": [
    "# Visualization of CPI of HOUSING, WATER, FUEL & POWER in the BASE YEAR\n",
    "plt.rcParams['figure.figsize'] = [15,10]\n",
    "fig,axs1 = plt.subplots(2,2)\n",
    "\n",
    "#plot a scatterplot of CPI of HOUSING, WATER, FUEL & POWER in the BASE YEAR vs Actual sales prices (output) on the upperleft corner\n",
    "x_cpi = df_research[\"CPI of HOUSING, WATER, FUEL & POWER in the BASE YEAR\"].values\n",
    "xtick_spacing = 10        \n",
    "ytick_spacing = 10 \n",
    "\n",
    "axs1[0,0].scatter(x_cpi,y_ASP,s=8)\n",
    "axs1[0,0].set_title('CPI in the BASE YEAR VS. Actual Sales Prices')\n",
    "axs1[0,0].xaxis.set_major_locator(ticker.MultipleLocator(xtick_spacing ))\n",
    "axs1[0,0].yaxis.set_major_locator(ticker.MultipleLocator(ytick_spacing ))\n",
    "\n",
    "#plot a scatterplot of CPI of HOUSING, WATER, FUEL & POWER in the BASE YEAR vs Actual construction costs (output) on the upperright corner\n",
    "\n",
    "axs1[0,1].scatter(x_cpi,y_ACC,s=8)\n",
    "axs1[0,1].set_title('CPI in the BASE YEAR VS. Actual construction costs (output)')\n",
    "axs1[0,1].xaxis.set_major_locator(ticker.MultipleLocator(xtick_spacing ))\n",
    "axs1[0,1].yaxis.set_major_locator(ticker.MultipleLocator(ytick_spacing ))\n",
    "\n",
    "#plot a boxplot of CPI of HOUSING, WATER, FUEL & POWER in the BASE YEAR vs Actual sales prices (output) on the lowerleft corner\n",
    "\n",
    "axs1[1,0].hist(x_cpi)\n",
    "axs1[1,0].set_title('CPI of HOUSING, WATER, FUEL & POWER in the BASE YEAR')\n",
    "axs1[1,0].xaxis.set_major_locator(ticker.MultipleLocator(xtick_spacing ))\n",
    "axs1[1,0].yaxis.set_major_locator(ticker.MultipleLocator(ytick_spacing ))\n",
    "\n",
    "axs1[1,1].axis('off')"
   ]
  },
  {
   "cell_type": "markdown",
   "metadata": {},
   "source": [
    "**4.Visualization of Population of the City**"
   ]
  },
  {
   "cell_type": "code",
   "execution_count": 299,
   "metadata": {
    "colab": {
     "base_uri": "https://localhost:8080/",
     "height": 626
    },
    "id": "eZaPiwId0Ps1",
    "outputId": "66883ad8-bd4d-44cc-88fe-4b046c783afd"
   },
   "outputs": [
    {
     "data": {
      "text/plain": [
       "(0.0, 1.0, 0.0, 1.0)"
      ]
     },
     "execution_count": 299,
     "metadata": {},
     "output_type": "execute_result"
    },
    {
     "data": {
      "image/png": "[encoded data removed]",
      "text/plain": [
       "<Figure size 1080x720 with 4 Axes>"
      ]
     },
     "metadata": {
      "needs_background": "light"
     },
     "output_type": "display_data"
    }
   ],
   "source": [
    "# Visualization of POPULATION of the CITY\n",
    "plt.rcParams['figure.figsize'] = [15,10]\n",
    "fig,axs1 = plt.subplots(2,2)\n",
    "\n",
    "#plot a scatterplot of POPULATION of the CITY vs Actual sales prices (output) on the upperleft corner\n",
    "x_pop = df_research[\"POPULATION of the CITY\"].values\n",
    "xtick_spacing = 10        \n",
    "ytick_spacing = 10 \n",
    "\n",
    "axs1[0,0].scatter(x_pop,y_ASP,s=8)\n",
    "axs1[0,0].set_title('POPULATION of the CITY VS. Actual Sales Prices', fontsize = 15)\n",
    "axs1[0,0].xaxis.set_major_locator(ticker.MultipleLocator(xtick_spacing ))\n",
    "axs1[0,0].yaxis.set_major_locator(ticker.MultipleLocator(ytick_spacing ))\n",
    "\n",
    "#plot a scatterplot of POPULATION of the CITY vs Actual construction costs (output) on the upperright corner\n",
    "\n",
    "axs1[0,1].scatter(x_pop,y_ACC,s=8)\n",
    "axs1[0,1].set_title('POPULATION of the CITY VS. Actual construction costs (output)', fontsize = 15)\n",
    "axs1[0,1].xaxis.set_major_locator(ticker.MultipleLocator(xtick_spacing ))\n",
    "axs1[0,1].yaxis.set_major_locator(ticker.MultipleLocator(ytick_spacing ))\n",
    "\n",
    "#plot a boxplot of POPULATION of the CITY vs Actual sales prices (output) on the lowerleft corner\n",
    "\n",
    "axs1[1,0].hist(x_pop)\n",
    "axs1[1,0].set_title('POPULATION of the CITY', fontsize = 15)\n",
    "axs1[1,0].xaxis.set_major_locator(ticker.MultipleLocator(xtick_spacing ))\n",
    "axs1[1,0].yaxis.set_major_locator(ticker.MultipleLocator(ytick_spacing ))\n",
    "\n",
    "axs1[1,1].axis('off')"
   ]
  },
  {
   "cell_type": "markdown",
   "metadata": {
    "id": "vLt9eomo1zYQ"
   },
   "source": [
    "## IV. Covariance Matrix on the 4 Predictors Mentioned in the Research Question"
   ]
  },
  {
   "cell_type": "code",
   "execution_count": 300,
   "metadata": {
    "colab": {
     "base_uri": "https://localhost:8080/"
    },
    "id": "PVqCbXqCOzba",
    "outputId": "2be7a152-16b5-4185-9c59-b78b8ad8bb97"
   },
   "outputs": [
    {
     "data": {
      "text/plain": [
       "array([[3.24854299e+06, 4.18768911e+05, 8.76318833e+03, 1.40040823e+06,\n",
       "        5.52877513e+05, 7.42512299e+04],\n",
       "       [4.18768911e+05, 9.91669765e+05, 3.27373603e+04, 2.88229800e+06,\n",
       "        1.17274219e+06, 1.27930602e+05],\n",
       "       [8.76318833e+03, 3.27373603e+04, 2.67639639e+03, 2.18811519e+05,\n",
       "        3.78897230e+04, 6.54372771e+03],\n",
       "       [1.40040823e+06, 2.88229800e+06, 2.18811519e+05, 1.92393866e+08,\n",
       "        3.48370953e+06, 6.27799161e+05],\n",
       "       [5.52877513e+05, 1.17274219e+06, 3.78897230e+04, 3.48370953e+06,\n",
       "        1.45463632e+06, 1.56137409e+05],\n",
       "       [7.42512299e+04, 1.27930602e+05, 6.54372771e+03, 6.27799161e+05,\n",
       "        1.56137409e+05, 2.64477544e+04]])"
      ]
     },
     "execution_count": 300,
     "metadata": {},
     "output_type": "execute_result"
    }
   ],
   "source": [
    "data = df_research.values\n",
    "variable_matrix = data[:,5:11]\n",
    "variable_matrix = variable_matrix.astype(np.float64)\n",
    "mean1 = np.mean(variable_matrix[:,0])\n",
    "mean2 = np.mean(variable_matrix[:,1])\n",
    "mean3 = np.mean(variable_matrix[:,2])\n",
    "mean4 = np.mean(variable_matrix[:,3])\n",
    "mean5 = np.mean(variable_matrix[:,4])\n",
    "mean6 = np.mean(variable_matrix[:,5])\n",
    "mean = np.array([mean1, mean2, mean3, mean4, mean5, mean6])\n",
    "sample_num = len(variable_matrix[:,0])\n",
    "\n",
    "# zero-mean data matrix\n",
    "Z = variable_matrix.T - np.tile(mean,[sample_num,1]).T\n",
    "# covariance matrix\n",
    "C = np.matmul(Z, Z.T)/(sample_num - 1)\n",
    "C"
   ]
  },
  {
   "cell_type": "markdown",
   "metadata": {
    "id": "uG50CLTgSkr9"
   },
   "source": [
    "### Pearson correlation matrix on the 4 predictors we picked"
   ]
  },
  {
   "cell_type": "code",
   "execution_count": 301,
   "metadata": {
    "colab": {
     "base_uri": "https://localhost:8080/",
     "height": 922
    },
    "id": "pKP-kOW2iCG3",
    "outputId": "dc215ae7-dfee-4183-9cd4-5243d11e4317"
   },
   "outputs": [
    {
     "name": "stdout",
     "output_type": "stream",
     "text": [
      "Where v2, v8, v26, v28 represent 0, 1, 2, 3, respectively.\n",
      "4, 5 represents Actual sale price and construction cost\n",
      "Note that: \n",
      "V2: Total floor area of the building\n",
      "v8: Price of the unit at the beginning of the project per m^2\n",
      "v26: CPI of housing, water, fuel and power in the base year\n",
      "v28: population of the city\n"
     ]
    },
    {
     "data": {
      "text/html": [
       "<div>\n",
       "<style scoped>\n",
       "    .dataframe tbody tr th:only-of-type {\n",
       "        vertical-align: middle;\n",
       "    }\n",
       "\n",
       "    .dataframe tbody tr th {\n",
       "        vertical-align: top;\n",
       "    }\n",
       "\n",
       "    .dataframe thead th {\n",
       "        text-align: right;\n",
       "    }\n",
       "</style>\n",
       "<table border=\"1\" class=\"dataframe\">\n",
       "  <thead>\n",
       "    <tr style=\"text-align: right;\">\n",
       "      <th></th>\n",
       "      <th>0</th>\n",
       "      <th>1</th>\n",
       "      <th>2</th>\n",
       "      <th>3</th>\n",
       "      <th>4</th>\n",
       "      <th>5</th>\n",
       "    </tr>\n",
       "  </thead>\n",
       "  <tbody>\n",
       "    <tr>\n",
       "      <th>0</th>\n",
       "      <td>1.000000</td>\n",
       "      <td>0.233317</td>\n",
       "      <td>0.093982</td>\n",
       "      <td>0.056016</td>\n",
       "      <td>0.254336</td>\n",
       "      <td>0.253317</td>\n",
       "    </tr>\n",
       "    <tr>\n",
       "      <th>1</th>\n",
       "      <td>0.233317</td>\n",
       "      <td>1.000000</td>\n",
       "      <td>0.635455</td>\n",
       "      <td>0.208670</td>\n",
       "      <td>0.976432</td>\n",
       "      <td>0.789944</td>\n",
       "    </tr>\n",
       "    <tr>\n",
       "      <th>2</th>\n",
       "      <td>0.093982</td>\n",
       "      <td>0.635455</td>\n",
       "      <td>1.000000</td>\n",
       "      <td>0.304929</td>\n",
       "      <td>0.607252</td>\n",
       "      <td>0.777778</td>\n",
       "    </tr>\n",
       "    <tr>\n",
       "      <th>3</th>\n",
       "      <td>0.056016</td>\n",
       "      <td>0.208670</td>\n",
       "      <td>0.304929</td>\n",
       "      <td>1.000000</td>\n",
       "      <td>0.208242</td>\n",
       "      <td>0.278311</td>\n",
       "    </tr>\n",
       "    <tr>\n",
       "      <th>4</th>\n",
       "      <td>0.254336</td>\n",
       "      <td>0.976432</td>\n",
       "      <td>0.607252</td>\n",
       "      <td>0.208242</td>\n",
       "      <td>1.000000</td>\n",
       "      <td>0.796041</td>\n",
       "    </tr>\n",
       "    <tr>\n",
       "      <th>5</th>\n",
       "      <td>0.253317</td>\n",
       "      <td>0.789944</td>\n",
       "      <td>0.777778</td>\n",
       "      <td>0.278311</td>\n",
       "      <td>0.796041</td>\n",
       "      <td>1.000000</td>\n",
       "    </tr>\n",
       "  </tbody>\n",
       "</table>\n",
       "</div>"
      ],
      "text/plain": [
       "          0         1         2         3         4         5\n",
       "0  1.000000  0.233317  0.093982  0.056016  0.254336  0.253317\n",
       "1  0.233317  1.000000  0.635455  0.208670  0.976432  0.789944\n",
       "2  0.093982  0.635455  1.000000  0.304929  0.607252  0.777778\n",
       "3  0.056016  0.208670  0.304929  1.000000  0.208242  0.278311\n",
       "4  0.254336  0.976432  0.607252  0.208242  1.000000  0.796041\n",
       "5  0.253317  0.789944  0.777778  0.278311  0.796041  1.000000"
      ]
     },
     "execution_count": 301,
     "metadata": {},
     "output_type": "execute_result"
    },
    {
     "data": {
      "image/png": "[encoded data removed]",
      "text/plain": [
       "<Figure size 1440x720 with 2 Axes>"
      ]
     },
     "metadata": {
      "needs_background": "light"
     },
     "output_type": "display_data"
    }
   ],
   "source": [
    "# Simple heatmap on corr\n",
    "plt.figure(figsize=(20, 10))\n",
    "target = pd.DataFrame(variable_matrix)\n",
    "corr = target.corr(method = 'pearson')\n",
    "sns.heatmap(corr,  annot = True)\n",
    "print('Where v2, v8, v26, v28 represent 0, 1, 2, 3, respectively.')\n",
    "print('4, 5 represents Actual sale price and construction cost')\n",
    "print('Note that: ')\n",
    "print('V2: Total floor area of the building') \n",
    "print('v8: Price of the unit at the beginning of the project per m^2') \n",
    "print('v26: CPI of housing, water, fuel and power in the base year')\n",
    "print('v28: population of the city')\n",
    "corr"
   ]
  },
  {
   "cell_type": "markdown",
   "metadata": {
    "id": "ICx5tR72aaof"
   },
   "source": [
    "Based on the correlation matrix, we can conclude that *v8 & v26* has the most correlation, while ***v8*** correlates with both *Sale Price* and *Construction cost* the most (0.98 & 0.79). Addition to that, *Sale Price* and *Cost* are highly correlated. Seemingly, ***v8 and v26*** strongly correlated with the *Price* and *Cost*."
   ]
  },
  {
   "cell_type": "raw",
   "metadata": {
    "id": "tD-TWJWqi0jM"
   },
   "source": []
  },
  {
   "cell_type": "raw",
   "metadata": {
    "id": "Dw9PG9UJiYBD"
   },
   "source": []
  },
  {
   "cell_type": "markdown",
   "metadata": {
    "id": "0XZX-38w6pjp"
   },
   "source": [
    "## V. Data Preprocessing: split into training and test data sets"
   ]
  },
  {
   "cell_type": "code",
   "execution_count": 302,
   "metadata": {
    "id": "mNBf52nf6sQk"
   },
   "outputs": [],
   "source": [
    "# shuffle and split data\n",
    "#split the data set into 20% testing data and 80% training data\n",
    "df_values = df_research.values\n",
    "df_train, df_test = train_test_split(df_values, test_size = 0.2, train_size = 0.8, shuffle = True)"
   ]
  },
  {
   "cell_type": "markdown",
   "metadata": {
    "id": "WBak_uY02xmZ"
   },
   "source": [
    "## VI. Univariate Regression"
   ]
  },
  {
   "cell_type": "code",
   "execution_count": 303,
   "metadata": {
    "id": "tbCk2mkB19Ve"
   },
   "outputs": [],
   "source": [
    "# Note that the predictors involved are v2, v8, v26, v28\n",
    "# and v9, 10 are used for regression\n",
    "# V2: Total floor area of the building\n",
    "# v8: Price of the unit at the beginning of the project per m^2\n",
    "# v26: CPI of housing, water, fuel and power in the base year\n",
    "# v28: population of the city\n",
    "# v9(output): Actual sale prices\n",
    "# v10(output): Actual construction costs\n",
    "df_use = df_train"
   ]
  },
  {
   "cell_type": "markdown",
   "metadata": {
    "id": "zxpkeeA13ImQ"
   },
   "source": [
    "### Model 1: Actual Sale Price = w0 + w1*V2 where V2 is Total floor area of the building, and w0, w1 are the weights."
   ]
  },
  {
   "cell_type": "code",
   "execution_count": 304,
   "metadata": {
    "id": "UhEEQf1J3X1g"
   },
   "outputs": [],
   "source": [
    "v2_model_1 = df_use[:, 5]\n",
    "Actual_Sale_Price_M1 = df_use[:, 9]"
   ]
  },
  {
   "cell_type": "code",
   "execution_count": 305,
   "metadata": {
    "colab": {
     "base_uri": "https://localhost:8080/"
    },
    "id": "YjO1IZmd_kZ8",
    "outputId": "6882735f-0cff-4f38-cd7e-38875633974b"
   },
   "outputs": [
    {
     "data": {
      "text/plain": [
       "(297, 2)"
      ]
     },
     "execution_count": 305,
     "metadata": {},
     "output_type": "execute_result"
    }
   ],
   "source": [
    "## Create A, the augmented data array\n",
    "X = v2_model_1 \n",
    "X = X.astype(np.float64) # X was treated as an object and needed to be floats\n",
    "Y = Actual_Sale_Price_M1\n",
    "Y = np.array(Y)\n",
    "Y = Y.astype(np.float64)\n",
    "\n",
    "ones = np.ones([len(X), ], dtype = int)\n",
    "A = np.vstack((ones, X))\n",
    "A1 = A.transpose()\n",
    "A1.shape"
   ]
  },
  {
   "cell_type": "code",
   "execution_count": 306,
   "metadata": {
    "colab": {
     "base_uri": "https://localhost:8080/"
    },
    "id": "-v68M3agCBq8",
    "outputId": "77eca35b-3c13-40ca-c843-81c94671fcba"
   },
   "outputs": [
    {
     "data": {
      "text/plain": [
       "array([1.04354842e+03, 2.12883132e-01])"
      ]
     },
     "execution_count": 306,
     "metadata": {},
     "output_type": "execute_result"
    }
   ],
   "source": [
    "## Solve for w, the weight vector\n",
    "ws = np.linalg.lstsq(A1, Y, rcond=None)[0]\n",
    "ws"
   ]
  },
  {
   "cell_type": "code",
   "execution_count": 307,
   "metadata": {
    "colab": {
     "base_uri": "https://localhost:8080/"
    },
    "id": "QZdmruRwVCJQ",
    "outputId": "6232a3b9-d33c-4bec-a535-08d9b80e102c"
   },
   "outputs": [
    {
     "name": "stdout",
     "output_type": "stream",
     "text": [
      "Model1: Actual Sale Price = 1043.548416 + 0.212883 * V2 \n"
     ]
    }
   ],
   "source": [
    "print('Model1: Actual Sale Price = %f + %f * V2 ' % (ws[0], ws[1]))"
   ]
  },
  {
   "cell_type": "markdown",
   "metadata": {
    "id": "yXTnxXKo3AZT"
   },
   "source": [
    "### Model 2: Actual construction costs = w0 + w1*V2 where V2 is Total floor area of the building, and w0, w1 are the weights."
   ]
  },
  {
   "cell_type": "code",
   "execution_count": 308,
   "metadata": {
    "colab": {
     "base_uri": "https://localhost:8080/"
    },
    "id": "2WMG7-5D3aI8",
    "outputId": "c0e13664-7d59-4387-ed0f-4f06e1e912c2"
   },
   "outputs": [
    {
     "name": "stdout",
     "output_type": "stream",
     "text": [
      "Model2: Actual construction costs = 183.782995 + 0.027523 * V2 \n"
     ]
    }
   ],
   "source": [
    "v2_model_2 = df_use[:, 5]\n",
    "Actual_construction_costs = df_use[:, 10]\n",
    "## Create A, the augmented data array\n",
    "X2 = v2_model_2 \n",
    "X2 = X2.astype(np.float64) # X was treated as an object and needed to be floats\n",
    "Y2 = Actual_construction_costs\n",
    "Y2 = np.array(Y2)\n",
    "Y2 = Y2.astype(np.float64)\n",
    "\n",
    "ones2 = np.ones([len(X2), ], dtype = int)\n",
    "A2 = np.vstack((ones2, X2))\n",
    "A22 = A2.transpose()\n",
    "A22.shape # 372 X 2\n",
    "## Solve for w, the weight vector\n",
    "ws2 = np.linalg.lstsq(A22, Y2, rcond=None)[0]\n",
    "print('Model2: Actual construction costs = %f + %f * V2 ' % (ws2[0], ws2[1]))"
   ]
  },
  {
   "cell_type": "markdown",
   "metadata": {
    "id": "jfMwFJpj3a97"
   },
   "source": [
    "### Model 3: Actual Sale Price = w0 + w1*V8 where V8 is Price of the unit at the beginning of the project per m^2, and w0, w1 are the weights."
   ]
  },
  {
   "cell_type": "code",
   "execution_count": 309,
   "metadata": {
    "colab": {
     "base_uri": "https://localhost:8080/"
    },
    "id": "DcQEmRYF31qN",
    "outputId": "78f241bb-ef1d-4560-82d0-e3d5eec592c1"
   },
   "outputs": [
    {
     "name": "stdout",
     "output_type": "stream",
     "text": [
      "Model3: Actual Sale Price = 100.046507 + 1.186078 * V8 \n"
     ]
    }
   ],
   "source": [
    "v8_model_3 = df_use[:, 6]\n",
    "Actual_Sale_Price = df_use[:, 9]\n",
    "## Create A, the augmented data array\n",
    "X3 = v8_model_3\n",
    "X3 = X3.astype(np.float64) # X was treated as an object and needed to be floats\n",
    "Y3 = Actual_Sale_Price\n",
    "Y3 = np.array(Y3)\n",
    "Y3 = Y3.astype(np.float64)\n",
    "\n",
    "ones3 = np.ones([len(X3), ], dtype = int)\n",
    "A3 = np.vstack((ones3, X3))\n",
    "A33 = A3.transpose()\n",
    "A33.shape # 372 X 2\n",
    "## Solve for w, the weight vector\n",
    "ws3 = np.linalg.lstsq(A33, Y3, rcond=None)[0]\n",
    "print('Model3: Actual Sale Price = %f + %f * V8 ' % (ws3[0], ws3[1]))"
   ]
  },
  {
   "cell_type": "markdown",
   "metadata": {
    "id": "qn9qiaPw4RXS"
   },
   "source": [
    "### Model 4: Actual construction costs = w0 + w1*V8 where V8 is Price of the unit at the beginning of the project per m^2, and w0, w1 are the weights."
   ]
  },
  {
   "cell_type": "code",
   "execution_count": 310,
   "metadata": {
    "colab": {
     "base_uri": "https://localhost:8080/"
    },
    "id": "5AEmwgo94qd3",
    "outputId": "7add7c32-0ae4-4e52-b466-41841cea59d0"
   },
   "outputs": [
    {
     "name": "stdout",
     "output_type": "stream",
     "text": [
      "Model4: Actual construction costs = 94.975321 + 0.123372 * V8 \n"
     ]
    }
   ],
   "source": [
    "v8_model_4 = df_use[:, 6]\n",
    "Actual_construction_costs = df_use[:, 10]\n",
    "## Create A, the augmented data array\n",
    "X4 = v8_model_4\n",
    "X4 = X4.astype(np.float64) # X was treated as an object and needed to be floats\n",
    "Y4 = Actual_construction_costs\n",
    "Y4 = np.array(Y4)\n",
    "Y4 = Y4.astype(np.float64)\n",
    "\n",
    "ones4 = np.ones([len(X4), ], dtype = int)\n",
    "A4 = np.vstack((ones4, X4))\n",
    "A44 = A4.transpose()\n",
    "A44.shape # 372 X 2\n",
    "## Solve for w, the weight vector\n",
    "ws4 = np.linalg.lstsq(A44, Y4, rcond=None)[0]\n",
    "print('Model4: Actual construction costs = %f + %f * V8 ' % (ws4[0], ws4[1]))"
   ]
  },
  {
   "cell_type": "markdown",
   "metadata": {
    "id": "tzW5wBNz4cEQ"
   },
   "source": [
    "### Model 5: Actual Sale Price = w0 + w1*V26 where V26 is CPI of housing, water, fuel and power in the base year, and w0, w1 are the weights."
   ]
  },
  {
   "cell_type": "code",
   "execution_count": 311,
   "metadata": {
    "colab": {
     "base_uri": "https://localhost:8080/"
    },
    "id": "zsmWr1Cd4bSj",
    "outputId": "915223db-a62d-404d-d628-ebe92a8a8c27"
   },
   "outputs": [
    {
     "name": "stdout",
     "output_type": "stream",
     "text": [
      "Model5: Actual Sale Price = 126.129641 + 14.770122 * V26 \n"
     ]
    }
   ],
   "source": [
    "v26_model_5 = df_use[:, 7]\n",
    "Actual_Sale_Price = df_use[:, 9]\n",
    "## Create A, the augmented data array\n",
    "X5 = v26_model_5\n",
    "X5 = X5.astype(np.float64) # X was treated as an object and needed to be floats\n",
    "Y5 = Actual_Sale_Price\n",
    "Y5 = np.array(Y5)\n",
    "Y5 = Y5.astype(np.float64)\n",
    "\n",
    "ones5 = np.ones([len(X5), ], dtype = int)\n",
    "A5 = np.vstack((ones5, X5))\n",
    "A55 = A5.transpose()\n",
    "A55.shape # 372 X 2\n",
    "## Solve for w, the weight vector\n",
    "ws5 = np.linalg.lstsq(A55, Y5, rcond=None)[0]\n",
    "print('Model5: Actual Sale Price = %f + %f * V26 ' % (ws5[0], ws5[1]))"
   ]
  },
  {
   "cell_type": "markdown",
   "metadata": {
    "id": "G4fQG-vY4sHz"
   },
   "source": [
    "### Model 6: Actual construction costs = w0 + w1*V26 where V26 is CPI of housing, water, fuel and power in the base year, and w0, w1 are the weights."
   ]
  },
  {
   "cell_type": "code",
   "execution_count": 312,
   "metadata": {
    "colab": {
     "base_uri": "https://localhost:8080/"
    },
    "id": "25EdbwiF5Byh",
    "outputId": "c8826107-338e-4c2b-9f57-cb631a14f0fe"
   },
   "outputs": [
    {
     "name": "stdout",
     "output_type": "stream",
     "text": [
      "Model6: Actual construction costs = 16.997770 + 2.462560 * V26 \n"
     ]
    }
   ],
   "source": [
    "v26_model_6 = df_use[:, 7]\n",
    "Actual_construction_costs = df_use[:, 10]\n",
    "## Create A, the augmented data array\n",
    "X6 = v26_model_6\n",
    "X6 = X6.astype(np.float64) # X was treated as an object and needed to be floats\n",
    "Y6 = Actual_construction_costs\n",
    "Y6 = np.array(Y6)\n",
    "Y6 = Y6.astype(np.float64)\n",
    "\n",
    "ones6 = np.ones([len(X6), ], dtype = int)\n",
    "A6 = np.vstack((ones6, X6))\n",
    "A66 = A6.transpose()\n",
    "A66.shape # 372 X 2\n",
    "## Solve for w, the weight vector\n",
    "ws6 = np.linalg.lstsq(A66, Y6, rcond=None)[0]\n",
    "print('Model6: Actual construction costs = %f + %f * V26 ' % (ws6[0], ws6[1]))"
   ]
  },
  {
   "cell_type": "code",
   "execution_count": null,
   "metadata": {
    "id": "4Z0WyKsEosv3"
   },
   "outputs": [],
   "source": []
  },
  {
   "cell_type": "markdown",
   "metadata": {
    "id": "c1PkrSWA42XV"
   },
   "source": [
    "### Model 7: Actual Sale Price = w0 + w1*V28 where V28 is population of the city, and w0, w1 are the weights."
   ]
  },
  {
   "cell_type": "code",
   "execution_count": 313,
   "metadata": {
    "colab": {
     "base_uri": "https://localhost:8080/"
    },
    "id": "ISKZxZas404q",
    "outputId": "9593f835-f2ef-4e96-8e97-ad794fef054c"
   },
   "outputs": [
    {
     "name": "stdout",
     "output_type": "stream",
     "text": [
      "Model7: Actual Sale Price = 833.073955 + 0.020715 * V28 \n"
     ]
    }
   ],
   "source": [
    "v28_model_7 = df_use[:, 8]\n",
    "Actual_Sale_Price = df_use[:, 9]\n",
    "## Create A, the augmented data array\n",
    "X7 = v28_model_7\n",
    "X7 = X7.astype(np.float64) # X was treated as an object and needed to be floats\n",
    "Y7 = Actual_Sale_Price\n",
    "Y7 = np.array(Y7)\n",
    "Y7 = Y7.astype(np.float64)\n",
    "\n",
    "ones7 = np.ones([len(X7), ], dtype = int)\n",
    "A7 = np.vstack((ones7, X7))\n",
    "A77 = A7.transpose()\n",
    "A77.shape # 372 X 2\n",
    "## Solve for w, the weight vector\n",
    "ws7 = np.linalg.lstsq(A77, Y7, rcond=None)[0]\n",
    "print('Model7: Actual Sale Price = %f + %f * V28 ' % (ws7[0], ws7[1]))"
   ]
  },
  {
   "cell_type": "markdown",
   "metadata": {
    "id": "lBp1UCZY5C3S"
   },
   "source": [
    "### Model 8: Actual construction costs = w0 + w1*V28 where V28 is population of the city, and w0, w1 are the weights."
   ]
  },
  {
   "cell_type": "code",
   "execution_count": 314,
   "metadata": {
    "colab": {
     "base_uri": "https://localhost:8080/"
    },
    "id": "nLTXeqGP5H5d",
    "outputId": "3627ba6f-5073-4235-af22-4125e218bd2b"
   },
   "outputs": [
    {
     "name": "stdout",
     "output_type": "stream",
     "text": [
      "Model8: Actual construction costs = 138.757408 + 0.003315 * V28 \n"
     ]
    }
   ],
   "source": [
    "v28_model_8 = df_use[:, 8]\n",
    "Actual_construction_costs = df_use[:, 10]\n",
    "## Create A, the augmented data array\n",
    "X8 = v28_model_8\n",
    "X8 = X8.astype(np.float64) # X was treated as an object and needed to be floats\n",
    "Y8 = Actual_construction_costs\n",
    "Y8 = np.array(Y8)\n",
    "Y8 = Y8.astype(np.float64)\n",
    "\n",
    "ones8 = np.ones([len(X8), ], dtype = int)\n",
    "A8 = np.vstack((ones8, X8))\n",
    "A88 = A8.transpose()\n",
    "A88.shape # 372 X 2\n",
    "## Solve for w, the weight vector\n",
    "ws8 = np.linalg.lstsq(A88, Y8, rcond=None)[0]\n",
    "print('Model8: Actual construction costs = %f + %f * V28 ' % (ws8[0], ws8[1]))"
   ]
  },
  {
   "cell_type": "markdown",
   "metadata": {
    "id": "Mxt0uuTO3iAd"
   },
   "source": [
    "### Graphs of Model 1 to Model 4"
   ]
  },
  {
   "cell_type": "code",
   "execution_count": null,
   "metadata": {
    "id": "0tYDoeyyoEfQ"
   },
   "outputs": [],
   "source": []
  },
  {
   "cell_type": "code",
   "execution_count": 315,
   "metadata": {
    "id": "tYuocPQLgWm2"
   },
   "outputs": [],
   "source": [
    "c\n",
    "M1_predict = ws[0] + ws[1] * X\n",
    "M2_predict = ws2[0] + ws2[1] * X2\n",
    "M3_predict = ws3[0] + ws3[1] * X3\n",
    "M4_predict = ws4[0] + ws4[1] * X4"
   ]
  },
  {
   "cell_type": "code",
   "execution_count": 316,
   "metadata": {
    "colab": {
     "base_uri": "https://localhost:8080/",
     "height": 638
    },
    "id": "In3zLNdk34Dv",
    "outputId": "00476355-3ef4-44ef-da2f-c7699fc91099"
   },
   "outputs": [
    {
     "data": {
      "text/plain": [
       "<matplotlib.legend.Legend at 0x7fdecc89a080>"
      ]
     },
     "execution_count": 316,
     "metadata": {},
     "output_type": "execute_result"
    },
    {
     "data": {
      "image/png": "[encoded data removed]",
      "text/plain": [
       "<Figure size 1080x720 with 4 Axes>"
      ]
     },
     "metadata": {
      "needs_background": "light"
     },
     "output_type": "display_data"
    }
   ],
   "source": [
    "fig, axes1 = plt.subplots(2, 2, figsize=(15, 10))\n",
    "# Model 1\n",
    "axes1[0][0].scatter(X, Y, s = 10, label = 'data')\n",
    "axes1[0][0].plot(X, M1_predict, color = 'y', label = 'Model_1')\n",
    "axes1[0][0].set(xlabel = 'total floor area of the building', ylabel = 'Actual Sale Price', title = 'Model 1')\n",
    "axes1[0][0].legend(shadow = True, markerscale = 10, fontsize = 20)\n",
    "\n",
    "# Model 2\n",
    "axes1[0][1].scatter(X2, Y2, s = 10, label = 'data')\n",
    "axes1[0][1].plot(X2, M2_predict, color = 'b', label = 'Model_2')\n",
    "axes1[0][1].set(xlabel = 'total floor area of the building', ylabel = 'Actual constructino costs', title = 'Model 2')\n",
    "axes1[0][1].legend(shadow = True, markerscale = 10, fontsize = 20)\n",
    "\n",
    "# Model 3\n",
    "axes1[1][0].scatter(X3, Y3, s = 10, label = 'data')\n",
    "axes1[1][0].plot(X3, M3_predict, color = 'r', label = 'Model_3')\n",
    "axes1[1][0].set(xlabel = 'price of unit at beginning of project per m^2', ylabel = 'Actual Sale Price', title = 'Model 3')\n",
    "axes1[1][0].legend(shadow = True, markerscale = 10, fontsize = 20)\n",
    "\n",
    "# Model 4\n",
    "axes1[1][1].scatter(X4, Y4, s = 10, label = 'data')\n",
    "axes1[1][1].plot(X4, M4_predict, color = 'g', label = 'Model_4')\n",
    "axes1[1][1].set(xlabel = 'price of unit at beginning of project per m^2', ylabel = 'Actual constructino costs', title = 'Model 4')\n",
    "axes1[1][1].legend(shadow = True, markerscale = 10, fontsize = 20)"
   ]
  },
  {
   "cell_type": "code",
   "execution_count": null,
   "metadata": {
    "id": "ZI0aoTW0INrD"
   },
   "outputs": [],
   "source": []
  },
  {
   "cell_type": "markdown",
   "metadata": {
    "id": "MsurQ1Gie-5R"
   },
   "source": [
    "### Graphs of Model 5 to Model 8"
   ]
  },
  {
   "cell_type": "code",
   "execution_count": null,
   "metadata": {
    "id": "392yQ5lnjOG5"
   },
   "outputs": [],
   "source": []
  },
  {
   "cell_type": "code",
   "execution_count": 317,
   "metadata": {
    "id": "myByF2Ong7D4"
   },
   "outputs": [],
   "source": [
    "M5_predict = ws5[0] + ws5[1] * X5 \n",
    "M6_predict = ws6[0] + ws6[1] * X6\n",
    "M7_predict = ws7[0] + ws7[1] * X7\n",
    "M8_predict = ws8[0] + ws8[1] * X8"
   ]
  },
  {
   "cell_type": "code",
   "execution_count": 318,
   "metadata": {
    "colab": {
     "base_uri": "https://localhost:8080/",
     "height": 638
    },
    "id": "FuUgwZ5Ce-CU",
    "outputId": "88960cb6-9cbb-4da9-b85c-c10dcd91bc48"
   },
   "outputs": [
    {
     "data": {
      "text/plain": [
       "<matplotlib.legend.Legend at 0x7fdecc385d68>"
      ]
     },
     "execution_count": 318,
     "metadata": {},
     "output_type": "execute_result"
    },
    {
     "data": {
      "image/png": "[encoded data removed]",
      "text/plain": [
       "<Figure size 1080x720 with 4 Axes>"
      ]
     },
     "metadata": {
      "needs_background": "light"
     },
     "output_type": "display_data"
    }
   ],
   "source": [
    "fig1, axes2 = plt.subplots(2, 2, figsize=(15, 10))\n",
    "# Model 5\n",
    "axes2[0][0].scatter(X5, Y5, s = 10, label = 'data')\n",
    "axes2[0][0].plot(X5, M5_predict,2, color = 'y', label = 'Model_5')\n",
    "axes2[0][0].set(xlabel = 'CPI', ylabel = 'Actual Sale Price', title = 'Model 5')\n",
    "axes2[0][0].legend(shadow = True, markerscale = 7, fontsize = 15)\n",
    "# Model 6\n",
    "axes2[0][1].scatter(X6, Y6, s = 10, label = 'data')\n",
    "axes2[0][1].plot(X6, M6_predict, color = 'b', label = 'Model_6')\n",
    "axes2[0][1].set(xlabel = 'CPI', ylabel = 'Actual construction costs', title = 'Model 6')\n",
    "axes2[0][1].legend(shadow = True, markerscale = 7, fontsize = 15)\n",
    "# Model 7\n",
    "axes2[1][0].scatter(X7, Y7, s = 10, label = 'data')\n",
    "axes2[1][0].plot(X7, M7_predict, color = 'r', label = 'Model_7')\n",
    "axes2[1][0].set(xlabel = 'Population of the city', ylabel = 'Actual Sale Price', title = 'Model 7')\n",
    "axes2[1][0].legend(shadow = True, markerscale = 7, fontsize = 15)\n",
    "# Model 8\n",
    "axes2[1][1].scatter(X8, Y8, s = 10, label = 'data')\n",
    "axes2[1][1].plot(X8, M8_predict, color = 'g', label = 'Model_8')\n",
    "axes2[1][1].set(xlabel = 'Population of the city', ylabel = 'Actual construction costs', title = 'Model 8')\n",
    "axes2[1][1].legend(shadow = True, markerscale = 7, fontsize = 15)"
   ]
  },
  {
   "cell_type": "markdown",
   "metadata": {},
   "source": [
    "From the eight one degree univariate linear regression model graphs above, Model 3, Model 4 and Model 6 showed that they were good fit for the data. However, Model 1, Model 2, Model7 and Model 8 are not appropriate model for prediction."
   ]
  },
  {
   "cell_type": "markdown",
   "metadata": {
    "id": "_d1MQ0Q4HjHT"
   },
   "source": [
    "### MSE and Cross Validation of Univariate Regression:"
   ]
  },
  {
   "cell_type": "code",
   "execution_count": 319,
   "metadata": {
    "id": "mdXZ4HXM369j"
   },
   "outputs": [],
   "source": [
    "sample_size = len(v2_model_1)\n",
    "MSE_model1 = ((Y - M1_predict)**2).sum()/sample_size\n",
    "MSE_model2 = ((Y2 - M2_predict)**2).sum()/sample_size\n",
    "MSE_model3 = ((Y3 - M3_predict)**2).sum()/sample_size\n",
    "MSE_model4 = ((Y4 - M4_predict)**2).sum()/sample_size\n",
    "MSE_model5 = ((Y5 - M5_predict)**2).sum()/sample_size\n",
    "MSE_model6 = ((Y6 - M6_predict)**2).sum()/sample_size\n",
    "MSE_model7 = ((Y7 - M7_predict)**2).sum()/sample_size\n",
    "MSE_model8 = ((Y8 - M8_predict)**2).sum()/sample_size"
   ]
  },
  {
   "cell_type": "code",
   "execution_count": 320,
   "metadata": {
    "id": "QrTjAF694jhf"
   },
   "outputs": [],
   "source": [
    "test_samplesize = len(df_test[:,5])\n",
    "y_saleprice_test = df_test[:,9]\n",
    "y_saleprice_test = y_saleprice_test.astype(np.float64)\n",
    "y_constrPrice_test = df_test[:,10]\n",
    "y_constrPrice_test = y_constrPrice_test.astype(np.float64)\n",
    "v2_test = df_test[:,5]\n",
    "v2_test = v2_test.astype(np.float64)\n",
    "v8_test = df_test[:,6]\n",
    "v8_test = v8_test.astype(np.float64)\n",
    "v26_test = df_test[:,7]\n",
    "v26_test = v26_test.astype(np.float64)\n",
    "v28_test = df_test[:,8]\n",
    "v28_test = v28_test.astype(np.float64)\n",
    "\n",
    "M1_test_predict = ws[0] + ws[1] * v2_test\n",
    "M2_test_predict = ws2[0] + ws2[1] * v2_test\n",
    "M3_test_predict = ws3[0] + ws3[1] * v8_test\n",
    "M4_test_predict = ws4[0] + ws4[1] * v8_test\n",
    "M5_test_predict = ws5[0] + ws5[1] * v26_test\n",
    "M6_test_predict = ws6[0] + ws6[1] * v26_test\n",
    "M7_test_predict = ws7[0] + ws7[1] * v28_test\n",
    "M8_test_predict = ws8[0] + ws8[1] * v28_test"
   ]
  },
  {
   "cell_type": "code",
   "execution_count": 321,
   "metadata": {
    "id": "t4CVOk19JiCu"
   },
   "outputs": [],
   "source": [
    "MSE_model1_test = ((y_saleprice_test - M1_test_predict)**2).sum()/test_samplesize\n",
    "MSE_model2_test = ((y_constrPrice_test - M2_test_predict)**2).sum()/test_samplesize\n",
    "MSE_model3_test = ((y_saleprice_test - M3_test_predict)**2).sum()/test_samplesize\n",
    "MSE_model4_test = ((y_constrPrice_test - M4_test_predict)**2).sum()/test_samplesize\n",
    "MSE_model5_test = ((y_saleprice_test - M5_test_predict)**2).sum()/test_samplesize\n",
    "MSE_model6_test = ((y_constrPrice_test - M6_test_predict)**2).sum()/test_samplesize\n",
    "MSE_model7_test = ((y_saleprice_test - M7_test_predict)**2).sum()/test_samplesize\n",
    "MSE_model8_test = ((y_constrPrice_test - M8_test_predict)**2).sum()/test_samplesize"
   ]
  },
  {
   "cell_type": "markdown",
   "metadata": {
    "id": "juXM6Dh137wq"
   },
   "source": [
    "### MSE of Model 1, 3, 5, 7 for Training and Test data on *Price*"
   ]
  },
  {
   "cell_type": "code",
   "execution_count": 322,
   "metadata": {
    "colab": {
     "base_uri": "https://localhost:8080/",
     "height": 689
    },
    "id": "uxLyOq_hlxbf",
    "outputId": "5d7fbe8c-c54c-43de-f6d0-c76757a862e5"
   },
   "outputs": [
    {
     "data": {
      "image/png": "[encoded data removed]",
      "text/plain": [
       "<Figure size 1080x720 with 1 Axes>"
      ]
     },
     "metadata": {
      "needs_background": "light"
     },
     "output_type": "display_data"
    },
    {
     "name": "stdout",
     "output_type": "stream",
     "text": [
      "Model_1 MSE is 1421972.218695 , Model_3 MSE is 69896.616884 , \n",
      "Model_5 MSE is 992086.745042 , Model_7 MSE is 1477996.704362 , \n"
     ]
    },
    {
     "data": {
      "image/png": "[encoded data removed]",
      "text/plain": [
       "<Figure size 1080x720 with 1 Axes>"
      ]
     },
     "metadata": {
      "needs_background": "light"
     },
     "output_type": "display_data"
    },
    {
     "name": "stdout",
     "output_type": "stream",
     "text": [
      "On test data, \n",
      "Model_1 test MSE is 1131322.774236 , Model_3 test MSE is 58501.408878 , \n",
      "Model_5 test MSE is 621548.287003 , Model_7 test MSE is 1042195.157549 , \n"
     ]
    }
   ],
   "source": [
    "plt.subplot(2,1,1)\n",
    "MSE_xaxis_saleprice = ['Model1','Model3','Model5','Model7']\n",
    "MSE_yaxis_saleprice = [MSE_model1,MSE_model3,MSE_model5,MSE_model7]\n",
    "plt.bar(MSE_xaxis_saleprice, MSE_yaxis_saleprice)\n",
    "plt.title('MSE for each model from model 1,3,5,7(when predict actual sale price) on training data')\n",
    "plt.show()\n",
    "print('Model_1 MSE is %f , Model_3 MSE is %f , ' % (MSE_yaxis_saleprice[0],MSE_yaxis_saleprice[1]))\n",
    "print('Model_5 MSE is %f , Model_7 MSE is %f , ' % (MSE_yaxis_saleprice[2],MSE_yaxis_saleprice[3]))\n",
    "\n",
    "plt.subplot(2,1,2)\n",
    "test_MSE_xaxis_salePrice = ['Model1','Model3','Model5','Model7']\n",
    "test_MSE_yaxis_salePrice = [MSE_model1_test,MSE_model3_test,MSE_model5_test,MSE_model7_test]\n",
    "plt.bar(test_MSE_xaxis_salePrice, test_MSE_yaxis_salePrice)\n",
    "plt.title('MSE for each model from model 1,3,5,7(predict actual sale price) on test data')\n",
    "plt.show()\n",
    "print('On test data, ')\n",
    "print('Model_1 test MSE is %f , Model_3 test MSE is %f , ' % (test_MSE_yaxis_salePrice[0],test_MSE_yaxis_salePrice[1]))\n",
    "print('Model_5 test MSE is %f , Model_7 test MSE is %f , ' % (test_MSE_yaxis_salePrice[2],test_MSE_yaxis_salePrice[3]))"
   ]
  },
  {
   "cell_type": "markdown",
   "metadata": {
    "id": "PbiD-Ne6h2C7"
   },
   "source": [
    "### MSE of Model 2, 4, 6, 8 for Training and Test data on *Cost*"
   ]
  },
  {
   "cell_type": "code",
   "execution_count": 323,
   "metadata": {
    "colab": {
     "base_uri": "https://localhost:8080/",
     "height": 689
    },
    "id": "8YEfX_9Pp0gY",
    "outputId": "3891e3b8-af40-4373-8996-3d993a7699e5"
   },
   "outputs": [
    {
     "data": {
      "image/png": "[encoded data removed]",
      "text/plain": [
       "<Figure size 1080x720 with 1 Axes>"
      ]
     },
     "metadata": {
      "needs_background": "light"
     },
     "output_type": "display_data"
    },
    {
     "name": "stdout",
     "output_type": "stream",
     "text": [
      "Model_2 MSE is 24036.857312 , Model_4 MSE is 10224.116554 , \n",
      "Model_6 MSE is 10552.984766 , Model_8 MSE is 24240.865620 , \n"
     ]
    },
    {
     "data": {
      "image/png": "[encoded data removed]",
      "text/plain": [
       "<Figure size 1080x720 with 1 Axes>"
      ]
     },
     "metadata": {
      "needs_background": "light"
     },
     "output_type": "display_data"
    },
    {
     "name": "stdout",
     "output_type": "stream",
     "text": [
      "On test data, \n",
      "Model_2 test MSE is 27604.991777 , Model_4 test MSE is 8916.316030 , \n",
      "Model_6 test MSE is 9906.917840 , Model_8 test MSE is 24703.394382 , \n"
     ]
    }
   ],
   "source": [
    "plt.subplot(2,1,1)\n",
    "MSE_xaxis_constructPrice = ['Model2','Model4','Model6','Model8']\n",
    "MSE_yaxis_constructPrice = [MSE_model2,MSE_model4,MSE_model6,MSE_model8]\n",
    "plt.bar(MSE_xaxis_constructPrice, MSE_yaxis_constructPrice)\n",
    "plt.title('MSE for each model from model 2,4,6,8(when predict actual construction costs) on training data')\n",
    "plt.show()\n",
    "print('Model_2 MSE is %f , Model_4 MSE is %f , ' % (MSE_yaxis_constructPrice[0],MSE_yaxis_constructPrice[1]))\n",
    "print('Model_6 MSE is %f , Model_8 MSE is %f , ' % (MSE_yaxis_constructPrice[2],MSE_yaxis_constructPrice[3]))\n",
    "\n",
    "plt.subplot(2,1,2)\n",
    "test_MSE_xaxis_constrPrice = ['Model2','Model4','Model6','Model8']\n",
    "test_MSE_yaxis_constrPrice = [MSE_model2_test,MSE_model4_test,MSE_model6_test,MSE_model8_test]\n",
    "plt.bar(test_MSE_xaxis_constrPrice, test_MSE_yaxis_constrPrice)\n",
    "plt.title('MSE for each model from model 2,4,6,8(predict actual construction costs) on test data')\n",
    "plt.show()\n",
    "print('On test data, ')\n",
    "print('Model_2 test MSE is %f , Model_4 test MSE is %f , ' % (test_MSE_yaxis_constrPrice[0],test_MSE_yaxis_constrPrice[1]))\n",
    "print('Model_6 test MSE is %f , Model_8 test MSE is %f , ' % (test_MSE_yaxis_constrPrice[2],test_MSE_yaxis_constrPrice[3]))"
   ]
  },
  {
   "cell_type": "markdown",
   "metadata": {
    "id": "OZKf49ND4mRD"
   },
   "source": [
    "\n",
    "Based on the MSE on both training and testing data for the univariate model 1-8, we can conclude that the models don't have the issue of overfitting. Model 3 and Model 4(Price of the unit at the beginning of the project per m^2) have particularly low MSE value in both training and testing dataset. Thus, among all the variables, price of the unit at the beginning of the project per m^2 is the best predictor of sale price and construction cost. Model 6 is also a good model for predicting the construction cost, but it is not as good as model 4. "
   ]
  },
  {
   "cell_type": "markdown",
   "metadata": {},
   "source": [
    "## VII. Multivariate Regression"
   ]
  },
  {
   "cell_type": "markdown",
   "metadata": {
    "id": "Cb1DaMGn4puX"
   },
   "source": [
    "## Part 1: Multivariate Linear Regression on Price"
   ]
  },
  {
   "cell_type": "code",
   "execution_count": 324,
   "metadata": {
    "id": "DcwTWG-pLhoz"
   },
   "outputs": [],
   "source": [
    "v2 = df_use[:, 5]\n",
    "v8 = df_use[:, 6]\n",
    "v26 = df_use[:, 7]\n",
    "v28 = df_use[:, 8]\n",
    "Actual_Sale_Price = df_use[:, 9]\n",
    "Actual_construction_costs = df_use[:, 10]\n",
    "Actual_Sale_Price_t = df_test[:, 9]\n",
    "Actual_construction_costs_t = df_test[:, 10]"
   ]
  },
  {
   "cell_type": "markdown",
   "metadata": {
    "id": "il3xpa7_I5-8"
   },
   "source": [
    "### 1. Multi-2 on Price, Choose 2 Variables: V2, V28"
   ]
  },
  {
   "cell_type": "markdown",
   "metadata": {
    "id": "Fm88XfCACoWt"
   },
   "source": [
    "MM1_P: $Actual Sale Price = W_{0}+ W_{1}V_{2}+ W_{2}V_{28}$\n",
    "\n",
    "V2: Total floor area of the building\n",
    "\n",
    "V28: Population  of the city"
   ]
  },
  {
   "cell_type": "code",
   "execution_count": 325,
   "metadata": {
    "id": "YU-tezZOewT6"
   },
   "outputs": [],
   "source": [
    "Vjoin = np.column_stack((df_use[:,5],df_use[:,8]))\n",
    "Vjoin_t =  np.column_stack((df_test[:,5],df_test[:,8]))"
   ]
  },
  {
   "cell_type": "code",
   "execution_count": 326,
   "metadata": {
    "colab": {
     "base_uri": "https://localhost:8080/"
    },
    "id": "uZQZtLYZ_UDL",
    "outputId": "c9be9b8a-bd5d-4493-b41c-5be7e4c30bc6"
   },
   "outputs": [
    {
     "name": "stdout",
     "output_type": "stream",
     "text": [
      "Intercept: 504.22660534062925\n",
      "Coefficients: [0.20657031 0.01966032]\n",
      "MM1_P: Actual Sale Price = 504.22660534062925 + 0.20657030871617585* V2 + 0.019660318125995554* V28\n"
     ]
    }
   ],
   "source": [
    "complex_model_1 = linear_model.LinearRegression()\n",
    "complex_model_1.fit(Vjoin, Actual_Sale_Price)\n",
    "print('Intercept: {}'.format(complex_model_1.intercept_))\n",
    "print('Coefficients: {}'.format(complex_model_1.coef_))\n",
    "\n",
    "print('MM1_P: Actual Sale Price = {}'.format(complex_model_1.intercept_)+ ' + {}'.format(complex_model_1.coef_[0]) + '* V2' + ' + {}'.format(complex_model_1.coef_[1]) +\"* V28\")"
   ]
  },
  {
   "cell_type": "code",
   "execution_count": 327,
   "metadata": {
    "colab": {
     "base_uri": "https://localhost:8080/",
     "height": 110
    },
    "id": "HODu5HJwgdZP",
    "outputId": "a29ac371-14fc-46e8-dd27-ee6cd8f75e27"
   },
   "outputs": [
    {
     "data": {
      "text/html": [
       "<div>\n",
       "<style scoped>\n",
       "    .dataframe tbody tr th:only-of-type {\n",
       "        vertical-align: middle;\n",
       "    }\n",
       "\n",
       "    .dataframe tbody tr th {\n",
       "        vertical-align: top;\n",
       "    }\n",
       "\n",
       "    .dataframe thead th {\n",
       "        text-align: right;\n",
       "    }\n",
       "</style>\n",
       "<table border=\"1\" class=\"dataframe\">\n",
       "  <thead>\n",
       "    <tr style=\"text-align: right;\">\n",
       "      <th></th>\n",
       "      <th>Model</th>\n",
       "      <th>Details</th>\n",
       "      <th>Mean Squared Error (MSE)</th>\n",
       "      <th>R-squared (training)</th>\n",
       "      <th>Adjusted R-squared (training)</th>\n",
       "      <th>R-squared (test)</th>\n",
       "      <th>Adjusted R-squared (test)</th>\n",
       "      <th>5-Fold Cross Validation</th>\n",
       "    </tr>\n",
       "  </thead>\n",
       "  <tbody>\n",
       "    <tr>\n",
       "      <th>0</th>\n",
       "      <td>Multiple Regression-1P</td>\n",
       "      <td>2 features on Price</td>\n",
       "      <td>1347872.83</td>\n",
       "      <td>0.136</td>\n",
       "      <td>0.133</td>\n",
       "      <td>-0.161</td>\n",
       "      <td>-0.177</td>\n",
       "      <td>0.112</td>\n",
       "    </tr>\n",
       "  </tbody>\n",
       "</table>\n",
       "</div>"
      ],
      "text/plain": [
       "                    Model              Details  Mean Squared Error (MSE)  \\\n",
       "0  Multiple Regression-1P  2 features on Price                1347872.83   \n",
       "\n",
       "   R-squared (training)  Adjusted R-squared (training)  R-squared (test)  \\\n",
       "0                 0.136                          0.133            -0.161   \n",
       "\n",
       "   Adjusted R-squared (test)  5-Fold Cross Validation  \n",
       "0                     -0.177                    0.112  "
      ]
     },
     "execution_count": 327,
     "metadata": {},
     "output_type": "execute_result"
    }
   ],
   "source": [
    "pred1_p = complex_model_1.predict(Vjoin)\n",
    "mse1_p = float(format(metrics.mean_squared_error(Actual_Sale_Price,pred1_p),'.3f'))\n",
    "rtr1_p = float(format(complex_model_1.score(Vjoin,Actual_Sale_Price),'.3f'))\n",
    "artr1_p = float(format(adjustedR2(complex_model_1.score(Vjoin,Actual_Sale_Price),df_use.shape[0],2),'.3f'))\n",
    "rte1_p = float(format(complex_model_1.score(Vjoin_t,Actual_Sale_Price_t),'.3f'))\n",
    "arte1_p = float(format(adjustedR2(complex_model_1.score(Vjoin_t,Actual_Sale_Price_t),df_test.shape[0],2),'.3f'))\n",
    "cv51_p = float(format(cross_val_score(complex_model_1,Vjoin,Actual_Sale_Price,cv=5).mean(),'.3f'))\n",
    "\n",
    "r = evaluation.shape[0]\n",
    "evaluation.loc[r] = ['Multiple Regression-1P','2 features on Price',mse1_p,rtr1_p,artr1_p,rte1_p,arte1_p,cv51_p]\n",
    "evaluation.sort_values(by = '5-Fold Cross Validation', ascending=False)"
   ]
  },
  {
   "cell_type": "markdown",
   "metadata": {
    "id": "EVHYYakkLZwp"
   },
   "source": [
    "### 2. Multi-2 on Price, Choose 2 Variables: V8, V26"
   ]
  },
  {
   "cell_type": "markdown",
   "metadata": {
    "id": "Rd21yF-bPyXb"
   },
   "source": [
    "MM2_P: $Actual Sale Price = W_{0}+ W_{1}V_{8}+ W_{2}V_{26}$\n",
    "\n",
    "V8: Price of the unit at the beginning of the project per m^2\n",
    "\n",
    "v26: CPI of housing, water, fuel and power in the base year"
   ]
  },
  {
   "cell_type": "code",
   "execution_count": 328,
   "metadata": {
    "id": "pO7uxzz5cnCp"
   },
   "outputs": [],
   "source": [
    "Vjoin = np.column_stack((df_use[:,6],df_use[:,7]))\n",
    "Vjoin_t =  np.column_stack((df_test[:,6],df_test[:,7]))"
   ]
  },
  {
   "cell_type": "code",
   "execution_count": 329,
   "metadata": {
    "colab": {
     "base_uri": "https://localhost:8080/"
    },
    "id": "ZLhH_6IMROgi",
    "outputId": "e867069f-2325-4af7-affa-3ca9fa56ca2a"
   },
   "outputs": [
    {
     "name": "stdout",
     "output_type": "stream",
     "text": [
      "Intercept: 123.55406594223905\n",
      "Coefficients: [ 1.20000967 -0.44684489]\n",
      "MM2_P: Actual Sale Price = 123.55406594223905 + 1.2000096688369337 * V8 + -0.44684488765233654 * V26\n"
     ]
    }
   ],
   "source": [
    "complex_model_2 = linear_model.LinearRegression()\n",
    "complex_model_2.fit(Vjoin, Actual_Sale_Price)\n",
    "print('Intercept: {}'.format(complex_model_2.intercept_))\n",
    "print('Coefficients: {}'.format(complex_model_2.coef_))\n",
    "\n",
    "print('MM2_P: Actual Sale Price = {}'.format(complex_model_2.intercept_)+\n",
    "      ' + {}'.format(complex_model_2.coef_[0]) + ' * V8' + ' + {}'.format(complex_model_2.coef_[1]) +\" * V26\")"
   ]
  },
  {
   "cell_type": "code",
   "execution_count": 330,
   "metadata": {
    "colab": {
     "base_uri": "https://localhost:8080/",
     "height": 157
    },
    "id": "bBlue8fegxyM",
    "outputId": "e4db67a3-3c20-442e-ba2c-cc45eb0c93de"
   },
   "outputs": [
    {
     "data": {
      "text/html": [
       "<div>\n",
       "<style scoped>\n",
       "    .dataframe tbody tr th:only-of-type {\n",
       "        vertical-align: middle;\n",
       "    }\n",
       "\n",
       "    .dataframe tbody tr th {\n",
       "        vertical-align: top;\n",
       "    }\n",
       "\n",
       "    .dataframe thead th {\n",
       "        text-align: right;\n",
       "    }\n",
       "</style>\n",
       "<table border=\"1\" class=\"dataframe\">\n",
       "  <thead>\n",
       "    <tr style=\"text-align: right;\">\n",
       "      <th></th>\n",
       "      <th>Model</th>\n",
       "      <th>Details</th>\n",
       "      <th>Mean Squared Error (MSE)</th>\n",
       "      <th>R-squared (training)</th>\n",
       "      <th>Adjusted R-squared (training)</th>\n",
       "      <th>R-squared (test)</th>\n",
       "      <th>Adjusted R-squared (test)</th>\n",
       "      <th>5-Fold Cross Validation</th>\n",
       "    </tr>\n",
       "  </thead>\n",
       "  <tbody>\n",
       "    <tr>\n",
       "      <th>1</th>\n",
       "      <td>Multiple Regression-2P</td>\n",
       "      <td>2 features on Price</td>\n",
       "      <td>69582.114</td>\n",
       "      <td>0.955</td>\n",
       "      <td>0.955</td>\n",
       "      <td>0.943</td>\n",
       "      <td>0.942</td>\n",
       "      <td>0.950</td>\n",
       "    </tr>\n",
       "    <tr>\n",
       "      <th>0</th>\n",
       "      <td>Multiple Regression-1P</td>\n",
       "      <td>2 features on Price</td>\n",
       "      <td>1347872.830</td>\n",
       "      <td>0.136</td>\n",
       "      <td>0.133</td>\n",
       "      <td>-0.161</td>\n",
       "      <td>-0.177</td>\n",
       "      <td>0.112</td>\n",
       "    </tr>\n",
       "  </tbody>\n",
       "</table>\n",
       "</div>"
      ],
      "text/plain": [
       "                    Model              Details  Mean Squared Error (MSE)  \\\n",
       "1  Multiple Regression-2P  2 features on Price                 69582.114   \n",
       "0  Multiple Regression-1P  2 features on Price               1347872.830   \n",
       "\n",
       "   R-squared (training)  Adjusted R-squared (training)  R-squared (test)  \\\n",
       "1                 0.955                          0.955             0.943   \n",
       "0                 0.136                          0.133            -0.161   \n",
       "\n",
       "   Adjusted R-squared (test)  5-Fold Cross Validation  \n",
       "1                      0.942                    0.950  \n",
       "0                     -0.177                    0.112  "
      ]
     },
     "execution_count": 330,
     "metadata": {},
     "output_type": "execute_result"
    }
   ],
   "source": [
    "pred2_p = complex_model_2.predict(Vjoin)\n",
    "mse2_p = float(format(metrics.mean_squared_error(Actual_Sale_Price,pred2_p),'.3f'))\n",
    "rtr2_p = float(format(complex_model_2.score(Vjoin,Actual_Sale_Price),'.3f'))\n",
    "artr2_p = float(format(adjustedR2(complex_model_2.score(Vjoin,Actual_Sale_Price),df_use.shape[0],2),'.3f'))\n",
    "rte2_p = float(format(complex_model_2.score(Vjoin_t,Actual_Sale_Price_t),'.3f'))\n",
    "arte2_p = float(format(adjustedR2(complex_model_2.score(Vjoin_t,Actual_Sale_Price_t),df_test.shape[0],2),'.3f'))\n",
    "cv52_p = float(format(cross_val_score(complex_model_2,Vjoin,Actual_Sale_Price,cv=5).mean(),'.3f'))\n",
    "\n",
    "r = evaluation.shape[0]\n",
    "evaluation.loc[r] = ['Multiple Regression-2P','2 features on Price',mse2_p,rtr2_p,artr2_p,rte2_p,arte2_p,cv52_p]\n",
    "evaluation.sort_values(by = '5-Fold Cross Validation', ascending=False)"
   ]
  },
  {
   "cell_type": "markdown",
   "metadata": {
    "id": "TiC1yWR7AiOY"
   },
   "source": [
    "### 3. Multi-3 on Price, Choose 3 Variables: V8, V26, V28"
   ]
  },
  {
   "cell_type": "markdown",
   "metadata": {
    "id": "aPEQZTwx4x-f"
   },
   "source": [
    "MM3_P: $Actual Sale Price = W_{0}+ W_{1}V_{8}+ W_{2}V_{26} + W_{3}V_{28}$"
   ]
  },
  {
   "cell_type": "code",
   "execution_count": 331,
   "metadata": {
    "colab": {
     "base_uri": "https://localhost:8080/"
    },
    "id": "1Cg-0YQkACSJ",
    "outputId": "88358aab-8c05-4aae-cb51-434e1799d25a"
   },
   "outputs": [
    {
     "name": "stdout",
     "output_type": "stream",
     "text": [
      "Intercept: 92.2894127806751\n",
      "Coefficients: [ 1.19899325 -0.55917591  0.00150687]\n",
      "MM3_P: Actual Sale Price = 92.2894127806751 + 1.1989932452278966 * V8 + -0.5591759056751198 * V26 + 0.0015068669946620705 * V28\n"
     ]
    }
   ],
   "source": [
    "complex_model_3 = linear_model.LinearRegression()\n",
    "complex_model_3.fit(df_use[:,6:9], Actual_Sale_Price)\n",
    "print('Intercept: {}'.format(complex_model_3.intercept_))\n",
    "print('Coefficients: {}'.format(complex_model_3.coef_))\n",
    "print('MM3_P: Actual Sale Price = {}'.format(complex_model_3.intercept_) + ' + {}'.format(complex_model_3.coef_[0]) + ' * V8' + ' + {}'.format(complex_model_3.coef_[1]) +\" * V26\" +  ' + {}'.format(complex_model_3.coef_[2]) + \" * V28\")"
   ]
  },
  {
   "cell_type": "code",
   "execution_count": 332,
   "metadata": {
    "colab": {
     "base_uri": "https://localhost:8080/",
     "height": 203
    },
    "id": "2JmzYUpAA4N3",
    "outputId": "4891d601-90bd-47ce-889e-efe38ef353d6"
   },
   "outputs": [
    {
     "data": {
      "text/html": [
       "<div>\n",
       "<style scoped>\n",
       "    .dataframe tbody tr th:only-of-type {\n",
       "        vertical-align: middle;\n",
       "    }\n",
       "\n",
       "    .dataframe tbody tr th {\n",
       "        vertical-align: top;\n",
       "    }\n",
       "\n",
       "    .dataframe thead th {\n",
       "        text-align: right;\n",
       "    }\n",
       "</style>\n",
       "<table border=\"1\" class=\"dataframe\">\n",
       "  <thead>\n",
       "    <tr style=\"text-align: right;\">\n",
       "      <th></th>\n",
       "      <th>Model</th>\n",
       "      <th>Details</th>\n",
       "      <th>Mean Squared Error (MSE)</th>\n",
       "      <th>R-squared (training)</th>\n",
       "      <th>Adjusted R-squared (training)</th>\n",
       "      <th>R-squared (test)</th>\n",
       "      <th>Adjusted R-squared (test)</th>\n",
       "      <th>5-Fold Cross Validation</th>\n",
       "    </tr>\n",
       "  </thead>\n",
       "  <tbody>\n",
       "    <tr>\n",
       "      <th>1</th>\n",
       "      <td>Multiple Regression-2P</td>\n",
       "      <td>2 features on Price</td>\n",
       "      <td>69582.114</td>\n",
       "      <td>0.955</td>\n",
       "      <td>0.955</td>\n",
       "      <td>0.943</td>\n",
       "      <td>0.942</td>\n",
       "      <td>0.950</td>\n",
       "    </tr>\n",
       "    <tr>\n",
       "      <th>2</th>\n",
       "      <td>Multiple Regression-3P</td>\n",
       "      <td>3 features on Price</td>\n",
       "      <td>69187.614</td>\n",
       "      <td>0.956</td>\n",
       "      <td>0.955</td>\n",
       "      <td>0.941</td>\n",
       "      <td>0.939</td>\n",
       "      <td>0.950</td>\n",
       "    </tr>\n",
       "    <tr>\n",
       "      <th>0</th>\n",
       "      <td>Multiple Regression-1P</td>\n",
       "      <td>2 features on Price</td>\n",
       "      <td>1347872.830</td>\n",
       "      <td>0.136</td>\n",
       "      <td>0.133</td>\n",
       "      <td>-0.161</td>\n",
       "      <td>-0.177</td>\n",
       "      <td>0.112</td>\n",
       "    </tr>\n",
       "  </tbody>\n",
       "</table>\n",
       "</div>"
      ],
      "text/plain": [
       "                    Model              Details  Mean Squared Error (MSE)  \\\n",
       "1  Multiple Regression-2P  2 features on Price                 69582.114   \n",
       "2  Multiple Regression-3P  3 features on Price                 69187.614   \n",
       "0  Multiple Regression-1P  2 features on Price               1347872.830   \n",
       "\n",
       "   R-squared (training)  Adjusted R-squared (training)  R-squared (test)  \\\n",
       "1                 0.955                          0.955             0.943   \n",
       "2                 0.956                          0.955             0.941   \n",
       "0                 0.136                          0.133            -0.161   \n",
       "\n",
       "   Adjusted R-squared (test)  5-Fold Cross Validation  \n",
       "1                      0.942                    0.950  \n",
       "2                      0.939                    0.950  \n",
       "0                     -0.177                    0.112  "
      ]
     },
     "execution_count": 332,
     "metadata": {},
     "output_type": "execute_result"
    }
   ],
   "source": [
    "pred3_p = complex_model_3.predict(df_use[:,6:9])\n",
    "mse3_p = float(format(metrics.mean_squared_error(Actual_Sale_Price,pred3_p),'.3f'))\n",
    "rtr3_p = float(format(complex_model_3.score(df_use[:,6:9],Actual_Sale_Price),'.3f'))\n",
    "artr3_p = float(format(adjustedR2(complex_model_3.score(df_use[:,6:9],Actual_Sale_Price),df_use.shape[0],3),'.3f'))\n",
    "rte3_p = float(format(complex_model_3.score(df_test[:,6:9],Actual_Sale_Price_t),'.3f'))\n",
    "arte3_p = float(format(adjustedR2(complex_model_3.score(df_test[:,6:9],Actual_Sale_Price_t),df_test.shape[0],3),'.3f'))\n",
    "cv53_p = float(format(cross_val_score(complex_model_3,df_use[:,6:9],Actual_Sale_Price,cv=5).mean(),'.3f'))\n",
    "\n",
    "r = evaluation.shape[0]\n",
    "evaluation.loc[r] = ['Multiple Regression-3P','3 features on Price',mse3_p,rtr3_p,artr3_p,rte3_p,arte3_p,cv53_p]\n",
    "evaluation.sort_values(by = '5-Fold Cross Validation', ascending=False)\n"
   ]
  },
  {
   "cell_type": "markdown",
   "metadata": {
    "id": "cwYTfdqeD6tL"
   },
   "source": [
    "### 4. Multi-3 on Price, Choose 3 Variables: V2, V8, V28"
   ]
  },
  {
   "cell_type": "markdown",
   "metadata": {
    "id": "XwYfa9z6FBYs"
   },
   "source": [
    "MM4_P: $Actual Sale Price = W_{0}+ W_{1}V_{2}+ W_{2}V_{8} + W_{3}V_{28}$"
   ]
  },
  {
   "cell_type": "code",
   "execution_count": 333,
   "metadata": {
    "id": "wskr9sNIKsqv"
   },
   "outputs": [],
   "source": [
    "Vjoin = np.column_stack((df_use[:,5:7],df_use[:,8]))\n",
    "Vjoin_t = np.column_stack((df_test[:,5:7],df_test[:,8]))"
   ]
  },
  {
   "cell_type": "code",
   "execution_count": 370,
   "metadata": {
    "colab": {
     "base_uri": "https://localhost:8080/"
    },
    "id": "J5mfn-I2D5nG",
    "outputId": "939dda30-6b0e-4a47-eec8-573af13e3a3b"
   },
   "outputs": [
    {
     "name": "stdout",
     "output_type": "stream",
     "text": [
      "Intercept: 46.62376326327649\n",
      "Coefficients: [0.01960924 1.17317405 0.00120352]\n",
      "MM4_P: Actual Sale Price = 46.62376326327649 + 0.01960924486188928 * V2 + 1.1731740519783975 * V8 + 0.001203519190495772 * V28\n"
     ]
    }
   ],
   "source": [
    "complex_model_4 = linear_model.LinearRegression()\n",
    "complex_model_4.fit(Vjoin, Actual_Sale_Price)\n",
    "print('Intercept: {}'.format(complex_model_4.intercept_))\n",
    "print('Coefficients: {}'.format(complex_model_4.coef_))\n",
    "print('MM4_P: Actual Sale Price = {}'.format(complex_model_4.intercept_) + ' + {}'.format(complex_model_4.coef_[0]) + ' * V2' + ' + {}'.format(complex_model_4.coef_[1]) +\" * V8\" +  ' + {}'.format(complex_model_4.coef_[2]) + \" * V28\")"
   ]
  },
  {
   "cell_type": "code",
   "execution_count": 335,
   "metadata": {
    "colab": {
     "base_uri": "https://localhost:8080/",
     "height": 250
    },
    "id": "MerSs2k7E5nj",
    "outputId": "1cd02d4d-e902-4824-a1d5-28e7b188ffe6"
   },
   "outputs": [
    {
     "data": {
      "text/html": [
       "<div>\n",
       "<style scoped>\n",
       "    .dataframe tbody tr th:only-of-type {\n",
       "        vertical-align: middle;\n",
       "    }\n",
       "\n",
       "    .dataframe tbody tr th {\n",
       "        vertical-align: top;\n",
       "    }\n",
       "\n",
       "    .dataframe thead th {\n",
       "        text-align: right;\n",
       "    }\n",
       "</style>\n",
       "<table border=\"1\" class=\"dataframe\">\n",
       "  <thead>\n",
       "    <tr style=\"text-align: right;\">\n",
       "      <th></th>\n",
       "      <th>Model</th>\n",
       "      <th>Details</th>\n",
       "      <th>Mean Squared Error (MSE)</th>\n",
       "      <th>R-squared (training)</th>\n",
       "      <th>Adjusted R-squared (training)</th>\n",
       "      <th>R-squared (test)</th>\n",
       "      <th>Adjusted R-squared (test)</th>\n",
       "      <th>5-Fold Cross Validation</th>\n",
       "    </tr>\n",
       "  </thead>\n",
       "  <tbody>\n",
       "    <tr>\n",
       "      <th>1</th>\n",
       "      <td>Multiple Regression-2P</td>\n",
       "      <td>2 features on Price</td>\n",
       "      <td>69582.114</td>\n",
       "      <td>0.955</td>\n",
       "      <td>0.955</td>\n",
       "      <td>0.943</td>\n",
       "      <td>0.942</td>\n",
       "      <td>0.950</td>\n",
       "    </tr>\n",
       "    <tr>\n",
       "      <th>2</th>\n",
       "      <td>Multiple Regression-3P</td>\n",
       "      <td>3 features on Price</td>\n",
       "      <td>69187.614</td>\n",
       "      <td>0.956</td>\n",
       "      <td>0.955</td>\n",
       "      <td>0.941</td>\n",
       "      <td>0.939</td>\n",
       "      <td>0.950</td>\n",
       "    </tr>\n",
       "    <tr>\n",
       "      <th>3</th>\n",
       "      <td>Multiple Regression-4P</td>\n",
       "      <td>3 features on Price</td>\n",
       "      <td>68574.098</td>\n",
       "      <td>0.956</td>\n",
       "      <td>0.956</td>\n",
       "      <td>0.941</td>\n",
       "      <td>0.940</td>\n",
       "      <td>0.950</td>\n",
       "    </tr>\n",
       "    <tr>\n",
       "      <th>0</th>\n",
       "      <td>Multiple Regression-1P</td>\n",
       "      <td>2 features on Price</td>\n",
       "      <td>1347872.830</td>\n",
       "      <td>0.136</td>\n",
       "      <td>0.133</td>\n",
       "      <td>-0.161</td>\n",
       "      <td>-0.177</td>\n",
       "      <td>0.112</td>\n",
       "    </tr>\n",
       "  </tbody>\n",
       "</table>\n",
       "</div>"
      ],
      "text/plain": [
       "                    Model              Details  Mean Squared Error (MSE)  \\\n",
       "1  Multiple Regression-2P  2 features on Price                 69582.114   \n",
       "2  Multiple Regression-3P  3 features on Price                 69187.614   \n",
       "3  Multiple Regression-4P  3 features on Price                 68574.098   \n",
       "0  Multiple Regression-1P  2 features on Price               1347872.830   \n",
       "\n",
       "   R-squared (training)  Adjusted R-squared (training)  R-squared (test)  \\\n",
       "1                 0.955                          0.955             0.943   \n",
       "2                 0.956                          0.955             0.941   \n",
       "3                 0.956                          0.956             0.941   \n",
       "0                 0.136                          0.133            -0.161   \n",
       "\n",
       "   Adjusted R-squared (test)  5-Fold Cross Validation  \n",
       "1                      0.942                    0.950  \n",
       "2                      0.939                    0.950  \n",
       "3                      0.940                    0.950  \n",
       "0                     -0.177                    0.112  "
      ]
     },
     "execution_count": 335,
     "metadata": {},
     "output_type": "execute_result"
    }
   ],
   "source": [
    "pred4_p = complex_model_4.predict(Vjoin)\n",
    "mse4_p = float(format(metrics.mean_squared_error(Actual_Sale_Price,pred4_p),'.3f'))\n",
    "rtr4_p = float(format(complex_model_4.score(Vjoin,Actual_Sale_Price),'.3f'))\n",
    "artr4_p = float(format(adjustedR2(complex_model_4.score(Vjoin,Actual_Sale_Price),df_use.shape[0],3),'.3f'))\n",
    "rte4_p = float(format(complex_model_4.score(Vjoin_t,Actual_Sale_Price_t),'.3f'))\n",
    "arte4_p = float(format(adjustedR2(complex_model_4.score(Vjoin_t,Actual_Sale_Price_t),df_test.shape[0],3),'.3f'))\n",
    "cv54_p = float(format(cross_val_score(complex_model_4,Vjoin,Actual_Sale_Price,cv=5).mean(),'.3f'))\n",
    "\n",
    "r = evaluation.shape[0]\n",
    "evaluation.loc[r] = ['Multiple Regression-4P','3 features on Price',mse4_p,rtr4_p,artr4_p,rte4_p,arte4_p,cv54_p]\n",
    "evaluation.sort_values(by = '5-Fold Cross Validation', ascending=False)"
   ]
  },
  {
   "cell_type": "markdown",
   "metadata": {
    "id": "gAvuKHBm7R30"
   },
   "source": [
    "### 5. Multi-4 on Price, Choose All 4 Variables"
   ]
  },
  {
   "cell_type": "markdown",
   "metadata": {
    "id": "zjv_dBkeUvlG"
   },
   "source": [
    "MM5_P: $Actual Sale Price = W_{0}+ W_{1}V_{2}+ W_{2}V_{8} + W_{3}V_{26} + W_{4}V_{28}$"
   ]
  },
  {
   "cell_type": "code",
   "execution_count": 336,
   "metadata": {
    "colab": {
     "base_uri": "https://localhost:8080/"
    },
    "id": "KUiWuhu67glR",
    "outputId": "04da9748-9f46-40e2-8721-fa9fad610b3a"
   },
   "outputs": [
    {
     "name": "stdout",
     "output_type": "stream",
     "text": [
      "Intercept: 66.41029417378468\n",
      "Coefficients: [ 0.01900586  1.18860413 -0.51758498  0.0015348 ]\n",
      "MM5_P: Actual Sale Price = 66.41029417378468 + 0.0190058623609279 * V2 + 1.188604128414098 * V8 + -0.5175849844624788 * V26 + 0.0015348048144727677 * V28\n"
     ]
    }
   ],
   "source": [
    "complex_model_5 = linear_model.LinearRegression()\n",
    "complex_model_5.fit(df_use[:,5:9], Actual_Sale_Price)\n",
    "print('Intercept: {}'.format(complex_model_5.intercept_))\n",
    "print('Coefficients: {}'.format(complex_model_5.coef_))\n",
    "print('MM5_P: Actual Sale Price = {}'.format(complex_model_5.intercept_) + ' + {}'.format(complex_model_5.coef_[0]) + ' * V2' + ' + {}'.format(complex_model_5.coef_[1]) +\" * V8\" +  ' + {}'.format(complex_model_5.coef_[2]) + \" * V26\" +' + {}'.format(complex_model_5.coef_[3]) + \" * V28\")"
   ]
  },
  {
   "cell_type": "code",
   "execution_count": 337,
   "metadata": {
    "colab": {
     "base_uri": "https://localhost:8080/",
     "height": 296
    },
    "id": "gh8ekMiEViPi",
    "outputId": "214068fa-1069-4421-87dd-63e913403748"
   },
   "outputs": [
    {
     "data": {
      "text/html": [
       "<div>\n",
       "<style scoped>\n",
       "    .dataframe tbody tr th:only-of-type {\n",
       "        vertical-align: middle;\n",
       "    }\n",
       "\n",
       "    .dataframe tbody tr th {\n",
       "        vertical-align: top;\n",
       "    }\n",
       "\n",
       "    .dataframe thead th {\n",
       "        text-align: right;\n",
       "    }\n",
       "</style>\n",
       "<table border=\"1\" class=\"dataframe\">\n",
       "  <thead>\n",
       "    <tr style=\"text-align: right;\">\n",
       "      <th></th>\n",
       "      <th>Model</th>\n",
       "      <th>Details</th>\n",
       "      <th>Mean Squared Error (MSE)</th>\n",
       "      <th>R-squared (training)</th>\n",
       "      <th>Adjusted R-squared (training)</th>\n",
       "      <th>R-squared (test)</th>\n",
       "      <th>Adjusted R-squared (test)</th>\n",
       "      <th>5-Fold Cross Validation</th>\n",
       "    </tr>\n",
       "  </thead>\n",
       "  <tbody>\n",
       "    <tr>\n",
       "      <th>1</th>\n",
       "      <td>Multiple Regression-2P</td>\n",
       "      <td>2 features on Price</td>\n",
       "      <td>69582.114</td>\n",
       "      <td>0.955</td>\n",
       "      <td>0.955</td>\n",
       "      <td>0.943</td>\n",
       "      <td>0.942</td>\n",
       "      <td>0.950</td>\n",
       "    </tr>\n",
       "    <tr>\n",
       "      <th>2</th>\n",
       "      <td>Multiple Regression-3P</td>\n",
       "      <td>3 features on Price</td>\n",
       "      <td>69187.614</td>\n",
       "      <td>0.956</td>\n",
       "      <td>0.955</td>\n",
       "      <td>0.941</td>\n",
       "      <td>0.939</td>\n",
       "      <td>0.950</td>\n",
       "    </tr>\n",
       "    <tr>\n",
       "      <th>3</th>\n",
       "      <td>Multiple Regression-4P</td>\n",
       "      <td>3 features on Price</td>\n",
       "      <td>68574.098</td>\n",
       "      <td>0.956</td>\n",
       "      <td>0.956</td>\n",
       "      <td>0.941</td>\n",
       "      <td>0.940</td>\n",
       "      <td>0.950</td>\n",
       "    </tr>\n",
       "    <tr>\n",
       "      <th>4</th>\n",
       "      <td>Multiple Regression-5P</td>\n",
       "      <td>All features on Price</td>\n",
       "      <td>68173.398</td>\n",
       "      <td>0.956</td>\n",
       "      <td>0.956</td>\n",
       "      <td>0.942</td>\n",
       "      <td>0.939</td>\n",
       "      <td>0.950</td>\n",
       "    </tr>\n",
       "    <tr>\n",
       "      <th>0</th>\n",
       "      <td>Multiple Regression-1P</td>\n",
       "      <td>2 features on Price</td>\n",
       "      <td>1347872.830</td>\n",
       "      <td>0.136</td>\n",
       "      <td>0.133</td>\n",
       "      <td>-0.161</td>\n",
       "      <td>-0.177</td>\n",
       "      <td>0.112</td>\n",
       "    </tr>\n",
       "  </tbody>\n",
       "</table>\n",
       "</div>"
      ],
      "text/plain": [
       "                    Model                Details  Mean Squared Error (MSE)  \\\n",
       "1  Multiple Regression-2P    2 features on Price                 69582.114   \n",
       "2  Multiple Regression-3P    3 features on Price                 69187.614   \n",
       "3  Multiple Regression-4P    3 features on Price                 68574.098   \n",
       "4  Multiple Regression-5P  All features on Price                 68173.398   \n",
       "0  Multiple Regression-1P    2 features on Price               1347872.830   \n",
       "\n",
       "   R-squared (training)  Adjusted R-squared (training)  R-squared (test)  \\\n",
       "1                 0.955                          0.955             0.943   \n",
       "2                 0.956                          0.955             0.941   \n",
       "3                 0.956                          0.956             0.941   \n",
       "4                 0.956                          0.956             0.942   \n",
       "0                 0.136                          0.133            -0.161   \n",
       "\n",
       "   Adjusted R-squared (test)  5-Fold Cross Validation  \n",
       "1                      0.942                    0.950  \n",
       "2                      0.939                    0.950  \n",
       "3                      0.940                    0.950  \n",
       "4                      0.939                    0.950  \n",
       "0                     -0.177                    0.112  "
      ]
     },
     "execution_count": 337,
     "metadata": {},
     "output_type": "execute_result"
    }
   ],
   "source": [
    "pred5_p = complex_model_5.predict(df_use[:,5:9])\n",
    "mse5_p = float(format(metrics.mean_squared_error(Actual_Sale_Price,pred5_p),'.3f'))\n",
    "rtr5_p = float(format(complex_model_5.score(df_use[:,5:9],Actual_Sale_Price),'.3f'))\n",
    "artr5_p = float(format(adjustedR2(complex_model_5.score(df_use[:,5:9],Actual_Sale_Price),df_use.shape[0],4),'.3f'))\n",
    "rte5_p = float(format(complex_model_5.score(df_test[:,5:9],Actual_Sale_Price_t),'.3f'))\n",
    "arte5_p = float(format(adjustedR2(complex_model_5.score(df_test[:,5:9],Actual_Sale_Price_t),df_test.shape[0],4),'.3f'))\n",
    "cv55_p = float(format(cross_val_score(complex_model_5,df_use[:,5:9],Actual_Sale_Price,cv=5).mean(),'.3f'))\n",
    "\n",
    "r = evaluation.shape[0]\n",
    "evaluation.loc[r] = ['Multiple Regression-5P','All features on Price',mse5_p,rtr5_p,artr5_p,rte5_p,arte5_p,cv55_p]\n",
    "evaluation.sort_values(by = '5-Fold Cross Validation', ascending=False)"
   ]
  },
  {
   "cell_type": "code",
   "execution_count": 338,
   "metadata": {
    "colab": {
     "base_uri": "https://localhost:8080/",
     "height": 517
    },
    "id": "nPZuKBpdEjKf",
    "outputId": "6b66177e-d99f-442b-bd2f-1558fa0122d7"
   },
   "outputs": [
    {
     "data": {
      "text/plain": [
       "<function matplotlib.pyplot.tight_layout(pad=1.08, h_pad=None, w_pad=None, rect=None)>"
      ]
     },
     "execution_count": 338,
     "metadata": {},
     "output_type": "execute_result"
    },
    {
     "data": {
      "image/png": "[encoded data removed]",
      "text/plain": [
       "<Figure size 1080x576 with 1 Axes>"
      ]
     },
     "metadata": {
      "needs_background": "light"
     },
     "output_type": "display_data"
    }
   ],
   "source": [
    "plt.figure(figsize=(15,8))\n",
    "labels= [\"1P_MSE\", \"2P_MSE\", \"3P_MSE\", \"4P_MSE\", \"All_MSE\"]\n",
    "data = [mse1_p, mse2_p, mse3_p, mse4_p, mse5_p]\n",
    "plt.bar(labels, data)\n",
    "plt.title('MSE of 5 multi models on Price')\n",
    "plt.tight_layout"
   ]
  },
  {
   "cell_type": "markdown",
   "metadata": {},
   "source": [
    "From the evaluation table and Mean Squared Error (MSE) graph above, except for Model MM1_P, all the other models have MSE a little bit less than 70000,which is low. They are better than most of the models of univariate regression, but Model 3 of the univariate model holds its MSE value in the same range as these multivariate models."
   ]
  },
  {
   "cell_type": "markdown",
   "metadata": {
    "id": "XaVnwaJo9Tdk"
   },
   "source": [
    "## Part 2: Multivariate Linear Regression on Cost"
   ]
  },
  {
   "cell_type": "markdown",
   "metadata": {
    "id": "oU-XmUdp9glY"
   },
   "source": [
    "\n"
   ]
  },
  {
   "cell_type": "markdown",
   "metadata": {
    "id": "g4Uuvk0P_bpU"
   },
   "source": [
    "Multivariate linear regression on 2 variables among 4 independent variables\n",
    "\n",
    "### 1. Multi-2 on Cost, Choose  V8, V26\n",
    "MM1_C: $Actual~construction~costs = W_{0}+ W_{1}V_{8}+ W_{2}V_{26}$"
   ]
  },
  {
   "cell_type": "code",
   "execution_count": 339,
   "metadata": {
    "id": "hrKIjpYNdmXD"
   },
   "outputs": [],
   "source": [
    "Vjoin = np.column_stack((df_use[:,6],df_use[:,7]))\n",
    "Vjoin_t = np.column_stack((df_test[:,6],df_test[:,7]))"
   ]
  },
  {
   "cell_type": "code",
   "execution_count": 340,
   "metadata": {
    "colab": {
     "base_uri": "https://localhost:8080/",
     "height": 144
    },
    "id": "qSfhiXo-ZlhD",
    "outputId": "62cfaa3b-080b-495e-ed52-7b9346e90f65"
   },
   "outputs": [
    {
     "name": "stdout",
     "output_type": "stream",
     "text": [
      "Intercept: 16.83237625974985\n",
      "Coefficients: [0.07705997 1.48538499]\n",
      "MM1_C: Actual Construction Costs = 16.83237625974985 + 0.07705997213483627 * V8 + 1.4853849945756004 * V26\n"
     ]
    },
    {
     "data": {
      "text/html": [
       "<div>\n",
       "<style scoped>\n",
       "    .dataframe tbody tr th:only-of-type {\n",
       "        vertical-align: middle;\n",
       "    }\n",
       "\n",
       "    .dataframe tbody tr th {\n",
       "        vertical-align: top;\n",
       "    }\n",
       "\n",
       "    .dataframe thead th {\n",
       "        text-align: right;\n",
       "    }\n",
       "</style>\n",
       "<table border=\"1\" class=\"dataframe\">\n",
       "  <thead>\n",
       "    <tr style=\"text-align: right;\">\n",
       "      <th></th>\n",
       "      <th>Model</th>\n",
       "      <th>Details</th>\n",
       "      <th>Mean Squared Error (MSE)</th>\n",
       "      <th>R-squared (training)</th>\n",
       "      <th>Adjusted R-squared (training)</th>\n",
       "      <th>R-squared (test)</th>\n",
       "      <th>Adjusted R-squared (test)</th>\n",
       "      <th>5-Fold Cross Validation</th>\n",
       "    </tr>\n",
       "  </thead>\n",
       "  <tbody>\n",
       "    <tr>\n",
       "      <th>0</th>\n",
       "      <td>Multiple Regression-1C</td>\n",
       "      <td>2 features on Cost</td>\n",
       "      <td>6748.842</td>\n",
       "      <td>0.744</td>\n",
       "      <td>0.743</td>\n",
       "      <td>0.779</td>\n",
       "      <td>0.776</td>\n",
       "      <td>0.743</td>\n",
       "    </tr>\n",
       "  </tbody>\n",
       "</table>\n",
       "</div>"
      ],
      "text/plain": [
       "                    Model             Details  Mean Squared Error (MSE)  \\\n",
       "0  Multiple Regression-1C  2 features on Cost                  6748.842   \n",
       "\n",
       "   R-squared (training)  Adjusted R-squared (training)  R-squared (test)  \\\n",
       "0                 0.744                          0.743             0.779   \n",
       "\n",
       "   Adjusted R-squared (test)  5-Fold Cross Validation  \n",
       "0                      0.776                    0.743  "
      ]
     },
     "execution_count": 340,
     "metadata": {},
     "output_type": "execute_result"
    }
   ],
   "source": [
    "complex_model_6 = linear_model.LinearRegression()\n",
    "complex_model_6.fit(Vjoin, Actual_construction_costs)\n",
    "print('Intercept: {}'.format(complex_model_6.intercept_))\n",
    "print('Coefficients: {}'.format(complex_model_6.coef_))\n",
    "print('MM1_C: Actual Construction Costs = {}'.format(complex_model_6.intercept_) + ' + {}'.format(complex_model_6.coef_[0]) + ' * V8' + ' + {}'.format(complex_model_6.coef_[1]) +\" * V26\") \n",
    "\n",
    "pred1_c = complex_model_6.predict(Vjoin)\n",
    "mse1_c = float(format(metrics.mean_squared_error(Actual_construction_costs,pred1_c),'.3f'))\n",
    "rtr1_c = float(format(complex_model_6.score(Vjoin,Actual_construction_costs),'.3f'))\n",
    "artr1_c = float(format(adjustedR2(complex_model_6.score(Vjoin,Actual_construction_costs),df_use.shape[0],2),'.3f'))\n",
    "rte1_c = float(format(complex_model_6.score(Vjoin_t,Actual_construction_costs_t),'.3f'))\n",
    "arte1_c = float(format(adjustedR2(complex_model_6.score(Vjoin_t,Actual_construction_costs_t),df_test.shape[0],2),'.3f'))\n",
    "cv51_c = float(format(cross_val_score(complex_model_6,Vjoin,Actual_construction_costs,cv=5).mean(),'.3f'))\n",
    "\n",
    "r = evaluation_C.shape[0]\n",
    "evaluation_C.loc[r] = ['Multiple Regression-1C','2 features on Cost',mse1_c,rtr1_c,artr1_c,rte1_c,arte1_c,cv51_c]\n",
    "evaluation_C.sort_values(by = '5-Fold Cross Validation', ascending=False)"
   ]
  },
  {
   "cell_type": "markdown",
   "metadata": {
    "id": "poaHOS9XQ4mH"
   },
   "source": [
    "### 2. Multi-2 on Cost, Choose  V26, V28\n",
    "MM2_C: $Actual~construction~costs = W_{0}+ W_{1}V_{26}+ W_{2}V_{28}$"
   ]
  },
  {
   "cell_type": "code",
   "execution_count": 341,
   "metadata": {
    "colab": {
     "base_uri": "https://localhost:8080/",
     "height": 190
    },
    "id": "nDmKSIuIggFR",
    "outputId": "2d457b29-6e4c-4f6d-c9ff-7a47a137d782"
   },
   "outputs": [
    {
     "name": "stdout",
     "output_type": "stream",
     "text": [
      "Intercept: 4.67068212050043\n",
      "Coefficients: [2.41319112e+00 5.94088964e-04]\n",
      "MM2_C: Actual Construction Costs = 4.67068212050043 + 2.4131911184139807 * V26 + 0.0005940889641068953 * V28\n"
     ]
    },
    {
     "data": {
      "text/html": [
       "<div>\n",
       "<style scoped>\n",
       "    .dataframe tbody tr th:only-of-type {\n",
       "        vertical-align: middle;\n",
       "    }\n",
       "\n",
       "    .dataframe tbody tr th {\n",
       "        vertical-align: top;\n",
       "    }\n",
       "\n",
       "    .dataframe thead th {\n",
       "        text-align: right;\n",
       "    }\n",
       "</style>\n",
       "<table border=\"1\" class=\"dataframe\">\n",
       "  <thead>\n",
       "    <tr style=\"text-align: right;\">\n",
       "      <th></th>\n",
       "      <th>Model</th>\n",
       "      <th>Details</th>\n",
       "      <th>Mean Squared Error (MSE)</th>\n",
       "      <th>R-squared (training)</th>\n",
       "      <th>Adjusted R-squared (training)</th>\n",
       "      <th>R-squared (test)</th>\n",
       "      <th>Adjusted R-squared (test)</th>\n",
       "      <th>5-Fold Cross Validation</th>\n",
       "    </tr>\n",
       "  </thead>\n",
       "  <tbody>\n",
       "    <tr>\n",
       "      <th>0</th>\n",
       "      <td>Multiple Regression-1C</td>\n",
       "      <td>2 features on Cost</td>\n",
       "      <td>6748.842</td>\n",
       "      <td>0.744</td>\n",
       "      <td>0.743</td>\n",
       "      <td>0.779</td>\n",
       "      <td>0.776</td>\n",
       "      <td>0.743</td>\n",
       "    </tr>\n",
       "    <tr>\n",
       "      <th>1</th>\n",
       "      <td>Multiple Regression-2C</td>\n",
       "      <td>2 features on Cost</td>\n",
       "      <td>10491.562</td>\n",
       "      <td>0.602</td>\n",
       "      <td>0.600</td>\n",
       "      <td>0.626</td>\n",
       "      <td>0.620</td>\n",
       "      <td>0.612</td>\n",
       "    </tr>\n",
       "  </tbody>\n",
       "</table>\n",
       "</div>"
      ],
      "text/plain": [
       "                    Model             Details  Mean Squared Error (MSE)  \\\n",
       "0  Multiple Regression-1C  2 features on Cost                  6748.842   \n",
       "1  Multiple Regression-2C  2 features on Cost                 10491.562   \n",
       "\n",
       "   R-squared (training)  Adjusted R-squared (training)  R-squared (test)  \\\n",
       "0                 0.744                          0.743             0.779   \n",
       "1                 0.602                          0.600             0.626   \n",
       "\n",
       "   Adjusted R-squared (test)  5-Fold Cross Validation  \n",
       "0                      0.776                    0.743  \n",
       "1                      0.620                    0.612  "
      ]
     },
     "execution_count": 341,
     "metadata": {},
     "output_type": "execute_result"
    }
   ],
   "source": [
    "complex_model_7 = linear_model.LinearRegression()\n",
    "complex_model_7.fit(df_use[:,7:9], Actual_construction_costs)\n",
    "print('Intercept: {}'.format(complex_model_7.intercept_))\n",
    "print('Coefficients: {}'.format(complex_model_7.coef_))\n",
    "print('MM2_C: Actual Construction Costs = {}'.format(complex_model_7.intercept_) + ' + {}'.format(complex_model_7.coef_[0]) + ' * V26' + ' + {}'.format(complex_model_7.coef_[1]) +\" * V28\") \n",
    "\n",
    "pred2_c = complex_model_7.predict(df_use[:,7:9])\n",
    "mse2_c = float(format(metrics.mean_squared_error(Actual_construction_costs,pred2_c),'.3f'))\n",
    "rtr2_c = float(format(complex_model_7.score(df_use[:,7:9],Actual_construction_costs),'.3f'))\n",
    "artr2_c = float(format(adjustedR2(complex_model_7.score(df_use[:,7:9],Actual_construction_costs),df_use.shape[0],2),'.3f'))\n",
    "rte2_c = float(format(complex_model_7.score(df_test[:,7:9],Actual_construction_costs_t),'.3f'))\n",
    "arte2_c = float(format(adjustedR2(complex_model_7.score(df_test[:,7:9],Actual_construction_costs_t),df_test.shape[0],2),'.3f'))\n",
    "cv52_c = float(format(cross_val_score(complex_model_7,df_use[:,7:9],Actual_construction_costs,cv=5).mean(),'.3f'))\n",
    "\n",
    "r = evaluation_C.shape[0]\n",
    "evaluation_C.loc[r] = ['Multiple Regression-2C','2 features on Cost',mse2_c,rtr2_c,artr2_c,rte2_c,arte2_c,cv52_c]\n",
    "evaluation_C.sort_values(by = '5-Fold Cross Validation', ascending=False)"
   ]
  },
  {
   "cell_type": "markdown",
   "metadata": {
    "id": "XH6Ktf6P9jTD"
   },
   "source": [
    "### 3. Multi-3 on Cost, Choose 3 Variables: V8, V26, V28"
   ]
  },
  {
   "cell_type": "markdown",
   "metadata": {
    "id": "sDr2og0PSE2s"
   },
   "source": [
    "MM3_C: $Actual~construction~costs = W_{0}+ W_{1}V_{8}+ W_{2}V_{26} + W_{3}V_{28}$"
   ]
  },
  {
   "cell_type": "code",
   "execution_count": 342,
   "metadata": {
    "colab": {
     "base_uri": "https://localhost:8080/"
    },
    "id": "9eLix3fXAGs1",
    "outputId": "fe56cf71-c25f-425e-dcbe-cea1d4ec3199"
   },
   "outputs": [
    {
     "name": "stdout",
     "output_type": "stream",
     "text": [
      "Intercept: 8.462040761106834\n",
      "Coefficients: [7.67878499e-02 1.45531115e+00 4.03426266e-04]\n",
      "MM3_C: Actual Construction Costs = 8.462040761106834 + 0.07678784992153691 * V8 + 1.4553111503881757 * V26 + 1.4553111503881757 * V28\n"
     ]
    }
   ],
   "source": [
    "complex_model_8 = linear_model.LinearRegression()\n",
    "complex_model_8.fit(df_use[:,6:9], Actual_construction_costs)\n",
    "print('Intercept: {}'.format(complex_model_8.intercept_))\n",
    "print('Coefficients: {}'.format(complex_model_8.coef_))\n",
    "print('MM3_C: Actual Construction Costs = {}'.format(complex_model_8.intercept_) + ' + {}'.format(complex_model_8.coef_[0]) + ' * V8' + ' + {}'.format(complex_model_8.coef_[1]) +\" * V26\" +' + {}'.format(complex_model_8.coef_[1]) +\" * V28\") "
   ]
  },
  {
   "cell_type": "code",
   "execution_count": 343,
   "metadata": {
    "colab": {
     "base_uri": "https://localhost:8080/",
     "height": 203
    },
    "id": "wa7MGSYD5ERO",
    "outputId": "39f309ec-2f5f-4ac6-eefd-6fa22c044d7f"
   },
   "outputs": [
    {
     "data": {
      "text/html": [
       "<div>\n",
       "<style scoped>\n",
       "    .dataframe tbody tr th:only-of-type {\n",
       "        vertical-align: middle;\n",
       "    }\n",
       "\n",
       "    .dataframe tbody tr th {\n",
       "        vertical-align: top;\n",
       "    }\n",
       "\n",
       "    .dataframe thead th {\n",
       "        text-align: right;\n",
       "    }\n",
       "</style>\n",
       "<table border=\"1\" class=\"dataframe\">\n",
       "  <thead>\n",
       "    <tr style=\"text-align: right;\">\n",
       "      <th></th>\n",
       "      <th>Model</th>\n",
       "      <th>Details</th>\n",
       "      <th>Mean Squared Error (MSE)</th>\n",
       "      <th>R-squared (training)</th>\n",
       "      <th>Adjusted R-squared (training)</th>\n",
       "      <th>R-squared (test)</th>\n",
       "      <th>Adjusted R-squared (test)</th>\n",
       "      <th>5-Fold Cross Validation</th>\n",
       "    </tr>\n",
       "  </thead>\n",
       "  <tbody>\n",
       "    <tr>\n",
       "      <th>0</th>\n",
       "      <td>Multiple Regression-1C</td>\n",
       "      <td>2 features on Cost</td>\n",
       "      <td>6748.842</td>\n",
       "      <td>0.744</td>\n",
       "      <td>0.743</td>\n",
       "      <td>0.779</td>\n",
       "      <td>0.776</td>\n",
       "      <td>0.743</td>\n",
       "    </tr>\n",
       "    <tr>\n",
       "      <th>2</th>\n",
       "      <td>Multiple Regression-3C</td>\n",
       "      <td>selected features</td>\n",
       "      <td>6720.566</td>\n",
       "      <td>0.745</td>\n",
       "      <td>0.743</td>\n",
       "      <td>0.781</td>\n",
       "      <td>0.775</td>\n",
       "      <td>0.742</td>\n",
       "    </tr>\n",
       "    <tr>\n",
       "      <th>1</th>\n",
       "      <td>Multiple Regression-2C</td>\n",
       "      <td>2 features on Cost</td>\n",
       "      <td>10491.562</td>\n",
       "      <td>0.602</td>\n",
       "      <td>0.600</td>\n",
       "      <td>0.626</td>\n",
       "      <td>0.620</td>\n",
       "      <td>0.612</td>\n",
       "    </tr>\n",
       "  </tbody>\n",
       "</table>\n",
       "</div>"
      ],
      "text/plain": [
       "                    Model             Details  Mean Squared Error (MSE)  \\\n",
       "0  Multiple Regression-1C  2 features on Cost                  6748.842   \n",
       "2  Multiple Regression-3C   selected features                  6720.566   \n",
       "1  Multiple Regression-2C  2 features on Cost                 10491.562   \n",
       "\n",
       "   R-squared (training)  Adjusted R-squared (training)  R-squared (test)  \\\n",
       "0                 0.744                          0.743             0.779   \n",
       "2                 0.745                          0.743             0.781   \n",
       "1                 0.602                          0.600             0.626   \n",
       "\n",
       "   Adjusted R-squared (test)  5-Fold Cross Validation  \n",
       "0                      0.776                    0.743  \n",
       "2                      0.775                    0.742  \n",
       "1                      0.620                    0.612  "
      ]
     },
     "execution_count": 343,
     "metadata": {},
     "output_type": "execute_result"
    }
   ],
   "source": [
    "pred3_c = complex_model_8.predict(df_use[:,6:9])\n",
    "mse3_c = float(format(metrics.mean_squared_error(Actual_construction_costs,pred3_c),'.3f'))\n",
    "rtr3_c = float(format(complex_model_8.score(df_use[:,6:9],Actual_construction_costs),'.3f'))\n",
    "artr3_c = float(format(adjustedR2(complex_model_8.score(df_use[:,6:9],Actual_construction_costs),df_use.shape[0],3),'.3f'))\n",
    "rte3_c = float(format(complex_model_8.score(df_test[:,6:9],Actual_construction_costs_t),'.3f'))\n",
    "arte3_c = float(format(adjustedR2(complex_model_8.score(df_test[:,6:9],Actual_construction_costs_t),df_test.shape[0],3),'.3f'))\n",
    "cv53_c = float(format(cross_val_score(complex_model_8,df_use[:,6:9],Actual_construction_costs,cv=5).mean(),'.3f'))\n",
    "\n",
    "r = evaluation_C.shape[0]\n",
    "evaluation_C.loc[r] = ['Multiple Regression-3C','selected features',mse3_c,rtr3_c,artr3_c,rte3_c,arte3_c,cv53_c]\n",
    "evaluation_C.sort_values(by = '5-Fold Cross Validation', ascending=False)"
   ]
  },
  {
   "cell_type": "markdown",
   "metadata": {
    "id": "gDTgD3aAKUak"
   },
   "source": [
    "### 4. Multi-3 on Cost, Choose 3 Variables: V2, V8, V28"
   ]
  },
  {
   "cell_type": "markdown",
   "metadata": {
    "id": "Z7nE_CUoK7OO"
   },
   "source": [
    "MM4_C: $Actual~construction~costs = W_{0}+ W_{1}V_{2}+ W_{2}V_{8} + W_{3}V_{28}$"
   ]
  },
  {
   "cell_type": "code",
   "execution_count": 344,
   "metadata": {
    "id": "-bGB9nyhi_Ot"
   },
   "outputs": [],
   "source": [
    "Vjoin = np.column_stack((df_use[:,5:7],df_use[:,8]))\n",
    "Vjoin_t = np.column_stack((df_test[:,5:7],df_test[:,8]))"
   ]
  },
  {
   "cell_type": "code",
   "execution_count": 345,
   "metadata": {
    "colab": {
     "base_uri": "https://localhost:8080/"
    },
    "id": "bv2cuuZFKfxf",
    "outputId": "9ec8de31-ded2-44cc-89ce-bd3f87e71a8f"
   },
   "outputs": [
    {
     "name": "stdout",
     "output_type": "stream",
     "text": [
      "Intercept: 51.539003323543994\n",
      "Coefficients: [0.00810441 0.11544297 0.00136312]\n",
      "MM4_C: Actual Construction Costs = 51.539003323543994 + 0.008104412344534484 * V2 + 0.11544296875839485 * V8 + 0.11544296875839485 * V28\n"
     ]
    }
   ],
   "source": [
    "complex_model_9 = linear_model.LinearRegression()\n",
    "complex_model_9.fit(Vjoin, Actual_construction_costs)\n",
    "print('Intercept: {}'.format(complex_model_9.intercept_))\n",
    "print('Coefficients: {}'.format(complex_model_9.coef_))\n",
    "print('MM4_C: Actual Construction Costs = {}'.format(complex_model_9.intercept_) + ' + {}'.format(complex_model_9.coef_[0]) + ' * V2' + ' + {}'.format(complex_model_9.coef_[1]) +\" * V8\" +' + {}'.format(complex_model_9.coef_[1]) +\" * V28\")"
   ]
  },
  {
   "cell_type": "code",
   "execution_count": 346,
   "metadata": {
    "colab": {
     "base_uri": "https://localhost:8080/",
     "height": 166
    },
    "id": "WIDy6CoRKhz2",
    "outputId": "7c959ddf-e647-4a17-d431-f4b5e60e9a42"
   },
   "outputs": [
    {
     "data": {
      "text/html": [
       "<div>\n",
       "<style scoped>\n",
       "    .dataframe tbody tr th:only-of-type {\n",
       "        vertical-align: middle;\n",
       "    }\n",
       "\n",
       "    .dataframe tbody tr th {\n",
       "        vertical-align: top;\n",
       "    }\n",
       "\n",
       "    .dataframe thead th {\n",
       "        text-align: right;\n",
       "    }\n",
       "</style>\n",
       "<table border=\"1\" class=\"dataframe\">\n",
       "  <thead>\n",
       "    <tr style=\"text-align: right;\">\n",
       "      <th></th>\n",
       "      <th>Model</th>\n",
       "      <th>Details</th>\n",
       "      <th>Mean Squared Error (MSE)</th>\n",
       "      <th>R-squared (training)</th>\n",
       "      <th>Adjusted R-squared (training)</th>\n",
       "      <th>R-squared (test)</th>\n",
       "      <th>Adjusted R-squared (test)</th>\n",
       "      <th>5-Fold Cross Validation</th>\n",
       "    </tr>\n",
       "  </thead>\n",
       "  <tbody>\n",
       "    <tr>\n",
       "      <th>0</th>\n",
       "      <td>Multiple Regression-1C</td>\n",
       "      <td>2 features on Cost</td>\n",
       "      <td>6748.842</td>\n",
       "      <td>0.744</td>\n",
       "      <td>0.743</td>\n",
       "      <td>0.779</td>\n",
       "      <td>0.776</td>\n",
       "      <td>0.743</td>\n",
       "    </tr>\n",
       "    <tr>\n",
       "      <th>2</th>\n",
       "      <td>Multiple Regression-3C</td>\n",
       "      <td>selected features</td>\n",
       "      <td>6720.566</td>\n",
       "      <td>0.745</td>\n",
       "      <td>0.743</td>\n",
       "      <td>0.781</td>\n",
       "      <td>0.775</td>\n",
       "      <td>0.742</td>\n",
       "    </tr>\n",
       "    <tr>\n",
       "      <th>1</th>\n",
       "      <td>Multiple Regression-2C</td>\n",
       "      <td>2 features on Cost</td>\n",
       "      <td>10491.562</td>\n",
       "      <td>0.602</td>\n",
       "      <td>0.600</td>\n",
       "      <td>0.626</td>\n",
       "      <td>0.620</td>\n",
       "      <td>0.612</td>\n",
       "    </tr>\n",
       "    <tr>\n",
       "      <th>3</th>\n",
       "      <td>Multiple Regression-4C</td>\n",
       "      <td>3 features on Price</td>\n",
       "      <td>9711.646</td>\n",
       "      <td>0.631</td>\n",
       "      <td>0.629</td>\n",
       "      <td>0.675</td>\n",
       "      <td>0.666</td>\n",
       "      <td>0.596</td>\n",
       "    </tr>\n",
       "  </tbody>\n",
       "</table>\n",
       "</div>"
      ],
      "text/plain": [
       "                    Model              Details  Mean Squared Error (MSE)  \\\n",
       "0  Multiple Regression-1C   2 features on Cost                  6748.842   \n",
       "2  Multiple Regression-3C    selected features                  6720.566   \n",
       "1  Multiple Regression-2C   2 features on Cost                 10491.562   \n",
       "3  Multiple Regression-4C  3 features on Price                  9711.646   \n",
       "\n",
       "   R-squared (training)  Adjusted R-squared (training)  R-squared (test)  \\\n",
       "0                 0.744                          0.743             0.779   \n",
       "2                 0.745                          0.743             0.781   \n",
       "1                 0.602                          0.600             0.626   \n",
       "3                 0.631                          0.629             0.675   \n",
       "\n",
       "   Adjusted R-squared (test)  5-Fold Cross Validation  \n",
       "0                      0.776                    0.743  \n",
       "2                      0.775                    0.742  \n",
       "1                      0.620                    0.612  \n",
       "3                      0.666                    0.596  "
      ]
     },
     "execution_count": 346,
     "metadata": {},
     "output_type": "execute_result"
    }
   ],
   "source": [
    "pred4_c = complex_model_9.predict(Vjoin)\n",
    "mse4_c = float(format(metrics.mean_squared_error(Actual_construction_costs,pred4_c),'.3f'))\n",
    "rtr4_c = float(format(complex_model_9.score(Vjoin,Actual_construction_costs),'.3f'))\n",
    "artr4_c = float(format(adjustedR2(complex_model_9.score(Vjoin,Actual_construction_costs),df_use.shape[0],3),'.3f'))\n",
    "rte4_c = float(format(complex_model_9.score(Vjoin_t,Actual_construction_costs_t),'.3f'))\n",
    "arte4_c = float(format(adjustedR2(complex_model_9.score(Vjoin_t,Actual_construction_costs_t),df_test.shape[0],3),'.3f'))\n",
    "cv54_c = float(format(cross_val_score(complex_model_9,Vjoin,Actual_construction_costs,cv=5).mean(),'.3f'))\n",
    "\n",
    "r = evaluation_C.shape[0]\n",
    "evaluation_C.loc[r] = ['Multiple Regression-4C','3 features on Price',mse4_c,rtr4_c,artr4_c,rte4_c,arte4_c,cv54_c]\n",
    "evaluation_C.sort_values(by = '5-Fold Cross Validation', ascending=False)"
   ]
  },
  {
   "cell_type": "markdown",
   "metadata": {
    "id": "uUXH60-T9nIY"
   },
   "source": [
    "### 5. Multi-4 on Cost, Choose All 4 Variables\n",
    "\n",
    "\n",
    "\n"
   ]
  },
  {
   "cell_type": "markdown",
   "metadata": {
    "id": "EK3dwoX9gv_A"
   },
   "source": [
    "MM5_C: $Actual~construction~costs = W_{0}+ W_{1}V_{2}+ W_{2}V_{8} + W_{3}V_{26} + W_{4}V_{28}$"
   ]
  },
  {
   "cell_type": "code",
   "execution_count": 347,
   "metadata": {
    "colab": {
     "base_uri": "https://localhost:8080/"
    },
    "id": "MlVk3IaXvgAH",
    "outputId": "aaa077a1-3146-4f0f-b061-bd275d3340a2"
   },
   "outputs": [
    {
     "name": "stdout",
     "output_type": "stream",
     "text": [
      "Intercept: -4.917462596158032\n",
      "Coefficients: [9.82603013e-03 7.14166769e-02 1.47681366e+00 4.17870118e-04]\n",
      "MM5_C: Actual Construction Costs = -4.917462596158032 + 0.00982603013373434 * V2 + 0.07141667691519339 * V8 + 1.4768136551082758 * V26 + 0.00041787011826351084 * V28\n"
     ]
    }
   ],
   "source": [
    "complex_model_10 = linear_model.LinearRegression()\n",
    "complex_model_10.fit(df_use[:,5:9], Actual_construction_costs)\n",
    "print('Intercept: {}'.format(complex_model_10.intercept_))\n",
    "print('Coefficients: {}'.format(complex_model_10.coef_))\n",
    "print('MM5_C: Actual Construction Costs = {}'.format(complex_model_10.intercept_) + ' + {}'.format(complex_model_10.coef_[0]) + ' * V2' + ' + {}'.format(complex_model_10.coef_[1]) +\" * V8\" +' + {}'.format(complex_model_10.coef_[2]) +\" * V26\" + ' + {}'.format(complex_model_10.coef_[3]) +\" * V28\")"
   ]
  },
  {
   "cell_type": "code",
   "execution_count": 348,
   "metadata": {
    "colab": {
     "base_uri": "https://localhost:8080/",
     "height": 225
    },
    "id": "R5USqlSivkJ-",
    "outputId": "35183595-beec-43dc-9cef-d48eca76298f"
   },
   "outputs": [
    {
     "data": {
      "text/html": [
       "<div>\n",
       "<style scoped>\n",
       "    .dataframe tbody tr th:only-of-type {\n",
       "        vertical-align: middle;\n",
       "    }\n",
       "\n",
       "    .dataframe tbody tr th {\n",
       "        vertical-align: top;\n",
       "    }\n",
       "\n",
       "    .dataframe thead th {\n",
       "        text-align: right;\n",
       "    }\n",
       "</style>\n",
       "<table border=\"1\" class=\"dataframe\">\n",
       "  <thead>\n",
       "    <tr style=\"text-align: right;\">\n",
       "      <th></th>\n",
       "      <th>Model</th>\n",
       "      <th>Details</th>\n",
       "      <th>Mean Squared Error (MSE)</th>\n",
       "      <th>R-squared (training)</th>\n",
       "      <th>Adjusted R-squared (training)</th>\n",
       "      <th>R-squared (test)</th>\n",
       "      <th>Adjusted R-squared (test)</th>\n",
       "      <th>5-Fold Cross Validation</th>\n",
       "    </tr>\n",
       "  </thead>\n",
       "  <tbody>\n",
       "    <tr>\n",
       "      <th>4</th>\n",
       "      <td>Multiple Regression-5C</td>\n",
       "      <td>All features on Price</td>\n",
       "      <td>9711.646</td>\n",
       "      <td>0.755</td>\n",
       "      <td>0.754</td>\n",
       "      <td>0.785</td>\n",
       "      <td>0.779</td>\n",
       "      <td>0.745</td>\n",
       "    </tr>\n",
       "    <tr>\n",
       "      <th>0</th>\n",
       "      <td>Multiple Regression-1C</td>\n",
       "      <td>2 features on Cost</td>\n",
       "      <td>6748.842</td>\n",
       "      <td>0.744</td>\n",
       "      <td>0.743</td>\n",
       "      <td>0.779</td>\n",
       "      <td>0.776</td>\n",
       "      <td>0.743</td>\n",
       "    </tr>\n",
       "    <tr>\n",
       "      <th>2</th>\n",
       "      <td>Multiple Regression-3C</td>\n",
       "      <td>selected features</td>\n",
       "      <td>6720.566</td>\n",
       "      <td>0.745</td>\n",
       "      <td>0.743</td>\n",
       "      <td>0.781</td>\n",
       "      <td>0.775</td>\n",
       "      <td>0.742</td>\n",
       "    </tr>\n",
       "    <tr>\n",
       "      <th>1</th>\n",
       "      <td>Multiple Regression-2C</td>\n",
       "      <td>2 features on Cost</td>\n",
       "      <td>10491.562</td>\n",
       "      <td>0.602</td>\n",
       "      <td>0.600</td>\n",
       "      <td>0.626</td>\n",
       "      <td>0.620</td>\n",
       "      <td>0.612</td>\n",
       "    </tr>\n",
       "    <tr>\n",
       "      <th>3</th>\n",
       "      <td>Multiple Regression-4C</td>\n",
       "      <td>3 features on Price</td>\n",
       "      <td>9711.646</td>\n",
       "      <td>0.631</td>\n",
       "      <td>0.629</td>\n",
       "      <td>0.675</td>\n",
       "      <td>0.666</td>\n",
       "      <td>0.596</td>\n",
       "    </tr>\n",
       "  </tbody>\n",
       "</table>\n",
       "</div>"
      ],
      "text/plain": [
       "                    Model                Details  Mean Squared Error (MSE)  \\\n",
       "4  Multiple Regression-5C  All features on Price                  9711.646   \n",
       "0  Multiple Regression-1C     2 features on Cost                  6748.842   \n",
       "2  Multiple Regression-3C      selected features                  6720.566   \n",
       "1  Multiple Regression-2C     2 features on Cost                 10491.562   \n",
       "3  Multiple Regression-4C    3 features on Price                  9711.646   \n",
       "\n",
       "   R-squared (training)  Adjusted R-squared (training)  R-squared (test)  \\\n",
       "4                 0.755                          0.754             0.785   \n",
       "0                 0.744                          0.743             0.779   \n",
       "2                 0.745                          0.743             0.781   \n",
       "1                 0.602                          0.600             0.626   \n",
       "3                 0.631                          0.629             0.675   \n",
       "\n",
       "   Adjusted R-squared (test)  5-Fold Cross Validation  \n",
       "4                      0.779                    0.745  \n",
       "0                      0.776                    0.743  \n",
       "2                      0.775                    0.742  \n",
       "1                      0.620                    0.612  \n",
       "3                      0.666                    0.596  "
      ]
     },
     "execution_count": 348,
     "metadata": {},
     "output_type": "execute_result"
    }
   ],
   "source": [
    "pred5_c = complex_model_10.predict(df_use[:,5:9])\n",
    "mse5_c = float(format(metrics.mean_squared_error(Actual_construction_costs,pred4_c),'.3f'))\n",
    "rtr5_c = float(format(complex_model_10.score(df_use[:,5:9],Actual_construction_costs),'.3f'))\n",
    "artr5_c = float(format(adjustedR2(complex_model_10.score(df_use[:,5:9],Actual_construction_costs),df_use.shape[0],3),'.3f'))\n",
    "rte5_c = float(format(complex_model_10.score(df_test[:,5:9],Actual_construction_costs_t),'.3f'))\n",
    "arte5_c = float(format(adjustedR2(complex_model_10.score(df_test[:,5:9],Actual_construction_costs_t),df_test.shape[0],3),'.3f'))\n",
    "cv55_c = float(format(cross_val_score(complex_model_10,df_use[:,5:9],Actual_construction_costs,cv=5).mean(),'.3f'))\n",
    "\n",
    "r = evaluation_C.shape[0]\n",
    "evaluation_C.loc[r] = ['Multiple Regression-5C','All features on Price',mse5_c,rtr5_c,artr5_c,rte5_c,arte5_c,cv55_c]\n",
    "evaluation_C.sort_values(by = '5-Fold Cross Validation', ascending=False)"
   ]
  },
  {
   "cell_type": "code",
   "execution_count": 349,
   "metadata": {
    "colab": {
     "base_uri": "https://localhost:8080/",
     "height": 530
    },
    "id": "WhueTKf4NqCF",
    "outputId": "30ec09a1-5230-4674-b47a-5285f7f1108a"
   },
   "outputs": [
    {
     "data": {
      "text/plain": [
       "<function matplotlib.pyplot.tight_layout(pad=1.08, h_pad=None, w_pad=None, rect=None)>"
      ]
     },
     "execution_count": 349,
     "metadata": {},
     "output_type": "execute_result"
    },
    {
     "data": {
      "image/png": "[encoded data removed]",
      "text/plain": [
       "<Figure size 1080x576 with 1 Axes>"
      ]
     },
     "metadata": {
      "needs_background": "light"
     },
     "output_type": "display_data"
    }
   ],
   "source": [
    "plt.figure(figsize=(15,8))\n",
    "labels= [\"1c_MSE\", \"2c_MSE\", \"3c_MSE\", \"4c_MSE\", \"5c_MSE\"]\n",
    "data = [mse1_c, mse2_c, mse3_c, mse4_c, mse5_c]\n",
    "plt.bar(labels, data)\n",
    "plt.title('MSE of 5 multi models on Cost', fontsize = 30)\n",
    "plt.tight_layout"
   ]
  },
  {
   "cell_type": "markdown",
   "metadata": {
    "id": "KrdH0_mf8Ew0"
   },
   "source": [
    "## VIII. Polynomial Regression"
   ]
  },
  {
   "cell_type": "markdown",
   "metadata": {
    "id": "YbrdyuDa8K7a"
   },
   "source": [
    "### Degree 2, All features, univariate"
   ]
  },
  {
   "cell_type": "markdown",
   "metadata": {
    "id": "TdCm_a3y1d2x"
   },
   "source": [
    "#### 1. Model 1: Actual Sale Price = w0 + w1*V2 + w2*(V2^2)where V2 is Total floor area of the building, and w0, w1, w2 are the weights."
   ]
  },
  {
   "cell_type": "code",
   "execution_count": 350,
   "metadata": {
    "colab": {
     "base_uri": "https://localhost:8080/"
    },
    "id": "5Fqkjbp81HEg",
    "outputId": "b2ff8bf8-a7dd-4372-a6dd-6236ec3b51ee"
   },
   "outputs": [
    {
     "name": "stdout",
     "output_type": "stream",
     "text": [
      "Model1: Actual Sale Price = 720.843597 + 0.494396 * V2 + -0.000027 * (V2^2)\n"
     ]
    }
   ],
   "source": [
    "v2_model_1 = df_use[:, 5]\n",
    "Actual_Sale_Price = df_use[:, 9]\n",
    "## Create A, the augmented data array\n",
    "X1 = v2_model_1 \n",
    "X1 = X1.astype(np.float64) # X was treated as an object and needed to be floats\n",
    "Y1 = Actual_Sale_Price\n",
    "Y1 = np.array(Y1)\n",
    "Y1 = Y1.astype(np.float64)\n",
    "\n",
    "ones1 = np.ones([len(X1), ], dtype = int)\n",
    "\n",
    "X1_square = X1**2\n",
    "A1_p = np.vstack((ones1, X1, X1_square))\n",
    "A11_p = A1_p.transpose()\n",
    "A11_p.shape # 372 X 3\n",
    "## Solve for w, the weight vector\n",
    "ws1_p = np.linalg.lstsq(A11_p, Y1, rcond=None)[0]\n",
    "print('Model1: Actual Sale Price = %f + %f * V2 + %f * (V2^2)' % (ws1_p[0], ws1_p[1], ws1_p[2]))"
   ]
  },
  {
   "cell_type": "markdown",
   "metadata": {
    "id": "gy-ENC7e1zdE"
   },
   "source": [
    "#### 2. Model 2: Actual construction costs = w0 + w1V2 + w2(V2^2)where V2 is Total floor area of the building, and w0, w1, w2 are the weights."
   ]
  },
  {
   "cell_type": "code",
   "execution_count": 351,
   "metadata": {
    "colab": {
     "base_uri": "https://localhost:8080/"
    },
    "id": "au-EYgFb1cFx",
    "outputId": "358be262-f6a8-41d0-884b-088d1ae28c78"
   },
   "outputs": [
    {
     "name": "stdout",
     "output_type": "stream",
     "text": [
      "Model2: Actual construction costs = 163.826149 + 0.044932 * V2 + -0.000002 * (V2^2)\n"
     ]
    }
   ],
   "source": [
    "v2_model_2 = df_use[:, 5]\n",
    "Actual_construction_costs = df_use[:, 10]\n",
    "## Create A, the augmented data array\n",
    "X2 = v2_model_2 \n",
    "X2 = X2.astype(np.float64) # X was treated as an object and needed to be floats\n",
    "Y2 = Actual_construction_costs\n",
    "Y2 = np.array(Y2)\n",
    "Y2 = Y2.astype(np.float64)\n",
    "\n",
    "ones2 = np.ones([len(X2), ], dtype = int)\n",
    "\n",
    "X2_square = X2**2\n",
    "A2_p = np.vstack((ones2, X2, X2_square))\n",
    "A22_p = A2_p.transpose()\n",
    "A22_p.shape # 372 X 3\n",
    "## Solve for w, the weight vector\n",
    "ws2_p = np.linalg.lstsq(A22_p, Y2, rcond=None)[0]\n",
    "print('Model2: Actual construction costs = %f + %f * V2 + %f * (V2^2)' % (ws2_p[0], ws2_p[1], ws2_p[2]))"
   ]
  },
  {
   "cell_type": "markdown",
   "metadata": {
    "id": "lLmEK7YS1_gA"
   },
   "source": [
    "#### 3. Model 3: Actual Sale Price = w0 + w1*V8 + w2(V8^2) where V8 is Price of the unit at the beginning of the project per m^2, and w0, w1, w2 are the weights."
   ]
  },
  {
   "cell_type": "code",
   "execution_count": 352,
   "metadata": {
    "colab": {
     "base_uri": "https://localhost:8080/"
    },
    "id": "yjoiQUql5VUK",
    "outputId": "c6b1d45b-ec50-4550-cc64-75c2b7f12ea4"
   },
   "outputs": [
    {
     "name": "stdout",
     "output_type": "stream",
     "text": [
      "Model3: Actual Sale Price = -60.739105 + 1.463253 * V8 + -0.000064 * (V8^2)\n"
     ]
    }
   ],
   "source": [
    "v8_model_3 = df_use[:, 6]\n",
    "Actual_Sale_Price = df_use[:, 9]\n",
    "## Create A, the augmented data array\n",
    "X3 = v8_model_3\n",
    "X3 = X3.astype(np.float64) # X was treated as an object and needed to be floats\n",
    "Y3 = Actual_Sale_Price\n",
    "Y3 = np.array(Y3)\n",
    "Y3 = Y3.astype(np.float64)\n",
    "\n",
    "ones3 = np.ones([len(X3), ], dtype = int)\n",
    "\n",
    "X3_square = X3**2\n",
    "A3_p = np.vstack((ones3, X3, X3_square))\n",
    "A33_p = A3_p.transpose()\n",
    "A33_p.shape # 372 X 3\n",
    "## Solve for w, the weight vector\n",
    "ws3_p = np.linalg.lstsq(A33_p, Y3, rcond=None)[0]\n",
    "print('Model3: Actual Sale Price = %f + %f * V8 + %f * (V8^2)' % (ws3_p[0], ws3_p[1], ws3_p[2]))"
   ]
  },
  {
   "cell_type": "markdown",
   "metadata": {
    "id": "Ij0cwbMZ2LqJ"
   },
   "source": [
    "#### 4. Model 4: Actual construction costs = w0 + w1*V8 + w2(V8^2) where V8 is Price of the unit at the beginning of the project per m^2, and w0, w1, w2 are the weights."
   ]
  },
  {
   "cell_type": "code",
   "execution_count": 353,
   "metadata": {
    "colab": {
     "base_uri": "https://localhost:8080/"
    },
    "id": "YldM1pgv6EHG",
    "outputId": "7dadf381-b334-4f55-c72b-aae523b2352c"
   },
   "outputs": [
    {
     "name": "stdout",
     "output_type": "stream",
     "text": [
      "Model4: Actual construction costs = 48.788232 + 0.202993 * V8 + -0.000018 * (V8^2)\n"
     ]
    }
   ],
   "source": [
    "v8_model_4 = df_use[:, 6]\n",
    "Actual_construction_costs = df_use[:, 10]\n",
    "## Create A, the augmented data array\n",
    "X4 = v8_model_4 \n",
    "X4 = X4.astype(np.float64) # X was treated as an object and needed to be floats\n",
    "Y4 = Actual_construction_costs\n",
    "Y4 = np.array(Y4)\n",
    "Y4 = Y4.astype(np.float64)\n",
    "\n",
    "ones4 = np.ones([len(X4), ], dtype = int)\n",
    "\n",
    "X4_square = X4**2\n",
    "A4_p = np.vstack((ones4, X4, X4_square))\n",
    "A44_p = A4_p.transpose()\n",
    "A44_p.shape # 372 X 3\n",
    "## Solve for w, the weight vector\n",
    "ws4_p = np.linalg.lstsq(A44_p, Y4, rcond=None)[0]\n",
    "print('Model4: Actual construction costs = %f + %f * V8 + %f * (V8^2)' % (ws4_p[0], ws4_p[1], ws4_p[2]))"
   ]
  },
  {
   "cell_type": "markdown",
   "metadata": {
    "id": "yiFcZNe72brT"
   },
   "source": [
    "#### 5. Model 5: Actual Sale Price = w0 + w1*V26 +  w2(V26^2) where V26 is CPI of housing, water, fuel and power in the base year, and w0, w1, w2 are the weights."
   ]
  },
  {
   "cell_type": "code",
   "execution_count": 354,
   "metadata": {
    "colab": {
     "base_uri": "https://localhost:8080/"
    },
    "id": "B_strbZR6r7k",
    "outputId": "5d9fc4f8-c563-4a13-b4ce-67bcb4af39de"
   },
   "outputs": [
    {
     "name": "stdout",
     "output_type": "stream",
     "text": [
      "Model5: Actual Sale Price = -50.021664 + 19.840120 * V26 + -0.026047 * (V26^2)\n"
     ]
    }
   ],
   "source": [
    "v26_model_5 = df_use[:, 7]\n",
    "Actual_Sale_Price = df_use[:, 9]\n",
    "## Create A, the augmented data array\n",
    "X5 = v26_model_5\n",
    "X5 = X5.astype(np.float64) # X was treated as an object and needed to be floats\n",
    "Y5 = Actual_Sale_Price\n",
    "Y5 = np.array(Y5)\n",
    "Y5 = Y5.astype(np.float64)\n",
    "\n",
    "ones5 = np.ones([len(X5), ], dtype = int)\n",
    "\n",
    "X5_square = X5**2\n",
    "A5_p = np.vstack((ones5, X5, X5_square))\n",
    "A55_p = A5_p.transpose()\n",
    "A55_p.shape # 372 X 3\n",
    "## Solve for w, the weight vector\n",
    "ws5_p = np.linalg.lstsq(A55_p, Y5, rcond=None)[0]\n",
    "print('Model5: Actual Sale Price = %f + %f * V26 + %f * (V26^2)' % (ws5_p[0], ws5_p[1], ws5_p[2]))"
   ]
  },
  {
   "cell_type": "markdown",
   "metadata": {
    "id": "We2tIVRZ2nGK"
   },
   "source": [
    "#### 6. Model 6: Actual construction costs = w0 + w1*V26 + w2(V26^2) where V26 is CPI of housing, water, fuel and power in the base year, and w0, w1, w2 are the weights."
   ]
  },
  {
   "cell_type": "code",
   "execution_count": 355,
   "metadata": {
    "colab": {
     "base_uri": "https://localhost:8080/"
    },
    "id": "SbRKTJUD7tHj",
    "outputId": "b3af19fa-0db6-4465-bdd0-c936c32f3179"
   },
   "outputs": [
    {
     "name": "stdout",
     "output_type": "stream",
     "text": [
      "Model6: Actual construction costs = 14.210937 + 2.542770 * V26 + -0.000412 * (V26^2)\n"
     ]
    }
   ],
   "source": [
    "v26_model_6 = df_use[:, 7]\n",
    "Actual_construction_costs = df_use[:, 10]\n",
    "## Create A, the augmented data array\n",
    "X6 = v26_model_6 \n",
    "X6 = X6.astype(np.float64) # X was treated as an object and needed to be floats\n",
    "Y6 = Actual_construction_costs\n",
    "Y6 = np.array(Y6)\n",
    "Y6 = Y6.astype(np.float64)\n",
    "\n",
    "ones6 = np.ones([len(X6), ], dtype = int)\n",
    "\n",
    "X6_square = X6**2\n",
    "A6_p = np.vstack((ones6, X6, X6_square))\n",
    "A66_p = A6_p.transpose()\n",
    "A66_p.shape # 372 X 3\n",
    "## Solve for w, the weight vector\n",
    "ws6_p = np.linalg.lstsq(A66_p, Y6, rcond=None)[0]\n",
    "print('Model6: Actual construction costs = %f + %f * V26 + %f * (V26^2)' % (ws6_p[0], ws6_p[1], ws6_p[2]))"
   ]
  },
  {
   "cell_type": "markdown",
   "metadata": {
    "id": "Wjq6u7Y12vJK"
   },
   "source": [
    "#### Model 7: Actual Sale Price = w0 + w1*V28 + w2(V28^2) where V28 is population of the city, and w0, w1, w2 are the weights."
   ]
  },
  {
   "cell_type": "code",
   "execution_count": 356,
   "metadata": {
    "colab": {
     "base_uri": "https://localhost:8080/"
    },
    "id": "w2rX_cd37IFr",
    "outputId": "96929d54-2666-4a4b-d217-af4f25d07b16"
   },
   "outputs": [
    {
     "name": "stdout",
     "output_type": "stream",
     "text": [
      "Model7: Actual Sale Price = 1707.948283 + -0.058970 * V28 + 0.000001 * (V28^2)\n"
     ]
    }
   ],
   "source": [
    "v28_model_7 = df_use[:, 8]\n",
    "Actual_Sale_Price = df_use[:, 9]\n",
    "## Create A, the augmented data array\n",
    "X7 = v28_model_7\n",
    "X7 = X7.astype(np.float64) # X was treated as an object and needed to be floats\n",
    "Y7 = Actual_Sale_Price\n",
    "Y7 = np.array(Y7)\n",
    "Y7 = Y7.astype(np.float64)\n",
    "\n",
    "ones7 = np.ones([len(X7), ], dtype = int)\n",
    "\n",
    "X7_square = X7**2\n",
    "A7_p = np.vstack((ones7, X7, X7_square))\n",
    "A77_p = A7_p.transpose()\n",
    "A77_p.shape # 372 X 3\n",
    "## Solve for w, the weight vector\n",
    "ws7_p = np.linalg.lstsq(A77_p, Y7, rcond=None)[0]\n",
    "print('Model7: Actual Sale Price = %f + %f * V28 + %f * (V28^2)' % (ws7_p[0], ws7_p[1], ws7_p[2]))"
   ]
  },
  {
   "cell_type": "markdown",
   "metadata": {
    "id": "D23S_HlO27V1"
   },
   "source": [
    "#### Model 8: Actual construction costs = w0 + w1*V28 + w2(V28^2) where V28 is population of the city, and w0, w1, w2 are the weights."
   ]
  },
  {
   "cell_type": "code",
   "execution_count": 357,
   "metadata": {
    "colab": {
     "base_uri": "https://localhost:8080/"
    },
    "id": "XEqabUkI7_Js",
    "outputId": "c0e7ccdb-e6ed-4fb3-eecb-9d2a17a6cee3"
   },
   "outputs": [
    {
     "name": "stdout",
     "output_type": "stream",
     "text": [
      "Model8: Actual construction costs = 277.052545 + -0.009281 * V28 + 0.000000 * (V28^2)\n"
     ]
    }
   ],
   "source": [
    "v28_model_8 = df_use[:, 8]\n",
    "Actual_construction_costs = df_use[:, 10]\n",
    "## Create A, the augmented data array\n",
    "X8 = v28_model_8 \n",
    "X8 = X8.astype(np.float64) # X was treated as an object and needed to be floats\n",
    "Y8 = Actual_construction_costs\n",
    "Y8 = np.array(Y8)\n",
    "Y8 = Y8.astype(np.float64)\n",
    "\n",
    "ones8 = np.ones([len(X8), ], dtype = int)\n",
    "\n",
    "X8_square = X8**2\n",
    "A8_p = np.vstack((ones8, X8, X8_square))\n",
    "A88_p = A8_p.transpose()\n",
    "A88_p.shape # 372 X 3\n",
    "## Solve for w, the weight vector\n",
    "ws8_p = np.linalg.lstsq(A88_p, Y8, rcond=None)[0]\n",
    "print('Model8: Actual construction costs = %f + %f * V28 + %f * (V28^2)' % (ws8_p[0], ws8_p[1], ws8_p[2]))"
   ]
  },
  {
   "cell_type": "markdown",
   "metadata": {
    "id": "FbkOoK0P9BJB"
   },
   "source": [
    "#### model prediction"
   ]
  },
  {
   "cell_type": "code",
   "execution_count": 358,
   "metadata": {
    "id": "-dxuapsq9GAc"
   },
   "outputs": [],
   "source": [
    "M1_predict_p = ws1_p[0] + ws1_p[1] * X + ws1_p[2] * (X**2)\n",
    "M2_predict_p = ws2_p[0] + ws2_p[1] * X2 + ws2_p[2] * (X2**2)\n",
    "M3_predict_p = ws3_p[0] + ws3_p[1] * X3 + ws3_p[2] * (X3**2)\n",
    "M4_predict_p = ws4_p[0] + ws4_p[1] * X4 + ws4_p[2] * (X4**2)\n",
    "M5_predict_p = ws5_p[0] + ws5_p[1] * X5 + ws5_p[2] * (X5**2)\n",
    "M6_predict_p = ws6_p[0] + ws6_p[1] * X6 + ws6_p[2] * (X6**2)\n",
    "M7_predict_p = ws7_p[0] + ws7_p[1] * X7 + ws7_p[2] * (X7**2)\n",
    "M8_predict_p = ws8_p[0] + ws8_p[1] * X8 + ws8_p[2] * (X8**2)"
   ]
  },
  {
   "cell_type": "code",
   "execution_count": 359,
   "metadata": {
    "id": "SVaTzka99s_f"
   },
   "outputs": [],
   "source": [
    "sample_size = len(v2_model_1)\n",
    "MSE_model1_p = ((Y1 - M1_predict_p)**2).sum()/sample_size\n",
    "MSE_model2_p = ((Y2 - M2_predict_p)**2).sum()/sample_size\n",
    "MSE_model3_p = ((Y3 - M3_predict_p)**2).sum()/sample_size\n",
    "MSE_model4_p = ((Y4 - M4_predict_p)**2).sum()/sample_size\n",
    "MSE_model5_p = ((Y5 - M5_predict_p)**2).sum()/sample_size\n",
    "MSE_model6_p = ((Y6 - M6_predict_p)**2).sum()/sample_size\n",
    "MSE_model7_p = ((Y7 - M7_predict_p)**2).sum()/sample_size\n",
    "MSE_model8_p = ((Y8 - M8_predict_p)**2).sum()/sample_size\n",
    "\n",
    "test_samplesize = len(df_test[:,5])\n",
    "y_saleprice_test = df_test[:,9]\n",
    "y_saleprice_test = y_saleprice_test.astype(np.float64)\n",
    "y_constrPrice_test = df_test[:,10]\n",
    "y_constrPrice_test = y_constrPrice_test.astype(np.float64)\n",
    "v2_test = df_test[:,5]\n",
    "v2_test = v2_test.astype(np.float64)\n",
    "v8_test = df_test[:,6]\n",
    "v8_test = v8_test.astype(np.float64)\n",
    "v26_test = df_test[:,7]\n",
    "v26_test = v26_test.astype(np.float64)\n",
    "v28_test = df_test[:,8]\n",
    "v28_test = v28_test.astype(np.float64)\n",
    "\n",
    "M1_test_predict_p = ws1_p[0] + ws1_p[1] * v2_test + ws1_p[2] * (v2_test**2)\n",
    "M2_test_predict_p = ws2_p[0] + ws2_p[1] * v2_test + ws2_p[2] * (v2_test**2)\n",
    "M3_test_predict_p = ws3_p[0] + ws3_p[1] * v8_test + ws3_p[2] * (v8_test**2)\n",
    "M4_test_predict_p = ws4_p[0] + ws4_p[1] * v8_test + ws4_p[2] * (v8_test**2)\n",
    "M5_test_predict_p = ws5_p[0] + ws5_p[1] * v26_test + ws5_p[2] * (v26_test**2)\n",
    "M6_test_predict_p = ws6_p[0] + ws6_p[1] * v26_test + ws6_p[2] * (v26_test**2)\n",
    "M7_test_predict_p = ws7_p[0] + ws7_p[1] * v28_test + ws7_p[2] * (v28_test**2)\n",
    "M8_test_predict_p = ws8_p[0] + ws8_p[1] * v28_test + ws8_p[2] * (v28_test**2)\n",
    "\n",
    "MSE_model1_test_p = ((y_saleprice_test - M1_test_predict_p)**2).sum()/test_samplesize\n",
    "MSE_model2_test_p = ((y_constrPrice_test - M2_test_predict_p)**2).sum()/test_samplesize\n",
    "MSE_model3_test_p = ((y_saleprice_test - M3_test_predict_p)**2).sum()/test_samplesize\n",
    "MSE_model4_test_p = ((y_constrPrice_test - M4_test_predict_p)**2).sum()/test_samplesize\n",
    "MSE_model5_test_p = ((y_saleprice_test - M5_test_predict_p)**2).sum()/test_samplesize\n",
    "MSE_model6_test_p = ((y_constrPrice_test - M6_test_predict_p)**2).sum()/test_samplesize\n",
    "MSE_model7_test_p = ((y_saleprice_test - M7_test_predict_p)**2).sum()/test_samplesize\n",
    "MSE_model8_test_p = ((y_constrPrice_test - M8_test_predict_p)**2).sum()/test_samplesize"
   ]
  },
  {
   "cell_type": "markdown",
   "metadata": {
    "id": "MSMcu8zABoIr"
   },
   "source": [
    "### MSE of Model 1, 3, 5, 7 for Training and Test data on *Price* of 2 degree polynomial regression model"
   ]
  },
  {
   "cell_type": "code",
   "execution_count": 360,
   "metadata": {
    "colab": {
     "base_uri": "https://localhost:8080/",
     "height": 689
    },
    "id": "8pDgZvsoBeCy",
    "outputId": "21b3a80c-7021-49da-c36b-19db9b30c0c3"
   },
   "outputs": [
    {
     "data": {
      "image/png": "[encoded data removed]",
      "text/plain": [
       "<Figure size 1080x720 with 1 Axes>"
      ]
     },
     "metadata": {
      "needs_background": "light"
     },
     "output_type": "display_data"
    },
    {
     "name": "stdout",
     "output_type": "stream",
     "text": [
      "Model_1 MSE is 1353388.879445 , Model_3 MSE is 59792.460043 , \n",
      "Model_5 MSE is 987213.846062 , Model_7 MSE is 1436924.261259 , \n"
     ]
    },
    {
     "data": {
      "image/png": "[encoded data removed]",
      "text/plain": [
       "<Figure size 1080x720 with 1 Axes>"
      ]
     },
     "metadata": {
      "needs_background": "light"
     },
     "output_type": "display_data"
    },
    {
     "name": "stdout",
     "output_type": "stream",
     "text": [
      "On test data, \n",
      "Model_1 test MSE is 1007589.266769 , Model_3 test MSE is 58002.539585 , \n",
      "Model_5 test MSE is 586849.308605 , Model_7 test MSE is 934644.864772 , \n"
     ]
    }
   ],
   "source": [
    "plt.subplot(2,1,1)\n",
    "MSE_xaxis_saleprice_p = ['Model1','Model3','Model5','Model7']\n",
    "MSE_yaxis_saleprice_p = [MSE_model1_p,MSE_model3_p,MSE_model5_p,MSE_model7_p]\n",
    "plt.bar(MSE_xaxis_saleprice_p, MSE_yaxis_saleprice_p)\n",
    "plt.title('MSE for each model from model 1,3,5,7(when predict actual sale price) on training data of 2 degree model')\n",
    "plt.show()\n",
    "print('Model_1 MSE is %f , Model_3 MSE is %f , ' % (MSE_yaxis_saleprice_p[0],MSE_yaxis_saleprice_p[1]))\n",
    "print('Model_5 MSE is %f , Model_7 MSE is %f , ' % (MSE_yaxis_saleprice_p[2],MSE_yaxis_saleprice_p[3]))\n",
    "\n",
    "plt.subplot(2,1,2)\n",
    "test_MSE_xaxis_salePrice_p = ['Model1','Model3','Model5','Model7']\n",
    "test_MSE_yaxis_salePrice_p = [MSE_model1_test_p,MSE_model3_test_p,MSE_model5_test_p,MSE_model7_test_p]\n",
    "plt.bar(test_MSE_xaxis_salePrice_p, test_MSE_yaxis_salePrice_p)\n",
    "plt.title('MSE for each model from model 1,3,5,7(predict actual sale price) on test data of 2 degree model')\n",
    "plt.show()\n",
    "print('On test data, ')\n",
    "print('Model_1 test MSE is %f , Model_3 test MSE is %f , ' % (test_MSE_yaxis_salePrice_p[0],test_MSE_yaxis_salePrice_p[1]))\n",
    "print('Model_5 test MSE is %f , Model_7 test MSE is %f , ' % (test_MSE_yaxis_salePrice_p[2],test_MSE_yaxis_salePrice_p[3]))"
   ]
  },
  {
   "cell_type": "markdown",
   "metadata": {
    "id": "lwrzjhZnBvT8"
   },
   "source": [
    "### MSE of Model 2, 4, 6, 8 for Training and Test data on *Cost* of 2 degree model"
   ]
  },
  {
   "cell_type": "code",
   "execution_count": 361,
   "metadata": {
    "colab": {
     "base_uri": "https://localhost:8080/",
     "height": 689
    },
    "id": "Mw2GAgDVDEMI",
    "outputId": "5359a951-404c-4e23-dca0-c4be9dac5697"
   },
   "outputs": [
    {
     "data": {
      "image/png": "[encoded data removed]",
      "text/plain": [
       "<Figure size 1080x720 with 1 Axes>"
      ]
     },
     "metadata": {
      "needs_background": "light"
     },
     "output_type": "display_data"
    },
    {
     "name": "stdout",
     "output_type": "stream",
     "text": [
      "Model_2 MSE is 23774.561396 , Model_4 MSE is 9390.345308 , \n",
      "Model_6 MSE is 10551.765109 , Model_8 MSE is 23214.568742 , \n"
     ]
    },
    {
     "data": {
      "image/png": "[encoded data removed]",
      "text/plain": [
       "<Figure size 1080x720 with 1 Axes>"
      ]
     },
     "metadata": {
      "needs_background": "light"
     },
     "output_type": "display_data"
    },
    {
     "name": "stdout",
     "output_type": "stream",
     "text": [
      "On test data, \n",
      "Model_2 test MSE is 26066.108783 , Model_4 test MSE is 6924.863139 , \n",
      "Model_6 test MSE is 9862.330711 , Model_8 test MSE is 21329.088401 , \n"
     ]
    }
   ],
   "source": [
    "plt.subplot(2,1,1)\n",
    "MSE_xaxis_constructPrice_p = ['Model2','Model4','Model6','Model8']\n",
    "MSE_yaxis_constructPrice_p = [MSE_model2_p,MSE_model4_p,MSE_model6_p,MSE_model8_p]\n",
    "plt.bar(MSE_xaxis_constructPrice_p, MSE_yaxis_constructPrice_p)\n",
    "plt.title('MSE for each model from model 2,4,6,8(when predict actual construction costs) on training data of 2 degree model')\n",
    "plt.show()\n",
    "print('Model_2 MSE is %f , Model_4 MSE is %f , ' % (MSE_yaxis_constructPrice_p[0],MSE_yaxis_constructPrice_p[1]))\n",
    "print('Model_6 MSE is %f , Model_8 MSE is %f , ' % (MSE_yaxis_constructPrice_p[2],MSE_yaxis_constructPrice_p[3]))\n",
    "\n",
    "plt.subplot(2,1,2)\n",
    "test_MSE_xaxis_constrPrice_p = ['Model2','Model4','Model6','Model8']\n",
    "test_MSE_yaxis_constrPrice_p = [MSE_model2_test_p,MSE_model4_test_p,MSE_model6_test_p,MSE_model8_test_p]\n",
    "plt.bar(test_MSE_xaxis_constrPrice_p, test_MSE_yaxis_constrPrice_p)\n",
    "plt.title('MSE for each model from model 2,4,6,8(predict actual construction costs) on test data of 2 degree model')\n",
    "plt.show()\n",
    "print('On test data, ')\n",
    "print('Model_2 test MSE is %f , Model_4 test MSE is %f , ' % (test_MSE_yaxis_constrPrice_p[0],test_MSE_yaxis_constrPrice_p[1]))\n",
    "print('Model_6 test MSE is %f , Model_8 test MSE is %f , ' % (test_MSE_yaxis_constrPrice_p[2],test_MSE_yaxis_constrPrice_p[3]))"
   ]
  },
  {
   "cell_type": "markdown",
   "metadata": {
    "id": "Z0qeFAPYJChO"
   },
   "source": [
    "### Comparison of 1 degree and 2 degree models 1, 3, 5, 7 on sale price"
   ]
  },
  {
   "cell_type": "code",
   "execution_count": 362,
   "metadata": {
    "colab": {
     "base_uri": "https://localhost:8080/",
     "height": 470
    },
    "id": "iyS54IhQJLbC",
    "outputId": "234ed5fb-014c-484a-b1e5-1120308a9ee4"
   },
   "outputs": [
    {
     "data": {
      "image/png": "[encoded data removed]",
      "text/plain": [
       "<Figure size 1080x720 with 1 Axes>"
      ]
     },
     "metadata": {
      "needs_background": "light"
     },
     "output_type": "display_data"
    },
    {
     "name": "stdout",
     "output_type": "stream",
     "text": [
      "[1421972.2186947588, 1353388.8794448848, 69896.61688407433, 59792.46004294002, 992086.7450423945, 987213.846061676, 1477996.7043615195, 1436924.2612592385]\n"
     ]
    },
    {
     "data": {
      "image/png": "[encoded data removed]",
      "text/plain": [
       "<Figure size 1080x720 with 1 Axes>"
      ]
     },
     "metadata": {
      "needs_background": "light"
     },
     "output_type": "display_data"
    },
    {
     "name": "stdout",
     "output_type": "stream",
     "text": [
      "[1131322.7742364933, 1007589.2667691786, 58501.408878022965, 58002.53958509254, 621548.2870025219, 586849.3086052217, 1042195.157549447, 934644.8647724994]\n"
     ]
    }
   ],
   "source": [
    "plt.subplot(2,1,1)\n",
    "MSE_xaxis_saleprice_compare = ['Model1','M1_p','Model3','M3_p','Model5','M5_p','Model7','M7_p']\n",
    "MSE_yaxis_saleprice_compare = [MSE_model1,MSE_model1_p,MSE_model3,MSE_model3_p,MSE_model5,MSE_model5_p,MSE_model7,MSE_model7_p,]\n",
    "plt.bar(MSE_xaxis_saleprice_compare, MSE_yaxis_saleprice_compare)\n",
    "plt.title('MSE for each model from model 1,3,5,7(when predict actual sale price) on training data 1&2 degree')\n",
    "plt.show()\n",
    "print(MSE_yaxis_saleprice_compare)\n",
    "\n",
    "plt.subplot(2,1,2)\n",
    "test_MSE_xaxis_salePrice_compare = ['Model1','M1_p','Model3','M3_p','Model5','M5_p','Model7','M7_p']\n",
    "test_MSE_yaxis_salePrice_compare = [MSE_model1_test,MSE_model1_test_p,MSE_model3_test,MSE_model3_test_p,MSE_model5_test,MSE_model5_test_p,MSE_model7_test,MSE_model7_test_p]\n",
    "plt.bar(test_MSE_xaxis_salePrice_compare, test_MSE_yaxis_salePrice_compare)\n",
    "plt.title('MSE for each model from model 1,3,5,7(predict actual sale price) on test data 1&2 degree')\n",
    "plt.show()\n",
    "print(test_MSE_yaxis_salePrice_compare)"
   ]
  },
  {
   "cell_type": "markdown",
   "metadata": {
    "id": "8Jbn0eY5EDRO"
   },
   "source": [
    "### Comparison of 1 degree and 2 degree models 2, 4, 6, 8 on cost"
   ]
  },
  {
   "cell_type": "code",
   "execution_count": 363,
   "metadata": {
    "colab": {
     "base_uri": "https://localhost:8080/",
     "height": 301
    },
    "id": "Ut798w2GEIAr",
    "outputId": "6ec8c1cc-f3f1-4fe3-f2b2-e26bdd3cc481"
   },
   "outputs": [
    {
     "data": {
      "image/png": "[encoded data removed]",
      "text/plain": [
       "<Figure size 1080x720 with 1 Axes>"
      ]
     },
     "metadata": {
      "needs_background": "light"
     },
     "output_type": "display_data"
    },
    {
     "name": "stdout",
     "output_type": "stream",
     "text": [
      "[24036.857312190426, 23774.561396206656, 10224.116554406102, 9390.3453080156, 10552.984765563284, 10551.765109227917, 24240.865619503402, 23214.56874234383]\n"
     ]
    },
    {
     "data": {
      "image/png": "[encoded data removed]",
      "text/plain": [
       "<Figure size 1080x720 with 1 Axes>"
      ]
     },
     "metadata": {
      "needs_background": "light"
     },
     "output_type": "display_data"
    },
    {
     "name": "stdout",
     "output_type": "stream",
     "text": [
      "[27604.991776761886, 26066.10878323746, 8916.316030244763, 6924.863139075297, 9906.917839987962, 9862.330710994389, 24703.394382332568, 21329.08840086488]\n"
     ]
    }
   ],
   "source": [
    "plt.subplot(2,1,1)\n",
    "MSE_xaxis_constructPrice_compare = ['Model2','M2_p','Model4','M4_p','Model6','M6_p','Model8','M8_p']\n",
    "MSE_yaxis_constructPrice_compare = [MSE_model2,MSE_model2_p,MSE_model4,MSE_model4_p,MSE_model6,MSE_model6_p,MSE_model8,MSE_model8_p]\n",
    "plt.bar(MSE_xaxis_constructPrice_compare, MSE_yaxis_constructPrice_compare)\n",
    "plt.title('MSE for each model from model 2,4,6,8(when predict actual construction costs) on training data of 1&2 degree model')\n",
    "plt.show()\n",
    "print(MSE_yaxis_constructPrice_compare)\n",
    "\n",
    "plt.subplot(2,1,2)\n",
    "test_MSE_xaxis_constrPrice_compare = ['Model2','M2_p','Model4','M4_p','Model6','M6_p','Model8','M8_p']\n",
    "test_MSE_yaxis_constrPrice_compare = [MSE_model2_test,MSE_model2_test_p,MSE_model4_test,MSE_model4_test_p,MSE_model6_test,MSE_model6_test_p,MSE_model8_test,MSE_model8_test_p]\n",
    "plt.bar(test_MSE_xaxis_constrPrice_compare, test_MSE_yaxis_constrPrice_compare)\n",
    "plt.title('MSE for each model from model 2,4,6,8(predict actual construction costs) on test data of 1&2 degree model')\n",
    "plt.show()\n",
    "print(test_MSE_yaxis_constrPrice_compare)"
   ]
  },
  {
   "cell_type": "markdown",
   "metadata": {
    "id": "LmLFcivBMeNh"
   },
   "source": [
    "#### Overall, all degree 2 have a little lower MSE value than the degree 1 models. However, the MSE values showed that the differences between degree 1 and degree 2 models are not significant, and the best prediction variable is still price of the unit at the beginning of the project per m^2(v8). "
   ]
  },
  {
   "cell_type": "raw",
   "metadata": {
    "id": "Ik9dQZwE8YZE"
   },
   "source": []
  },
  {
   "cell_type": "raw",
   "metadata": {
    "id": "BAj_1v43Nagg"
   },
   "source": []
  },
  {
   "cell_type": "raw",
   "metadata": {
    "id": "O_k2oWl8NyY8"
   },
   "source": []
  },
  {
   "cell_type": "code",
   "execution_count": null,
   "metadata": {
    "colab": {
     "base_uri": "https://localhost:8080/"
    },
    "id": "I2ndswe3Nq0z",
    "outputId": "001da427-6102-46bf-f710-ffcbe440cb96"
   },
   "outputs": [],
   "source": []
  },
  {
   "cell_type": "raw",
   "metadata": {
    "id": "6D87zu-M3ImQ"
   },
   "source": [
    " "
   ]
  },
  {
   "cell_type": "code",
   "execution_count": null,
   "metadata": {
    "colab": {
     "base_uri": "https://localhost:8080/"
    },
    "id": "TFm5rQmNTOXg",
    "outputId": "62e7d555-77a0-42d6-9320-ab75b7fa8007"
   },
   "outputs": [],
   "source": []
  },
  {
   "cell_type": "raw",
   "metadata": {
    "id": "g4SWd9QuOTsh"
   },
   "source": []
  },
  {
   "cell_type": "raw",
   "metadata": {
    "id": "DFR6YbfqT0J_"
   },
   "source": []
  },
  {
   "cell_type": "markdown",
   "metadata": {
    "id": "_XF-esjc8wMB"
   },
   "source": [
    "## IX. Evaluation Tables of All Models"
   ]
  },
  {
   "cell_type": "markdown",
   "metadata": {},
   "source": [
    " Model 1 to Model 8 are univariate regression models from Part VI.Polynomial models above are trained for further exploration of the independent variables. From the section above,degree 1 and degree 2 univariate models have no significant differences in MSE values, so we adopt univariate models of degree 1 here to make the comparison with the multivariate models. "
   ]
  },
  {
   "cell_type": "code",
   "execution_count": 366,
   "metadata": {
    "colab": {
     "base_uri": "https://localhost:8080/",
     "height": 530
    },
    "id": "URxTGEMn80ua",
    "outputId": "1744e077-9817-43d2-fb0f-f6f09bcc31ac"
   },
   "outputs": [
    {
     "data": {
      "text/plain": [
       "<function matplotlib.pyplot.tight_layout(pad=1.08, h_pad=None, w_pad=None, rect=None)>"
      ]
     },
     "execution_count": 366,
     "metadata": {},
     "output_type": "execute_result"
    },
    {
     "data": {
      "image/png": "[encoded data removed]",
      "text/plain": [
       "<Figure size 1080x576 with 1 Axes>"
      ]
     },
     "metadata": {
      "needs_background": "light"
     },
     "output_type": "display_data"
    }
   ],
   "source": [
    "plt.figure(figsize=(15,8))\n",
    "labels= ['Model1','Model3','Model5','Model7',\"1p_MSE\", \"2p_MSE\", \"3p_MSE\", \"4p_MSE\", \"5p_MSE\"]\n",
    "data = [MSE_model1,MSE_model3,MSE_model5,MSE_model7, mse1_p, mse2_p, mse3_p, mse4_p, mse5_p]\n",
    "plt.bar(labels, data)\n",
    "plt.title('MSE of 5 multi models on Price', fontsize = 30)\n",
    "plt.tight_layout"
   ]
  },
  {
   "cell_type": "code",
   "execution_count": 367,
   "metadata": {
    "colab": {
     "base_uri": "https://localhost:8080/",
     "height": 530
    },
    "id": "YQWGihgCTWKD",
    "outputId": "99c3e93a-4d0c-48bc-d6d4-d52c82017636"
   },
   "outputs": [
    {
     "data": {
      "text/plain": [
       "<function matplotlib.pyplot.tight_layout(pad=1.08, h_pad=None, w_pad=None, rect=None)>"
      ]
     },
     "execution_count": 367,
     "metadata": {},
     "output_type": "execute_result"
    },
    {
     "data": {
      "image/png": "[encoded data removed]",
      "text/plain": [
       "<Figure size 1080x576 with 1 Axes>"
      ]
     },
     "metadata": {
      "needs_background": "light"
     },
     "output_type": "display_data"
    }
   ],
   "source": [
    "plt.figure(figsize=(15,8))\n",
    "labels= ['Model2','Model4','Model6','Model8',\"1c_MSE\", \"2c_MSE\", \"3c_MSE\", \"4c_MSE\", \"5c_MSE\"]\n",
    "data = [MSE_model2,MSE_model4,MSE_model6,MSE_model8, mse1_c, mse2_c, mse3_c, mse4_c, mse5_c]\n",
    "plt.bar(labels, data)\n",
    "plt.title('MSE of 5 multi models on Cost', fontsize = 30)\n",
    "plt.tight_layout"
   ]
  },
  {
   "cell_type": "code",
   "execution_count": 368,
   "metadata": {
    "colab": {
     "base_uri": "https://localhost:8080/",
     "height": 195
    },
    "id": "ooPbSzERVxwI",
    "outputId": "8ae1aaea-f72b-406c-f308-f3ccd6fb1ff4"
   },
   "outputs": [
    {
     "data": {
      "text/html": [
       "<div>\n",
       "<style scoped>\n",
       "    .dataframe tbody tr th:only-of-type {\n",
       "        vertical-align: middle;\n",
       "    }\n",
       "\n",
       "    .dataframe tbody tr th {\n",
       "        vertical-align: top;\n",
       "    }\n",
       "\n",
       "    .dataframe thead th {\n",
       "        text-align: right;\n",
       "    }\n",
       "</style>\n",
       "<table border=\"1\" class=\"dataframe\">\n",
       "  <thead>\n",
       "    <tr style=\"text-align: right;\">\n",
       "      <th></th>\n",
       "      <th>Model</th>\n",
       "      <th>Details</th>\n",
       "      <th>Mean Squared Error (MSE)</th>\n",
       "      <th>R-squared (training)</th>\n",
       "      <th>Adjusted R-squared (training)</th>\n",
       "      <th>R-squared (test)</th>\n",
       "      <th>Adjusted R-squared (test)</th>\n",
       "      <th>5-Fold Cross Validation</th>\n",
       "    </tr>\n",
       "  </thead>\n",
       "  <tbody>\n",
       "    <tr>\n",
       "      <th>0</th>\n",
       "      <td>Multiple Regression-1P</td>\n",
       "      <td>2 features on Price</td>\n",
       "      <td>1347872.830</td>\n",
       "      <td>0.136</td>\n",
       "      <td>0.133</td>\n",
       "      <td>-0.161</td>\n",
       "      <td>-0.177</td>\n",
       "      <td>0.112</td>\n",
       "    </tr>\n",
       "    <tr>\n",
       "      <th>1</th>\n",
       "      <td>Multiple Regression-2P</td>\n",
       "      <td>2 features on Price</td>\n",
       "      <td>69582.114</td>\n",
       "      <td>0.955</td>\n",
       "      <td>0.955</td>\n",
       "      <td>0.943</td>\n",
       "      <td>0.942</td>\n",
       "      <td>0.950</td>\n",
       "    </tr>\n",
       "    <tr>\n",
       "      <th>2</th>\n",
       "      <td>Multiple Regression-3P</td>\n",
       "      <td>3 features on Price</td>\n",
       "      <td>69187.614</td>\n",
       "      <td>0.956</td>\n",
       "      <td>0.955</td>\n",
       "      <td>0.941</td>\n",
       "      <td>0.939</td>\n",
       "      <td>0.950</td>\n",
       "    </tr>\n",
       "    <tr>\n",
       "      <th>3</th>\n",
       "      <td>Multiple Regression-4P</td>\n",
       "      <td>3 features on Price</td>\n",
       "      <td>68574.098</td>\n",
       "      <td>0.956</td>\n",
       "      <td>0.956</td>\n",
       "      <td>0.941</td>\n",
       "      <td>0.940</td>\n",
       "      <td>0.950</td>\n",
       "    </tr>\n",
       "    <tr>\n",
       "      <th>4</th>\n",
       "      <td>Multiple Regression-5P</td>\n",
       "      <td>All features on Price</td>\n",
       "      <td>68173.398</td>\n",
       "      <td>0.956</td>\n",
       "      <td>0.956</td>\n",
       "      <td>0.942</td>\n",
       "      <td>0.939</td>\n",
       "      <td>0.950</td>\n",
       "    </tr>\n",
       "  </tbody>\n",
       "</table>\n",
       "</div>"
      ],
      "text/plain": [
       "                    Model                Details  Mean Squared Error (MSE)  \\\n",
       "0  Multiple Regression-1P    2 features on Price               1347872.830   \n",
       "1  Multiple Regression-2P    2 features on Price                 69582.114   \n",
       "2  Multiple Regression-3P    3 features on Price                 69187.614   \n",
       "3  Multiple Regression-4P    3 features on Price                 68574.098   \n",
       "4  Multiple Regression-5P  All features on Price                 68173.398   \n",
       "\n",
       "   R-squared (training)  Adjusted R-squared (training)  R-squared (test)  \\\n",
       "0                 0.136                          0.133            -0.161   \n",
       "1                 0.955                          0.955             0.943   \n",
       "2                 0.956                          0.955             0.941   \n",
       "3                 0.956                          0.956             0.941   \n",
       "4                 0.956                          0.956             0.942   \n",
       "\n",
       "   Adjusted R-squared (test)  5-Fold Cross Validation  \n",
       "0                     -0.177                    0.112  \n",
       "1                      0.942                    0.950  \n",
       "2                      0.939                    0.950  \n",
       "3                      0.940                    0.950  \n",
       "4                      0.939                    0.950  "
      ]
     },
     "execution_count": 368,
     "metadata": {},
     "output_type": "execute_result"
    }
   ],
   "source": [
    "evaluation"
   ]
  },
  {
   "cell_type": "code",
   "execution_count": 369,
   "metadata": {
    "colab": {
     "base_uri": "https://localhost:8080/",
     "height": 195
    },
    "id": "QIMqwjZeWOQM",
    "outputId": "51a6272f-343d-42f6-d134-93a0bc4107e0"
   },
   "outputs": [
    {
     "data": {
      "text/html": [
       "<div>\n",
       "<style scoped>\n",
       "    .dataframe tbody tr th:only-of-type {\n",
       "        vertical-align: middle;\n",
       "    }\n",
       "\n",
       "    .dataframe tbody tr th {\n",
       "        vertical-align: top;\n",
       "    }\n",
       "\n",
       "    .dataframe thead th {\n",
       "        text-align: right;\n",
       "    }\n",
       "</style>\n",
       "<table border=\"1\" class=\"dataframe\">\n",
       "  <thead>\n",
       "    <tr style=\"text-align: right;\">\n",
       "      <th></th>\n",
       "      <th>Model</th>\n",
       "      <th>Details</th>\n",
       "      <th>Mean Squared Error (MSE)</th>\n",
       "      <th>R-squared (training)</th>\n",
       "      <th>Adjusted R-squared (training)</th>\n",
       "      <th>R-squared (test)</th>\n",
       "      <th>Adjusted R-squared (test)</th>\n",
       "      <th>5-Fold Cross Validation</th>\n",
       "    </tr>\n",
       "  </thead>\n",
       "  <tbody>\n",
       "    <tr>\n",
       "      <th>0</th>\n",
       "      <td>Multiple Regression-1C</td>\n",
       "      <td>2 features on Cost</td>\n",
       "      <td>6748.842</td>\n",
       "      <td>0.744</td>\n",
       "      <td>0.743</td>\n",
       "      <td>0.779</td>\n",
       "      <td>0.776</td>\n",
       "      <td>0.743</td>\n",
       "    </tr>\n",
       "    <tr>\n",
       "      <th>1</th>\n",
       "      <td>Multiple Regression-2C</td>\n",
       "      <td>2 features on Cost</td>\n",
       "      <td>10491.562</td>\n",
       "      <td>0.602</td>\n",
       "      <td>0.600</td>\n",
       "      <td>0.626</td>\n",
       "      <td>0.620</td>\n",
       "      <td>0.612</td>\n",
       "    </tr>\n",
       "    <tr>\n",
       "      <th>2</th>\n",
       "      <td>Multiple Regression-3C</td>\n",
       "      <td>selected features</td>\n",
       "      <td>6720.566</td>\n",
       "      <td>0.745</td>\n",
       "      <td>0.743</td>\n",
       "      <td>0.781</td>\n",
       "      <td>0.775</td>\n",
       "      <td>0.742</td>\n",
       "    </tr>\n",
       "    <tr>\n",
       "      <th>3</th>\n",
       "      <td>Multiple Regression-4C</td>\n",
       "      <td>3 features on Price</td>\n",
       "      <td>9711.646</td>\n",
       "      <td>0.631</td>\n",
       "      <td>0.629</td>\n",
       "      <td>0.675</td>\n",
       "      <td>0.666</td>\n",
       "      <td>0.596</td>\n",
       "    </tr>\n",
       "    <tr>\n",
       "      <th>4</th>\n",
       "      <td>Multiple Regression-5C</td>\n",
       "      <td>All features on Price</td>\n",
       "      <td>9711.646</td>\n",
       "      <td>0.755</td>\n",
       "      <td>0.754</td>\n",
       "      <td>0.785</td>\n",
       "      <td>0.779</td>\n",
       "      <td>0.745</td>\n",
       "    </tr>\n",
       "  </tbody>\n",
       "</table>\n",
       "</div>"
      ],
      "text/plain": [
       "                    Model                Details  Mean Squared Error (MSE)  \\\n",
       "0  Multiple Regression-1C     2 features on Cost                  6748.842   \n",
       "1  Multiple Regression-2C     2 features on Cost                 10491.562   \n",
       "2  Multiple Regression-3C      selected features                  6720.566   \n",
       "3  Multiple Regression-4C    3 features on Price                  9711.646   \n",
       "4  Multiple Regression-5C  All features on Price                  9711.646   \n",
       "\n",
       "   R-squared (training)  Adjusted R-squared (training)  R-squared (test)  \\\n",
       "0                 0.744                          0.743             0.779   \n",
       "1                 0.602                          0.600             0.626   \n",
       "2                 0.745                          0.743             0.781   \n",
       "3                 0.631                          0.629             0.675   \n",
       "4                 0.755                          0.754             0.785   \n",
       "\n",
       "   Adjusted R-squared (test)  5-Fold Cross Validation  \n",
       "0                      0.776                    0.743  \n",
       "1                      0.620                    0.612  \n",
       "2                      0.775                    0.742  \n",
       "3                      0.666                    0.596  \n",
       "4                      0.779                    0.745  "
      ]
     },
     "execution_count": 369,
     "metadata": {},
     "output_type": "execute_result"
    }
   ],
   "source": [
    "evaluation_C"
   ]
  },
  {
   "cell_type": "markdown",
   "metadata": {},
   "source": [
    "Based on *evaluation* (evaluation of mulitvariate regression models on sale prices) and *evaluation_C* (evaluation of multivariate regression models on construction cost) dataframes, the 5-Fold Cross Validation values showe that most of the models are reliable, except for the Multiple Regression-P1(MM1_P). All multivariate models are as good as the best ultivariate model(Model 3) on sale price. "
   ]
  },
  {
   "cell_type": "markdown",
   "metadata": {
    "id": "ST0t2kQH85WS"
   },
   "source": [
    "# Conclusion"
   ]
  },
  {
   "cell_type": "markdown",
   "metadata": {},
   "source": [
    "The models the research adopted here well answered the research questions. **Price of the unit at the beginning of the project per m^2 affected the sale price and actual construction price the most.** Model 3 and Model 4 (price of Unit at Beginning of Project per m ^2(V8) VS. sale price, and V8 VS. construction cost) had very low MSE value in both testing and training sets. Model 3 and Model 4 had low MSE value compared to others’.  Thus, overfitting was excluded from Model 3 and Model 4 since the testing set also got very low MSE value. Moreover, the combination of the variables showed stronger linear relationship with the price and construction cost than single variables. Although some single variables, such as the Price of Unit at Beginning of Project per m ^2(V8), could well predict the sale price alone, not all studied variables in the dataframe were able to predict the price and cost by themselves using regression analysis. \n",
    "\n",
    "**The further result concluded from the experiment was that the multivariate regression was more reliable when predicting both housing sale price and construction cost in general, even though some univariate model(V8) showed high reliability in predicting the price.**\n",
    "MSE bar graphs on both price and cost demonstrated that: compared to the univariate linear regression models, the multivariate linear regression models on price and cost were significantly better than the models using single variables, except for the model 3, which was almost as good as the multivariate ones. \n",
    "\n",
    "The polynomial regression on one variable was adopted here to extensively explore the relationship between the independent variable and the dependent one. The resulting MSE graphs of polynomial regression of degree 2 showed a very similar pattern as the univariate regression model of degree one.Here,the inference was that higher degree of univariate polynomial regression models would not have significant improvement in prediction accuracy though they displayed some optimization. \n",
    "\n",
    "For further improvement, the students could try to explore the best multivariate regression model they could get for the actual sale price and construction cost. Another possible addition could be to consider the time change of cpi and population change during the construction of housing, which required more complex models, since the original dataset had data for five different time ranges.   \n",
    "\n",
    "\n",
    "\n",
    "\n",
    "\n",
    "\n"
   ]
  },
  {
   "cell_type": "markdown",
   "metadata": {},
   "source": [
    "# Reference\n",
    "http://archive.ics.uci.edu/ml/datasets/Residential+Building+Data+Set"
   ]
  },
  {
   "cell_type": "code",
   "execution_count": null,
   "metadata": {},
   "outputs": [],
   "source": []
  }
 ],
 "metadata": {
  "colab": {
   "collapsed_sections": [
    "OZKf49ND4mRD"
   ],
   "name": "Cogs109 Final Project G5.ipynb",
   "provenance": [],
   "toc_visible": true
  },
  "kernelspec": {
   "display_name": "Python 3",
   "language": "python",
   "name": "python3"
  },
  "language_info": {
   "codemirror_mode": {
    "name": "ipython",
    "version": 3
   },
   "file_extension": ".py",
   "mimetype": "text/x-python",
   "name": "python",
   "nbconvert_exporter": "python",
   "pygments_lexer": "ipython3",
   "version": "3.6.7"
  },
  "toc": {
   "base_numbering": 1,
   "nav_menu": {},
   "number_sections": true,
   "sideBar": true,
   "skip_h1_title": false,
   "title_cell": "Table of Contents",
   "title_sidebar": "Contents",
   "toc_cell": false,
   "toc_position": {},
   "toc_section_display": true,
   "toc_window_display": false
  },
  "varInspector": {
   "cols": {
    "lenName": 16,
    "lenType": 16,
    "lenVar": 40
   },
   "kernels_config": {
    "python": {
     "delete_cmd_postfix": "",
     "delete_cmd_prefix": "del ",
     "library": "var_list.py",
     "varRefreshCmd": "print(var_dic_list())"
    },
    "r": {
     "delete_cmd_postfix": ") ",
     "delete_cmd_prefix": "rm(",
     "library": "var_list.r",
     "varRefreshCmd": "cat(var_dic_list()) "
    }
   },
   "types_to_exclude": [
    "module",
    "function",
    "builtin_function_or_method",
    "instance",
    "_Feature"
   ],
   "window_display": false
  }
 },
 "nbformat": 4,
 "nbformat_minor": 1
}
